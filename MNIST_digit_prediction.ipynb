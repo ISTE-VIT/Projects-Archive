{
  "nbformat": 4,
  "nbformat_minor": 0,
  "metadata": {
    "colab": {
      "name": "MNIST digit prediction.ipynb",
      "provenance": []
    },
    "kernelspec": {
      "name": "python3",
      "display_name": "Python 3"
    },
    "language_info": {
      "name": "python"
    }
  },
  "cells": [
    {
      "cell_type": "markdown",
      "metadata": {
        "id": "6699a5Ug-EwC"
      },
      "source": [
        "**Installing packages**"
      ]
    },
    {
      "cell_type": "code",
      "metadata": {
        "colab": {
          "base_uri": "https://localhost:8080/"
        },
        "id": "04WZoANV80iX",
        "outputId": "5f689636-2682-4cbd-d942-a1f17eba6dd8"
      },
      "source": [
        "pip install np_utils"
      ],
      "execution_count": null,
      "outputs": [
        {
          "output_type": "stream",
          "text": [
            "Collecting np_utils\n",
            "\u001b[?25l  Downloading https://files.pythonhosted.org/packages/b6/18/5704a782fd72727a9e63198fcc76fadb86975f45bcdf579c10f668329508/np_utils-0.5.12.1.tar.gz (61kB)\n",
            "\r\u001b[K     |█████▍                          | 10kB 11.7MB/s eta 0:00:01\r\u001b[K     |██████████▊                     | 20kB 17.0MB/s eta 0:00:01\r\u001b[K     |████████████████                | 30kB 11.2MB/s eta 0:00:01\r\u001b[K     |█████████████████████▍          | 40kB 8.7MB/s eta 0:00:01\r\u001b[K     |██████████████████████████▊     | 51kB 9.0MB/s eta 0:00:01\r\u001b[K     |████████████████████████████████| 61kB 4.2MB/s \n",
            "\u001b[?25hRequirement already satisfied: numpy>=1.0 in /usr/local/lib/python3.7/dist-packages (from np_utils) (1.19.5)\n",
            "Requirement already satisfied: future>=0.16 in /usr/local/lib/python3.7/dist-packages (from np_utils) (0.16.0)\n",
            "Building wheels for collected packages: np-utils\n",
            "  Building wheel for np-utils (setup.py) ... \u001b[?25l\u001b[?25hdone\n",
            "  Created wheel for np-utils: filename=np_utils-0.5.12.1-cp37-none-any.whl size=57133 sha256=fec44c94fa05e703f2cd1ea1098c6946c90a63d8ab04140692fe8d2f2f5bf854\n",
            "  Stored in directory: /root/.cache/pip/wheels/92/4b/81/206efd0d01330a96f3aebe5021d2d5f0b264b7ade827c306ef\n",
            "Successfully built np-utils\n",
            "Installing collected packages: np-utils\n",
            "Successfully installed np-utils-0.5.12.1\n"
          ],
          "name": "stdout"
        }
      ]
    },
    {
      "cell_type": "markdown",
      "metadata": {
        "id": "WRqssbfq-X6l"
      },
      "source": [
        "**Importing required libraries**"
      ]
    },
    {
      "cell_type": "code",
      "metadata": {
        "colab": {
          "base_uri": "https://localhost:8080/"
        },
        "id": "7tB_i-mp8jNq",
        "outputId": "91e6536c-618f-4bae-ebdf-920e23a4e639"
      },
      "source": [
        "from keras.datasets import mnist\n",
        "from keras.models import Sequential \n",
        "from keras.layers.core import Dense, Activation\n",
        "from keras.utils import np_utils\n",
        "(X_train, Y_train), (X_test, Y_test) = mnist.load_data()"
      ],
      "execution_count": null,
      "outputs": [
        {
          "output_type": "stream",
          "text": [
            "Downloading data from https://storage.googleapis.com/tensorflow/tf-keras-datasets/mnist.npz\n",
            "11493376/11490434 [==============================] - 0s 0us/step\n",
            "11501568/11490434 [==============================] - 0s 0us/step\n"
          ],
          "name": "stdout"
        }
      ]
    },
    {
      "cell_type": "markdown",
      "metadata": {
        "id": "ibF5L4i2-iZ6"
      },
      "source": [
        "**Preprocessing**"
      ]
    },
    {
      "cell_type": "code",
      "metadata": {
        "colab": {
          "base_uri": "https://localhost:8080/",
          "height": 129
        },
        "id": "a6JDXqcm9GKJ",
        "outputId": "3ef2dc68-cb4a-4054-877d-1105f9587a60"
      },
      "source": [
        "import matplotlib.pyplot as plt\n",
        "n = 10  # how many digits we will display\n",
        "plt.figure(figsize=(20, 4))\n",
        "for i in range(n):\n",
        "    # display original\n",
        "    ax = plt.subplot(2, n, i + 1)\n",
        "    plt.imshow(X_test[i].reshape(28, 28))\n",
        "    plt.gray()\n",
        "    ax.get_xaxis().set_visible(False)\n",
        "    ax.get_yaxis().set_visible(False)\n",
        "plt.show()\n",
        "plt.close()"
      ],
      "execution_count": null,
      "outputs": [
        {
          "output_type": "display_data",
          "data": {
            "image/png": "[encoded data removed]",
            "text/plain": [
              "<Figure size 1440x288 with 10 Axes>"
            ]
          },
          "metadata": {
            "tags": [],
            "needs_background": "light"
          }
        }
      ]
    },
    {
      "cell_type": "markdown",
      "metadata": {
        "id": "vIw8iccC-pLL"
      },
      "source": [
        "**Separating into training and testing data**"
      ]
    },
    {
      "cell_type": "code",
      "metadata": {
        "colab": {
          "base_uri": "https://localhost:8080/"
        },
        "id": "EvS_XGc_9KJM",
        "outputId": "83e45f10-92f0-4dab-844f-ec4c1ceaec57"
      },
      "source": [
        "print(\"Previous X_train shape: {} \\nPrevious Y_train shape:{}\".format(X_train.shape, Y_train.shape))\n",
        "X_train = X_train.reshape(60000, 784)     \n",
        "X_test = X_test.reshape(10000, 784)\n",
        "X_train = X_train.astype('float32')     \n",
        "X_test = X_test.astype('float32')     \n",
        "X_train /= 255    \n",
        "X_test /= 255\n",
        "classes = 10\n",
        "Y_train = np_utils.to_categorical(Y_train, classes)     \n",
        "Y_test = np_utils.to_categorical(Y_test, classes)\n",
        "print(\"New X_train shape: {} \\nNew Y_train shape:{}\".format(X_train.shape, Y_train.shape))"
      ],
      "execution_count": null,
      "outputs": [
        {
          "output_type": "stream",
          "text": [
            "Previous X_train shape: (60000, 28, 28) \n",
            "Previous Y_train shape:(60000,)\n",
            "New X_train shape: (60000, 784) \n",
            "New Y_train shape:(60000, 10)\n"
          ],
          "name": "stdout"
        }
      ]
    },
    {
      "cell_type": "markdown",
      "metadata": {
        "id": "_0ONzJ2g_AVa"
      },
      "source": [
        "**Defining Parameters**"
      ]
    },
    {
      "cell_type": "code",
      "metadata": {
        "id": "13Ld8yVi9S3h"
      },
      "source": [
        "input_size = 784\n",
        "batch_size = 200   \n",
        "hidden1 = 400\n",
        "hidden2 = 20\n",
        "epochs = 2"
      ],
      "execution_count": null,
      "outputs": []
    },
    {
      "cell_type": "markdown",
      "metadata": {
        "id": "ZHgJckt7_HMc"
      },
      "source": [
        "**Building the model**"
      ]
    },
    {
      "cell_type": "code",
      "metadata": {
        "colab": {
          "base_uri": "https://localhost:8080/"
        },
        "id": "6yroh0Rt9X7S",
        "outputId": "d73fd413-d221-4109-c10c-07cc5b052451"
      },
      "source": [
        "model = Sequential()     \n",
        "model.add(Dense(hidden1, input_dim=input_size, activation='relu'))\n",
        "# output = relu (dot (W, input) + bias)\n",
        "model.add(Dense(hidden2, activation='relu'))\n",
        "model.add(Dense(classes, activation='softmax')) \n",
        "\n",
        "# Compilation\n",
        "model.compile(loss='categorical_crossentropy', \n",
        "    metrics=['accuracy'], optimizer='sgd')\n",
        "model.summary()"
      ],
      "execution_count": null,
      "outputs": [
        {
          "output_type": "stream",
          "text": [
            "Model: \"sequential\"\n",
            "_________________________________________________________________\n",
            "Layer (type)                 Output Shape              Param #   \n",
            "=================================================================\n",
            "dense (Dense)                (None, 400)               314000    \n",
            "_________________________________________________________________\n",
            "dense_1 (Dense)              (None, 20)                8020      \n",
            "_________________________________________________________________\n",
            "dense_2 (Dense)              (None, 10)                210       \n",
            "=================================================================\n",
            "Total params: 322,230\n",
            "Trainable params: 322,230\n",
            "Non-trainable params: 0\n",
            "_________________________________________________________________\n"
          ],
          "name": "stdout"
        }
      ]
    },
    {
      "cell_type": "markdown",
      "metadata": {
        "id": "pDHt5N4-_QJ3"
      },
      "source": [
        "**Training**"
      ]
    },
    {
      "cell_type": "code",
      "metadata": {
        "colab": {
          "base_uri": "https://localhost:8080/"
        },
        "id": "qE9FXaNn9aUH",
        "outputId": "724fae68-23bb-444c-baa8-13b6b3e5da0d"
      },
      "source": [
        "# Fitting on Data\n",
        "model.fit(X_train, Y_train, batch_size=batch_size, epochs=10, verbose=2)"
      ],
      "execution_count": null,
      "outputs": [
        {
          "output_type": "stream",
          "text": [
            "Epoch 1/10\n",
            "300/300 - 17s - loss: 1.4985 - accuracy: 0.5927\n",
            "Epoch 2/10\n",
            "300/300 - 2s - loss: 0.6809 - accuracy: 0.8328\n",
            "Epoch 3/10\n",
            "300/300 - 2s - loss: 0.4791 - accuracy: 0.8745\n",
            "Epoch 4/10\n",
            "300/300 - 2s - loss: 0.4021 - accuracy: 0.8906\n",
            "Epoch 5/10\n",
            "300/300 - 2s - loss: 0.3611 - accuracy: 0.9001\n",
            "Epoch 6/10\n",
            "300/300 - 2s - loss: 0.3341 - accuracy: 0.9058\n",
            "Epoch 7/10\n",
            "300/300 - 2s - loss: 0.3142 - accuracy: 0.9109\n",
            "Epoch 8/10\n",
            "300/300 - 2s - loss: 0.2982 - accuracy: 0.9146\n",
            "Epoch 9/10\n",
            "300/300 - 2s - loss: 0.2847 - accuracy: 0.9194\n",
            "Epoch 10/10\n",
            "300/300 - 2s - loss: 0.2733 - accuracy: 0.9224\n"
          ],
          "name": "stdout"
        },
        {
          "output_type": "execute_result",
          "data": {
            "text/plain": [
              "<keras.callbacks.History at 0x7fd45e2dd590>"
            ]
          },
          "metadata": {
            "tags": []
          },
          "execution_count": 9
        }
      ]
    },
    {
      "cell_type": "markdown",
      "metadata": {
        "id": "YjJSfDGg_TiW"
      },
      "source": [
        "**Testing**"
      ]
    },
    {
      "cell_type": "code",
      "metadata": {
        "colab": {
          "base_uri": "https://localhost:8080/",
          "height": 255
        },
        "id": "k-4HGLlx9qWo",
        "outputId": "94f0914b-2554-4ce0-acf4-8505e26a6deb"
      },
      "source": [
        "score = model.evaluate(X_test, Y_test, verbose=1)\n",
        "print('\\n''Test accuracy:', score[1])\n",
        "mask = range(10,20)\n",
        "X_valid = X_test[mask]\n",
        "y_pred = model.predict_classes(X_valid)\n",
        "print(y_pred)\n",
        "plt.figure(figsize=(20, 4))\n",
        "for i in range(n):\n",
        "    # display original\n",
        "    ax = plt.subplot(2, n, i + 1)\n",
        "    plt.imshow(X_valid[i].reshape(28, 28))\n",
        "    plt.gray()\n",
        "    ax.get_xaxis().set_visible(False)\n",
        "    ax.get_yaxis().set_visible(False)\n",
        "plt.show()\n",
        "plt.close()"
      ],
      "execution_count": null,
      "outputs": [
        {
          "output_type": "stream",
          "text": [
            "313/313 [==============================] - 1s 3ms/step - loss: 0.2595 - accuracy: 0.9260\n",
            "\n",
            "Test accuracy: 0.9259999990463257\n"
          ],
          "name": "stdout"
        },
        {
          "output_type": "stream",
          "text": [
            "/usr/local/lib/python3.7/dist-packages/keras/engine/sequential.py:450: UserWarning: `model.predict_classes()` is deprecated and will be removed after 2021-01-01. Please use instead:* `np.argmax(model.predict(x), axis=-1)`,   if your model does multi-class classification   (e.g. if it uses a `softmax` last-layer activation).* `(model.predict(x) > 0.5).astype(\"int32\")`,   if your model does binary classification   (e.g. if it uses a `sigmoid` last-layer activation).\n",
            "  warnings.warn('`model.predict_classes()` is deprecated and '\n"
          ],
          "name": "stderr"
        },
        {
          "output_type": "stream",
          "text": [
            "[0 6 9 0 1 5 9 7 3 4]\n"
          ],
          "name": "stdout"
        },
        {
          "output_type": "display_data",
          "data": {
            "image/png": "[encoded data removed]",
            "text/plain": [
              "<Figure size 1440x288 with 10 Axes>"
            ]
          },
          "metadata": {
            "tags": [],
            "needs_background": "light"
          }
        }
      ]
    },
    {
      "cell_type": "markdown",
      "metadata": {
        "id": "_JGX5Gib_XPm"
      },
      "source": [
        "The model predicted the digits with the test accuracy of 92.6%"
      ]
    }
  ]
}