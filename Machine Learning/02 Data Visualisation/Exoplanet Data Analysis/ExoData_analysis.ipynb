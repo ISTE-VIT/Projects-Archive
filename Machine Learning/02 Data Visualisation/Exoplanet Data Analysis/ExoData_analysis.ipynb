{
 "cells": [
  {
   "cell_type": "markdown",
   "metadata": {},
   "source": [
    "###**importing ExoData package**"
   ]
  },
  {
   "cell_type": "code",
   "execution_count": 1,
   "metadata": {},
   "outputs": [],
   "source": [
    "import sys"
   ]
  },
  {
   "cell_type": "code",
   "execution_count": 2,
   "metadata": {},
   "outputs": [
    {
     "name": "stdout",
     "output_type": "stream",
     "text": [
      "Collecting exodata\n",
      "  Using cached exodata-2.1.7.tar.gz (572 kB)\n",
      "Requirement already satisfied: numpy in c:\\python39\\lib\\site-packages (from exodata) (1.19.4)\n",
      "Collecting quantities\n",
      "  Downloading quantities-0.12.5.tar.gz (85 kB)\n",
      "Collecting nose>=1.0\n",
      "  Downloading nose-1.3.7-py3-none-any.whl (154 kB)\n",
      "Collecting matplotlib>=1.3.1\n",
      "  Downloading matplotlib-3.4.3-cp39-cp39-win_amd64.whl (7.1 MB)\n",
      "Requirement already satisfied: requests in c:\\python39\\lib\\site-packages (from exodata) (2.25.0)\n",
      "Collecting astropy\n",
      "  Downloading astropy-4.3.1-cp39-cp39-win_amd64.whl (6.4 MB)\n",
      "Collecting seaborn\n",
      "  Downloading seaborn-0.11.2-py3-none-any.whl (292 kB)\n",
      "Requirement already satisfied: pandas in c:\\python39\\lib\\site-packages (from exodata) (1.1.4)\n",
      "Collecting cycler>=0.10\n",
      "  Downloading cycler-0.11.0-py3-none-any.whl (6.4 kB)\n",
      "Requirement already satisfied: python-dateutil>=2.7 in c:\\python39\\lib\\site-packages (from matplotlib>=1.3.1->exodata) (2.8.1)\n",
      "Collecting pillow>=6.2.0\n",
      "  Downloading Pillow-8.4.0-cp39-cp39-win_amd64.whl (3.2 MB)\n",
      "Collecting pyparsing>=2.2.1\n",
      "  Downloading pyparsing-3.0.4-py3-none-any.whl (96 kB)\n",
      "Collecting kiwisolver>=1.0.1\n",
      "  Downloading kiwisolver-1.3.2-cp39-cp39-win_amd64.whl (52 kB)\n",
      "Requirement already satisfied: six>=1.5 in c:\\python39\\lib\\site-packages (from python-dateutil>=2.7->matplotlib>=1.3.1->exodata) (1.15.0)\n",
      "Collecting pyerfa>=1.7.3\n",
      "  Downloading pyerfa-2.0.0-cp39-cp39-win_amd64.whl (366 kB)\n",
      "Requirement already satisfied: pytz>=2017.2 in c:\\python39\\lib\\site-packages (from pandas->exodata) (2020.4)\n",
      "Requirement already satisfied: certifi>=2017.4.17 in c:\\python39\\lib\\site-packages (from requests->exodata) (2020.11.8)\n",
      "Requirement already satisfied: chardet<4,>=3.0.2 in c:\\python39\\lib\\site-packages (from requests->exodata) (3.0.4)\n",
      "Requirement already satisfied: urllib3<1.27,>=1.21.1 in c:\\python39\\lib\\site-packages (from requests->exodata) (1.26.2)\n",
      "Requirement already satisfied: idna<3,>=2.5 in c:\\python39\\lib\\site-packages (from requests->exodata) (2.10)\n",
      "Collecting scipy>=1.0\n",
      "  Downloading scipy-1.7.1-cp39-cp39-win_amd64.whl (33.8 MB)\n",
      "Building wheels for collected packages: exodata, quantities\n",
      "  Building wheel for exodata (setup.py): started\n",
      "  Building wheel for exodata (setup.py): finished with status 'done'\n",
      "  Created wheel for exodata: filename=exodata-2.1.7-py3-none-any.whl size=582229 sha256=7e893028f62a9e99fa88ae1ce93a247af8cb0ebd553a6fc2013de52d932920ae\n",
      "  Stored in directory: c:\\users\\rashi maru\\appdata\\local\\pip\\cache\\wheels\\d8\\2e\\8b\\a149b0bf609a2a516a3dee6149cc0085d88d796665374113a5\n",
      "  Building wheel for quantities (setup.py): started\n",
      "  Building wheel for quantities (setup.py): finished with status 'done'\n",
      "  Created wheel for quantities: filename=quantities-0.12.5-py3-none-any.whl size=80147 sha256=5b6581841a0c0aa187ab18471b5fb90fc1666cec8af9258637b1c08d5d732011\n",
      "  Stored in directory: c:\\users\\rashi maru\\appdata\\local\\pip\\cache\\wheels\\8a\\23\\94\\be6018109aebf57f009f69fbe1433c9f11f77ab2176f3c5a00\n",
      "Successfully built exodata quantities\n",
      "Installing collected packages: pyparsing, pillow, kiwisolver, cycler, scipy, pyerfa, matplotlib, seaborn, quantities, nose, astropy, exodata\n",
      "Successfully installed astropy-4.3.1 cycler-0.11.0 exodata-2.1.7 kiwisolver-1.3.2 matplotlib-3.4.3 nose-1.3.7 pillow-8.4.0 pyerfa-2.0.0 pyparsing-3.0.4 quantities-0.12.5 scipy-1.7.1 seaborn-0.11.2\n"
     ]
    },
    {
     "name": "stderr",
     "output_type": "stream",
     "text": [
      "WARNING: You are using pip version 21.0.1; however, version 21.3.1 is available.\n",
      "You should consider upgrading via the 'c:\\python39\\python.exe -m pip install --upgrade pip' command.\n"
     ]
    }
   ],
   "source": [
    "! pip install exodata"
   ]
  },
  {
   "cell_type": "code",
   "execution_count": 3,
   "metadata": {},
   "outputs": [
    {
     "name": "stderr",
     "output_type": "stream",
     "text": [
      "WARNING: IllegalSecondWarning: 'second' was found  to be '60', which is not in range [0,60). Treating as 0 sec, +1 min [astropy.coordinates.angle_formats]\n"
     ]
    },
    {
     "name": "stdout",
     "output_type": "stream",
     "text": [
      "rejected duplicate satellite: \n",
      "\t\t\t\t in Jupiter\n",
      "rejected duplicate satellite: \n",
      "\t\t\t\t in Jupiter\n",
      "rejected duplicate satellite: \n",
      "\t\t\t\t in Jupiter\n",
      "rejected duplicate satellite: \n",
      "\t\t\t\t in Saturn\n",
      "rejected duplicate satellite: \n",
      "\t\t\t\t in Saturn\n",
      "rejected duplicate satellite: \n",
      "\t\t\t\t in Saturn\n",
      "rejected duplicate satellite: \n",
      "\t\t\t\t in Saturn\n",
      "rejected duplicate satellite: \n",
      "\t\t\t\t in Saturn\n",
      "rejected duplicate satellite: \n",
      "\t\t\t\t in Uranus\n",
      "rejected duplicate satellite: \n",
      "\t\t\t\t in Uranus\n",
      "rejected duplicate satellite: \n",
      "\t\t\t\t in Uranus\n",
      "rejected duplicate satellite: \n",
      "\t\t\t\t in Uranus\n"
     ]
    }
   ],
   "source": [
    "import exodata\n",
    "#this is mandatory to run to load the data in a variable exocat; then objects can be accessed with this variable\n",
    "exocat = exodata.load_db_from_url()"
   ]
  },
  {
   "cell_type": "markdown",
   "metadata": {},
   "source": [
    "##**Using a variable \"exocat\" that will help us to use methods present in ExoData**"
   ]
  },
  {
   "cell_type": "code",
   "execution_count": 4,
   "metadata": {},
   "outputs": [
    {
     "data": {
      "text/plain": [
       "Planet('Gliese 1214 b')"
      ]
     },
     "execution_count": 4,
     "metadata": {},
     "output_type": "execute_result"
    }
   ],
   "source": [
    "exocat.planetDict[\"Gliese 1214 b\"]  #To retrieve a particular planet by giving the exact name"
   ]
  },
  {
   "cell_type": "code",
   "execution_count": 5,
   "metadata": {},
   "outputs": [
    {
     "data": {
      "text/plain": [
       "Planet('Gliese 1214 b')"
      ]
     },
     "execution_count": 5,
     "metadata": {},
     "output_type": "execute_result"
    }
   ],
   "source": [
    "exocat.searchPlanet(\"gj1214b\")   #To retrieve a particular planet by searching"
   ]
  },
  {
   "cell_type": "markdown",
   "metadata": {},
   "source": [
    "##**Traverse the hierarchy for the planet- parent, star, system**"
   ]
  },
  {
   "cell_type": "code",
   "execution_count": 6,
   "metadata": {},
   "outputs": [
    {
     "data": {
      "text/plain": [
       "Planet('Kepler-10 c')"
      ]
     },
     "execution_count": 6,
     "metadata": {},
     "output_type": "execute_result"
    }
   ],
   "source": [
    "kepler10c = exocat.planetDict[\"Kepler-10 c\"]\n",
    "kepler10c"
   ]
  },
  {
   "cell_type": "code",
   "execution_count": 7,
   "metadata": {},
   "outputs": [
    {
     "data": {
      "text/plain": [
       "Star('Kepler-10')"
      ]
     },
     "execution_count": 7,
     "metadata": {},
     "output_type": "execute_result"
    }
   ],
   "source": [
    "kepler10c.parent"
   ]
  },
  {
   "cell_type": "code",
   "execution_count": 8,
   "metadata": {},
   "outputs": [
    {
     "data": {
      "text/plain": [
       "Star('Kepler-10')"
      ]
     },
     "execution_count": 8,
     "metadata": {},
     "output_type": "execute_result"
    }
   ],
   "source": [
    "kepler10 = kepler10c.star\n",
    "kepler10"
   ]
  },
  {
   "cell_type": "code",
   "execution_count": 9,
   "metadata": {},
   "outputs": [
    {
     "data": {
      "text/plain": [
       "System('Kepler-10')"
      ]
     },
     "execution_count": 9,
     "metadata": {},
     "output_type": "execute_result"
    }
   ],
   "source": [
    "kepler10c.system"
   ]
  },
  {
   "cell_type": "code",
   "execution_count": 10,
   "metadata": {},
   "outputs": [
    {
     "data": {
      "text/plain": [
       "[Planet('Kepler-10 b'), Planet('Kepler-10 c'), Planet('KOI-72.X')]"
      ]
     },
     "execution_count": 10,
     "metadata": {},
     "output_type": "execute_result"
    }
   ],
   "source": [
    "kepler10.planets  #Kepler-10: The planetary system Kepler-10 hosts at least 3 planets"
   ]
  },
  {
   "cell_type": "markdown",
   "metadata": {},
   "source": [
    "##**Retrieving Values: With an object selected we can query information from the database**"
   ]
  },
  {
   "cell_type": "code",
   "execution_count": 11,
   "metadata": {},
   "outputs": [
    {
     "data": {
      "text/plain": [
       "Planet('GJ 1252 b')"
      ]
     },
     "execution_count": 11,
     "metadata": {},
     "output_type": "execute_result"
    }
   ],
   "source": [
    "gj1252b = exocat.planetDict[\"GJ 1252 b\"]\n",
    "gj1252b"
   ]
  },
  {
   "cell_type": "code",
   "execution_count": 12,
   "metadata": {},
   "outputs": [
    {
     "name": "stdout",
     "output_type": "stream",
     "text": [
      "0.106 R_j\n"
     ]
    }
   ],
   "source": [
    "print (gj1252b.R)  # planetary radius; unit: Radius Jupiter "
   ]
  },
  {
   "cell_type": "code",
   "execution_count": 13,
   "metadata": {},
   "outputs": [
    {
     "name": "stdout",
     "output_type": "stream",
     "text": [
      "0.00916 au\n"
     ]
    }
   ],
   "source": [
    "print (gj1252b.a)  # orbit semi-major axis; unit: astronomical unit"
   ]
  },
  {
   "cell_type": "code",
   "execution_count": 14,
   "metadata": {},
   "outputs": [
    {
     "name": "stdout",
     "output_type": "stream",
     "text": [
      "0.38 M_s\n"
     ]
    }
   ],
   "source": [
    "print (gj1252b.star.M)  # stellar mass of host star; unit: solar mass"
   ]
  },
  {
   "cell_type": "markdown",
   "metadata": {},
   "source": [
    "##**The returned values are Product Quantities objects that act like floats or more precisely a single value numpy array but with a few extra features such as unit rescaling and dimensionality checking**"
   ]
  },
  {
   "cell_type": "code",
   "execution_count": 15,
   "metadata": {},
   "outputs": [],
   "source": [
    "import exodata.astroquantities as aq"
   ]
  },
  {
   "cell_type": "code",
   "execution_count": 16,
   "metadata": {},
   "outputs": [
    {
     "name": "stdout",
     "output_type": "stream",
     "text": [
      "1.1631715586250198 R_e\n"
     ]
    }
   ],
   "source": [
    "print (gj1252b.R.rescale(aq.R_e))  # rescale to earth radius- R_e"
   ]
  },
  {
   "cell_type": "code",
   "execution_count": 17,
   "metadata": {},
   "outputs": [
    {
     "name": "stdout",
     "output_type": "stream",
     "text": [
      "0.062075471698113206 M_j/R_j\n"
     ]
    }
   ],
   "source": [
    "print (gj1252b.M / gj1252b.R)  # mass / radius ratio"
   ]
  },
  {
   "cell_type": "markdown",
   "metadata": {},
   "source": [
    "##**Directly calling some equations from the exodata.equations module with the variables pre-filled**"
   ]
  },
  {
   "cell_type": "code",
   "execution_count": 18,
   "metadata": {},
   "outputs": [
    {
     "name": "stdout",
     "output_type": "stream",
     "text": [
      "7.328525818557109 g/cm**3\n"
     ]
    }
   ],
   "source": [
    "print (gj1252b.calcDensity())"
   ]
  },
  {
   "cell_type": "code",
   "execution_count": 19,
   "metadata": {},
   "outputs": [
    {
     "name": "stdout",
     "output_type": "stream",
     "text": [
      "1091.002413148085 K\n"
     ]
    }
   ],
   "source": [
    "print (gj1252b.calcTemperature())"
   ]
  },
  {
   "cell_type": "code",
   "execution_count": 20,
   "metadata": {},
   "outputs": [
    {
     "data": {
      "text/plain": [
       "Planet('HAT-P-36 b')"
      ]
     },
     "execution_count": 20,
     "metadata": {},
     "output_type": "execute_result"
    }
   ],
   "source": [
    "hatp36b = exocat.planetDict[\"HAT-P-36 b\"]\n",
    "hatp36b "
   ]
  },
  {
   "cell_type": "code",
   "execution_count": 21,
   "metadata": {},
   "outputs": [
    {
     "data": {
      "text/plain": [
       "Planet('WASP-118 b')"
      ]
     },
     "execution_count": 21,
     "metadata": {},
     "output_type": "execute_result"
    }
   ],
   "source": [
    "wasp118b = exocat.planetDict[\"WASP-118 b\"]\n",
    "wasp118b"
   ]
  },
  {
   "cell_type": "code",
   "execution_count": 22,
   "metadata": {},
   "outputs": [
    {
     "data": {
      "text/plain": [
       "array(1.44) * R_j"
      ]
     },
     "execution_count": 22,
     "metadata": {},
     "output_type": "execute_result"
    }
   ],
   "source": [
    "wasp118b.R"
   ]
  },
  {
   "cell_type": "code",
   "execution_count": 23,
   "metadata": {},
   "outputs": [
    {
     "data": {
      "text/plain": [
       "Star('WASP-118')"
      ]
     },
     "execution_count": 23,
     "metadata": {},
     "output_type": "execute_result"
    }
   ],
   "source": [
    "wasp118=wasp118b.star\n",
    "wasp118"
   ]
  },
  {
   "cell_type": "code",
   "execution_count": 25,
   "metadata": {},
   "outputs": [
    {
     "data": {
      "text/plain": [
       "Planet('WASP-118 b')"
      ]
     },
     "execution_count": 25,
     "metadata": {},
     "output_type": "execute_result"
    }
   ],
   "source": [
    "wasp118b = exocat.planetDict[\"WASP-118 b\"]\n",
    "wasp118b"
   ]
  },
  {
   "cell_type": "code",
   "execution_count": 26,
   "metadata": {},
   "outputs": [
    {
     "data": {
      "text/plain": [
       "Star('WASP-118')"
      ]
     },
     "execution_count": 26,
     "metadata": {},
     "output_type": "execute_result"
    }
   ],
   "source": [
    "wasp118bstar=wasp118b.star\n",
    "wasp118bstar"
   ]
  },
  {
   "cell_type": "code",
   "execution_count": 27,
   "metadata": {},
   "outputs": [
    {
     "data": {
      "text/plain": [
       "array(290.82028204) * min"
      ]
     },
     "execution_count": 27,
     "metadata": {},
     "output_type": "execute_result"
    }
   ],
   "source": [
    "#The total transit duration,defined as the time during which any part of the planet obscures the disc of the star, depends\n",
    "#on how the planet transits the host star. If the exoplanet crosses the centre of the stellar disc (b=0), the transit duration\n",
    "#is the longest and with b!=0 signifying a shorter transit duration.\n",
    "wasp118ct=wasp118b.calcTransitDuration(circular=True) \n",
    "wasp118ct"
   ]
  },
  {
   "cell_type": "code",
   "execution_count": 28,
   "metadata": {},
   "outputs": [
    {
     "data": {
      "text/plain": [
       "array(1.0067184e+08) * m"
      ]
     },
     "execution_count": 28,
     "metadata": {},
     "output_type": "execute_result"
    }
   ],
   "source": [
    "wasp118b.R.rescale(aq.m)"
   ]
  },
  {
   "cell_type": "code",
   "execution_count": 29,
   "metadata": {},
   "outputs": [
    {
     "data": {
      "text/latex": [
       "$2^\\circ42{}^\\prime10.2512{}^{\\prime\\prime}$"
      ],
      "text/plain": [
       "<Latitude 2.70284756 deg>"
      ]
     },
     "execution_count": 29,
     "metadata": {},
     "output_type": "execute_result"
    }
   ],
   "source": [
    "wasp118b.dec  #calculates latitude in degree"
   ]
  },
  {
   "cell_type": "code",
   "execution_count": 30,
   "metadata": {},
   "outputs": [
    {
     "data": {
      "text/plain": [
       "dms_tuple(d=2.0, m=42.0, s=10.251200000000011)"
      ]
     },
     "execution_count": 30,
     "metadata": {},
     "output_type": "execute_result"
    }
   ],
   "source": [
    "wasp118b.dec.dms  #calculates latitude in degrees, minutes and seconds"
   ]
  },
  {
   "cell_type": "code",
   "execution_count": 31,
   "metadata": {},
   "outputs": [
    {
     "data": {
      "text/plain": [
       "Planet('55 Cancri e')"
      ]
     },
     "execution_count": 31,
     "metadata": {},
     "output_type": "execute_result"
    }
   ],
   "source": [
    "cnc = exocat.planetDict[\"55 Cancri e\"]\n",
    "cnc"
   ]
  },
  {
   "cell_type": "markdown",
   "metadata": {},
   "source": [
    "##**Querying the database**"
   ]
  },
  {
   "cell_type": "code",
   "execution_count": 32,
   "metadata": {},
   "outputs": [],
   "source": [
    "superEarths = [planet for planet in exocat.planets if planet.R < (10 * aq.R_e)]   #Super Earths"
   ]
  },
  {
   "cell_type": "code",
   "execution_count": 33,
   "metadata": {},
   "outputs": [
    {
     "data": {
      "text/plain": [
       "2971"
      ]
     },
     "execution_count": 33,
     "metadata": {},
     "output_type": "execute_result"
    }
   ],
   "source": [
    "len(superEarths)  #number of Super Earths"
   ]
  },
  {
   "cell_type": "code",
   "execution_count": 34,
   "metadata": {},
   "outputs": [],
   "source": [
    "#Planets discovered by Transit method\n",
    "detected_by_transit = [planet for planet in exocat.planets\n",
    "                  if planet.discoveryMethod ==\"transit\"]"
   ]
  },
  {
   "cell_type": "code",
   "execution_count": 35,
   "metadata": {},
   "outputs": [
    {
     "data": {
      "text/plain": [
       "3477"
      ]
     },
     "execution_count": 35,
     "metadata": {},
     "output_type": "execute_result"
    }
   ],
   "source": [
    "len(detected_by_transit)"
   ]
  },
  {
   "cell_type": "code",
   "execution_count": 36,
   "metadata": {},
   "outputs": [
    {
     "name": "stdout",
     "output_type": "stream",
     "text": [
      "[Planet('1SWASP J1407 b'), Planet('2MASS J06023447-0034369 b'), Planet('55 Cancri e'), Planet('Alpha Centauri B c'), Planet('AU Mic b')]\n"
     ]
    }
   ],
   "source": [
    "print (detected_by_transit[:5])  #Top 5 planets(alphabetical order) which have discovery method as Transit"
   ]
  },
  {
   "cell_type": "code",
   "execution_count": 37,
   "metadata": {},
   "outputs": [],
   "source": [
    "import numpy as np\n",
    "radius_list = [planet.R for planet in exocat.planets   #list of every planets radius; \n",
    "               if planet.R is not np.nan]              #some are not available so use np.nan"
   ]
  },
  {
   "cell_type": "code",
   "execution_count": 38,
   "metadata": {},
   "outputs": [
    {
     "name": "stdout",
     "output_type": "stream",
     "text": [
      "3531\n",
      "0.39729247359273034\n"
     ]
    }
   ],
   "source": [
    "print (len(radius_list))\n",
    "print (np.mean(radius_list))   #mean radius calculated from radius_list; unit: R_j"
   ]
  },
  {
   "cell_type": "markdown",
   "metadata": {},
   "source": [
    "##**equations from Kepler's Third Law**"
   ]
  },
  {
   "cell_type": "code",
   "execution_count": 39,
   "metadata": {},
   "outputs": [],
   "source": [
    "from exodata.equations import KeplersThirdLaw"
   ]
  },
  {
   "cell_type": "code",
   "execution_count": 40,
   "metadata": {},
   "outputs": [
    {
     "data": {
      "text/plain": [
       "array(1.57969614) * d"
      ]
     },
     "execution_count": 40,
     "metadata": {},
     "output_type": "execute_result"
    }
   ],
   "source": [
    "KeplersThirdLaw(a=0.01488*aq.au, M_s=0.176*aq.M_s).P"
   ]
  },
  {
   "cell_type": "markdown",
   "metadata": {},
   "source": [
    "##**Methods to calculate different properties**"
   ]
  },
  {
   "cell_type": "code",
   "execution_count": 41,
   "metadata": {},
   "outputs": [],
   "source": [
    "gj1214b = exocat.planetDict['Gliese 1214 b']"
   ]
  },
  {
   "cell_type": "code",
   "execution_count": 42,
   "metadata": {},
   "outputs": [
    {
     "data": {
      "text/plain": [
       "array(11.13857199) * m/s**2"
      ]
     },
     "execution_count": 42,
     "metadata": {},
     "output_type": "execute_result"
    }
   ],
   "source": [
    "gj1214b.calcSurfaceGravity()"
   ]
  },
  {
   "cell_type": "code",
   "execution_count": 43,
   "metadata": {},
   "outputs": [
    {
     "data": {
      "text/plain": [
       "3.046829516255839"
      ]
     },
     "execution_count": 43,
     "metadata": {},
     "output_type": "execute_result"
    }
   ],
   "source": [
    "gj1214b.calcLogg()"
   ]
  },
  {
   "cell_type": "code",
   "execution_count": 44,
   "metadata": {},
   "outputs": [
    {
     "data": {
      "text/plain": [
       "array(52.95760733) * min"
      ]
     },
     "execution_count": 44,
     "metadata": {},
     "output_type": "execute_result"
    }
   ],
   "source": [
    "gj1214b.calcTransitDuration(circular=True)"
   ]
  },
  {
   "cell_type": "code",
   "execution_count": 45,
   "metadata": {},
   "outputs": [
    {
     "data": {
      "text/plain": [
       "Planet('Kepler-20 b')"
      ]
     },
     "execution_count": 45,
     "metadata": {},
     "output_type": "execute_result"
    }
   ],
   "source": [
    "kepler20b=exocat.searchPlanet(\"Kepler-20 b\")\n",
    "kepler20b"
   ]
  },
  {
   "cell_type": "code",
   "execution_count": 46,
   "metadata": {},
   "outputs": [
    {
     "data": {
      "text/plain": [
       "array(132.50703178) * min"
      ]
     },
     "execution_count": 46,
     "metadata": {},
     "output_type": "execute_result"
    }
   ],
   "source": [
    "kepler20b.calcTransitDuration(circular=True)"
   ]
  },
  {
   "cell_type": "code",
   "execution_count": 47,
   "metadata": {},
   "outputs": [
    {
     "data": {
      "text/plain": [
       "'transit'"
      ]
     },
     "execution_count": 47,
     "metadata": {},
     "output_type": "execute_result"
    }
   ],
   "source": [
    "kepler20b.discoveryMethod"
   ]
  },
  {
   "cell_type": "code",
   "execution_count": 48,
   "metadata": {},
   "outputs": [
    {
     "data": {
      "text/plain": [
       "\"The Kepler-20 system hosts at least five transiting exo-planets. Kepler-20 b has a period of only 3.7 days. Because it is about twice as big as the Earth, it is classified as a super-Earth or sub-Neptune. Kepler-20 b's composition is ambiguous. It could be a terrestrial planet with a rocky surface or it could have a significant gas envelope.\""
      ]
     },
     "execution_count": 48,
     "metadata": {},
     "output_type": "execute_result"
    }
   ],
   "source": [
    "kepler20b.description"
   ]
  },
  {
   "cell_type": "code",
   "execution_count": 50,
   "metadata": {},
   "outputs": [
    {
     "data": {
      "text/plain": [
       "array(3.69471756) * d"
      ]
     },
     "execution_count": 50,
     "metadata": {},
     "output_type": "execute_result"
    }
   ],
   "source": [
    "kepler20b.calcPeriod()"
   ]
  },
  {
   "cell_type": "code",
   "execution_count": 51,
   "metadata": {},
   "outputs": [
    {
     "data": {
      "text/plain": [
       "True"
      ]
     },
     "execution_count": 51,
     "metadata": {},
     "output_type": "execute_result"
    }
   ],
   "source": [
    "kepler20b.isTransiting"
   ]
  },
  {
   "cell_type": "code",
   "execution_count": 52,
   "metadata": {},
   "outputs": [
    {
     "data": {
      "text/plain": [
       "<bound method Planet.type of Planet('Kepler-20 b')>"
      ]
     },
     "execution_count": 52,
     "metadata": {},
     "output_type": "execute_result"
    }
   ],
   "source": [
    "kepler20b.type"
   ]
  },
  {
   "cell_type": "code",
   "execution_count": 53,
   "metadata": {},
   "outputs": [
    {
     "data": {
      "text/plain": [
       "array(0.00032394) * dimensionless"
      ]
     },
     "execution_count": 53,
     "metadata": {},
     "output_type": "execute_result"
    }
   ],
   "source": [
    "# The transit depth is the ratio of the surface area of the star's disk blocked out by the planet's disk, \n",
    "#so the transit depth is the square of the planet radius divided by the star's radius\n",
    "kepler20b.calcTransitDepth()"
   ]
  },
  {
   "cell_type": "code",
   "execution_count": 54,
   "metadata": {},
   "outputs": [
    {
     "data": {
      "text/plain": [
       "2011"
      ]
     },
     "execution_count": 54,
     "metadata": {},
     "output_type": "execute_result"
    }
   ],
   "source": [
    "kepler20b.discoveryYear"
   ]
  },
  {
   "cell_type": "code",
   "execution_count": 55,
   "metadata": {},
   "outputs": [
    {
     "data": {
      "text/plain": [
       "Planet('HD 108236 f')"
      ]
     },
     "execution_count": 55,
     "metadata": {},
     "output_type": "execute_result"
    }
   ],
   "source": [
    "hd108236f=exocat.searchPlanet(\"HD 108236 f\")\n",
    "hd108236f"
   ]
  },
  {
   "cell_type": "code",
   "execution_count": 56,
   "metadata": {},
   "outputs": [
    {
     "data": {
      "text/plain": [
       "2021"
      ]
     },
     "execution_count": 56,
     "metadata": {},
     "output_type": "execute_result"
    }
   ],
   "source": [
    "hd108236f.discoveryYear"
   ]
  },
  {
   "cell_type": "code",
   "execution_count": 57,
   "metadata": {},
   "outputs": [
    {
     "data": {
      "text/plain": [
       "[(array(10.) * M_e, 'Super-Earth'),\n",
       " (array(20.) * M_e, 'Neptune'),\n",
       " (inf, 'Jupiter')]"
      ]
     },
     "execution_count": 57,
     "metadata": {},
     "output_type": "execute_result"
    }
   ],
   "source": [
    "#Assumptions- These are how a planet is classified according to mass, radius temp. along with assumption for the\n",
    "#albedo(measure of how much light that hits a surface is reflected without being absorbed),etc.\n",
    "#This is stored in directory exodata.assumptions.planetAssumptions\n",
    "exodata.assumptions.planetAssumptions['massType']"
   ]
  },
  {
   "cell_type": "code",
   "execution_count": 58,
   "metadata": {},
   "outputs": [
    {
     "data": {
      "text/plain": [
       "3500"
      ]
     },
     "execution_count": 58,
     "metadata": {},
     "output_type": "execute_result"
    }
   ],
   "source": [
    "len(exocat.transitingPlanets)  #to calculate no.(length/size) of transiting exoplanets"
   ]
  },
  {
   "cell_type": "code",
   "execution_count": 59,
   "metadata": {},
   "outputs": [
    {
     "data": {
      "text/plain": [
       "4695"
      ]
     },
     "execution_count": 59,
     "metadata": {},
     "output_type": "execute_result"
    }
   ],
   "source": [
    "len(exocat.planets)           #to calculate no.(length/size) of planets in the database right now"
   ]
  },
  {
   "cell_type": "code",
   "execution_count": 60,
   "metadata": {},
   "outputs": [
    {
     "data": {
      "text/plain": [
       "3711"
      ]
     },
     "execution_count": 60,
     "metadata": {},
     "output_type": "execute_result"
    }
   ],
   "source": [
    "len(exocat.stars)            #to calculate no.(length/size) of planets in the database right now"
   ]
  },
  {
   "cell_type": "code",
   "execution_count": 61,
   "metadata": {},
   "outputs": [
    {
     "data": {
      "text/plain": [
       "3493"
      ]
     },
     "execution_count": 61,
     "metadata": {},
     "output_type": "execute_result"
    }
   ],
   "source": [
    "len(exocat.systems)          #to calculate no.(length/size) of systems in the database right now"
   ]
  },
  {
   "cell_type": "code",
   "execution_count": 62,
   "metadata": {},
   "outputs": [
    {
     "data": {
      "text/plain": [
       "Planet('11 Com b')"
      ]
     },
     "execution_count": 62,
     "metadata": {},
     "output_type": "execute_result"
    }
   ],
   "source": [
    "comb=exocat.searchPlanet(\"11 Com b\")\n",
    "comb"
   ]
  },
  {
   "cell_type": "code",
   "execution_count": 63,
   "metadata": {},
   "outputs": [
    {
     "data": {
      "text/plain": [
       "Planet('14 And b')"
      ]
     },
     "execution_count": 63,
     "metadata": {},
     "output_type": "execute_result"
    }
   ],
   "source": [
    "anb=exocat.searchPlanet(\"14 And b\")\n",
    "anb"
   ]
  },
  {
   "cell_type": "code",
   "execution_count": 64,
   "metadata": {},
   "outputs": [
    {
     "name": "stdout",
     "output_type": "stream",
     "text": [
      "1525.9527911871523 M_e\n"
     ]
    }
   ],
   "source": [
    "print (anb.M.rescale(aq.M_e))  # rescale to earth mass- M_e"
   ]
  },
  {
   "cell_type": "code",
   "execution_count": 65,
   "metadata": {},
   "outputs": [
    {
     "name": "stdout",
     "output_type": "stream",
     "text": [
      "Star('14 And')\n"
     ]
    }
   ],
   "source": [
    "print(anb.star)"
   ]
  },
  {
   "cell_type": "markdown",
   "metadata": {},
   "source": [
    "##**Potentially Habitable exoplanets**"
   ]
  },
  {
   "cell_type": "code",
   "execution_count": 66,
   "metadata": {},
   "outputs": [
    {
     "data": {
      "text/plain": [
       "11"
      ]
     },
     "execution_count": 66,
     "metadata": {},
     "output_type": "execute_result"
    }
   ],
   "source": [
    "#In order to be potentially habitable, an exoplanet would range between 0.5 and 2.5 Earth radii and\n",
    "#have to have a mass between 0.1 and 10 Earth masses and\n",
    "#temperature should be in a range 182K to 285K to maintain liquid water\n",
    "#eccentricity between 0.5 and 0.7\n",
    "\n",
    "planet_list=[]\n",
    "for planet in exocat.planets:\n",
    "    if 0.5*aq.R_e < planet.R < 2.5*aq.R_e:\n",
    "        if 0.1*aq.M_e < planet.M < 10*aq.M_e:\n",
    "            if 182*aq.K < planet.calcTemperature() < 285*aq.K:\n",
    "                planet_list.append(planet)\n",
    "                \n",
    "                        \n",
    "          \n",
    "        \n",
    "len(planet_list)        \n",
    "# print(planet_list)        "
   ]
  },
  {
   "cell_type": "code",
   "execution_count": 67,
   "metadata": {},
   "outputs": [
    {
     "name": "stdout",
     "output_type": "stream",
     "text": [
      "Planet('EPIC 201912552 b')\n",
      "This planet was discovered by the Kepler spacecraft during its extended K2 mission, Campaign 1. This planet may be an interesting target for atmospheric studies of transiting exoplanets. Its density lies between that of Earth-like and Neptune-like planets.\n",
      "\n",
      "\n",
      "Planet('Kepler-445 b')\n",
      "Kepler-445 is an M-dwarf with transit signals of three short-period planets.\n",
      "\n",
      "\n",
      "Planet('Kepler-446 c')\n",
      "Kepler-446 is an M-dwarf with transit signals of three short-period planets.\n",
      "\n",
      "\n",
      "Planet('Kepler-446 d')\n",
      "Kepler-446 is an M-dwarf with transit signals of three short-period planets.\n",
      "\n",
      "\n",
      "Planet('LHS 1140 b')\n",
      "This planet was discovered by Dittmann et al. 2017. This was a ground based discovery. The parameters listed here have been imported into the Open Exoplanet Catalogue from the NASA Exoplanet Archive.\n",
      "\n",
      "\n",
      "Planet('Earth')\n",
      "Earth is the only known planet able to sustain life.\n",
      "\n",
      "\n",
      "Planet('Mars')\n",
      "Mars is named after the Roman god of war and often called the red planet.\n",
      "\n",
      "\n",
      "Planet('TRAPPIST-1 d')\n",
      "Astronomers have found this system of seven Earth-sized planets just 40 light-years away. Using ground and space telescopes the planets were all detected as they passed in front of their parent star, the ultracool dwarf star known as TRAPPIST-1. The six inner planets form a near-resonant chain such that their orbital periods (1.51, 2.42, 4.04, 6.06, 9.21, 12.35 days) are near ratios of small integers. This architecture suggests that the planets formed farther from the star and migrated inward. The seven planets have equilibrium temperatures low enough to support liquid water on their surfaces.\n",
      "\n",
      "\n",
      "Planet('TRAPPIST-1 e')\n",
      "Astronomers have found this system of seven Earth-sized planets just 40 light-years away. Using ground and space telescopes the planets were all detected as they passed in front of their parent star, the ultracool dwarf star known as TRAPPIST-1. The six inner planets form a near-resonant chain such that their orbital periods (1.51, 2.42, 4.04, 6.06, 9.21, 12.35 days) are near ratios of small integers. This architecture suggests that the planets formed farther from the star and migrated inward. The seven planets have equilibrium temperatures low enough to support liquid water on their surfaces.\n",
      "\n",
      "\n",
      "Planet('TRAPPIST-1 f')\n",
      "Astronomers have found this system of seven Earth-sized planets just 40 light-years away. Using ground and space telescopes the planets were all detected as they passed in front of their parent star, the ultracool dwarf star known as TRAPPIST-1. The six inner planets form a near-resonant chain such that their orbital periods (1.51, 2.42, 4.04, 6.06, 9.21, 12.35 days) are near ratios of small integers. This architecture suggests that the planets formed farther from the star and migrated inward. The seven planets have equilibrium temperatures low enough to support liquid water on their surfaces.\n",
      "\n",
      "\n",
      "Planet('TRAPPIST-1 g')\n",
      "Astronomers have found this system of seven Earth-sized planets just 40 light-years away. Using ground and space telescopes the planets were all detected as they passed in front of their parent star, the ultracool dwarf star known as TRAPPIST-1. The six inner planets form a near-resonant chain such that their orbital periods (1.51, 2.42, 4.04, 6.06, 9.21, 12.35 days) are near ratios of small integers. This architecture suggests that the planets formed farther from the star and migrated inward. The seven planets have equilibrium temperatures low enough to support liquid water on their surfaces.\n",
      "\n",
      "\n"
     ]
    }
   ],
   "source": [
    "for i in planet_list:\n",
    "    print(i)\n",
    "    print(i.description)\n",
    "    print(\"\\n\") "
   ]
  },
  {
   "cell_type": "markdown",
   "metadata": {},
   "source": [
    "##**ExoData plotting library**"
   ]
  },
  {
   "cell_type": "code",
   "execution_count": 70,
   "metadata": {},
   "outputs": [
    {
     "data": {
      "image/png": "[encoded data removed]",
      "text/plain": [
       "<Figure size 432x288 with 1 Axes>"
      ]
     },
     "execution_count": 70,
     "metadata": {},
     "output_type": "execute_result"
    },
    {
     "data": {
      "image/png": "[encoded data removed]",
      "text/plain": [
       "<Figure size 432x288 with 1 Axes>"
      ]
     },
     "metadata": {
      "needs_background": "light"
     },
     "output_type": "display_data"
    }
   ],
   "source": [
    "#no. of planets discovered by Radial Velocity, Transit methods- which are 2 popular methods and Other which\n",
    "#includes all the other discovery methods plotted on y-axis and discovery year on x-axis\n",
    "dm_plot = exodata.plots.DiscoveryMethodByYear(exocat.planets, methods_to_plot=('RV', 'transit', 'Other'))\n",
    "dm_plot.plot(method_labels=('Radial Velocity', 'Transit Method', 'Other'))"
   ]
  },
  {
   "cell_type": "code",
   "execution_count": 71,
   "metadata": {},
   "outputs": [
    {
     "data": {
      "image/png": "[encoded data removed]",
      "text/plain": [
       "<Figure size 360x288 with 1 Axes>"
      ]
     },
     "metadata": {},
     "output_type": "display_data"
    }
   ],
   "source": [
    "#e- orbital eccentricity of an astronomical object is a dimensionless parameter that determines the amount by which its \n",
    "#orbit around another body deviates from a perfect circle\n",
    "exodata.plots.DataPerParameterBin(exocat.planets, 'e', (0, 0, 0.05, 0.1, 0.2, 0.4, float('inf'))).plotPieChart()"
   ]
  },
  {
   "cell_type": "code",
   "execution_count": 72,
   "metadata": {},
   "outputs": [
    {
     "name": "stderr",
     "output_type": "stream",
     "text": [
      "C:\\python39\\lib\\site-packages\\exodata\\plots.py:280: UserWarning: FixedFormatter should only be used together with FixedLocator\n",
      "  ax.set_xticklabels(labels)\n"
     ]
    },
    {
     "data": {
      "image/png": "[encoded data removed]",
      "text/plain": [
       "<Figure size 360x288 with 1 Axes>"
      ]
     },
     "metadata": {
      "needs_background": "light"
     },
     "output_type": "display_data"
    }
   ],
   "source": [
    "#no. of planets on the y axis; Jupiter Planet Mass on x-axis\n",
    "#Jupiter mass, also called Jovian mass, is the unit of mass equal to the total mass of the planet Jupiter\n",
    "exodata.plots.DataPerParameterBin(exocat.planets, 'M',\n",
    "(0, 0.2, 0.5, 1, 2, 3, 6, 12, float('inf'))).plotBarChart(c='b')"
   ]
  },
  {
   "cell_type": "code",
   "execution_count": null,
   "metadata": {},
   "outputs": [],
   "source": []
  }
 ],
 "metadata": {
  "interpreter": {
   "hash": "e2a7c3d20469dda411fd3211f02092a920078d1ca97c72d3dc7928b841d3a44a"
  },
  "kernelspec": {
   "display_name": "Python 3.9.0 64-bit",
   "name": "python3"
  },
  "language_info": {
   "codemirror_mode": {
    "name": "ipython",
    "version": 3
   },
   "file_extension": ".py",
   "mimetype": "text/x-python",
   "name": "python",
   "nbconvert_exporter": "python",
   "pygments_lexer": "ipython3",
   "version": "3.9.0"
  }
 },
 "nbformat": 4,
 "nbformat_minor": 4
}
