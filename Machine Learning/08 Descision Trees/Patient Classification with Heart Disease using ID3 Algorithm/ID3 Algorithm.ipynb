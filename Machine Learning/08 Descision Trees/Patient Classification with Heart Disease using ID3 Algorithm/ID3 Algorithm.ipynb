{
 "cells": [
  {
   "cell_type": "code",
   "execution_count": 1,
   "id": "30ea80a9",
   "metadata": {},
   "outputs": [],
   "source": [
    "#Importing the Libraries\n",
    "import numpy as np\n",
    "import pandas as pd\n",
    "import matplotlib.pyplot as plt\n",
    "\n",
    "from sklearn.tree import DecisionTreeClassifier\n",
    "from sklearn import datasets\n",
    "from sklearn.model_selection import train_test_split\n",
    "from sklearn.metrics import confusion_matrix, accuracy_score"
   ]
  },
  {
   "cell_type": "code",
   "execution_count": 2,
   "id": "9ff5d2ee",
   "metadata": {},
   "outputs": [],
   "source": [
    "#Loading Dataset\n",
    "dataset = pd.read_csv(\"processed.cleveland.data.csv\", names=['age', 'sex', 'cp', 'trestbps', 'chol', 'fbs', 'restecg', 'thalach', 'exang', 'oldpeak', 'slope', 'ca', 'thal', 'output'])\n",
    "dataset_mean = dataset"
   ]
  },
  {
   "cell_type": "code",
   "execution_count": 3,
   "id": "4343be01",
   "metadata": {},
   "outputs": [
    {
     "name": "stdout",
     "output_type": "stream",
     "text": [
      "*****Before Filling Missing values Row 166, 192, 287, 302*****\n",
      "age          58.0\n",
      "sex           1.0\n",
      "cp            2.0\n",
      "trestbps    125.0\n",
      "chol        220.0\n",
      "fbs           0.0\n",
      "restecg       0.0\n",
      "thalach     144.0\n",
      "exang         0.0\n",
      "oldpeak       0.4\n",
      "slope         2.0\n",
      "ca            NaN\n",
      "thal          7.0\n",
      "output        0.0\n",
      "Name: 287, dtype: float64\n",
      "----- Mean of Column 11 'ca' -----\n",
      "0.6722408026755853\n",
      "*****After Filling Missing values Row 166, 192, 287, 302*****\n",
      "     age  sex  cp  trestbps  chol  fbs  restecg  thalach  exang  oldpeak  \\\n",
      "166   52    1   3       138   223    0        0      169      0      0.0   \n",
      "192   43    1   4       132   247    1        2      143      1      0.1   \n",
      "287   58    1   2       125   220    0        0      144      0      0.4   \n",
      "302   38    1   3       138   175    0        0      173      0      0.0   \n",
      "\n",
      "     slope        ca  thal  output  \n",
      "166      1  0.672241   3.0       0  \n",
      "192      2  0.672241   7.0       1  \n",
      "287      2  0.672241   7.0       0  \n",
      "302      1  0.672241   3.0       0  \n",
      "----- Mean of Column 12 'thal' -----\n",
      "4.73421926910299\n",
      "*****After Filling Missing values Row 87, 266*****\n",
      "     age  sex  cp  trestbps  chol  fbs  restecg  thalach  exang  oldpeak  \\\n",
      "87    53    0   3       128   216    0        2      115      0      0.0   \n",
      "266   52    1   4       128   204    1        0      156      1      1.0   \n",
      "\n",
      "     slope   ca      thal  output  \n",
      "87       1  0.0  4.734219       0  \n",
      "266      2  0.0  4.734219       2  \n"
     ]
    }
   ],
   "source": [
    "#Data Preprocessing\n",
    "\n",
    "#Filling missing values Statistics measures\n",
    "print(\"*****Before Filling Missing values Row 166, 192, 287, 302*****\")\n",
    "print(dataset_mean.loc[287])\n",
    "dataset1 = dataset_mean\n",
    "df1 = pd.DataFrame(dataset1)\n",
    "\n",
    "print(\"----- Mean of Column 11 'ca' -----\")\n",
    "print(df1['ca'].mean())\n",
    "df1.fillna(df1.mean(), inplace=True)\n",
    "print(\"*****After Filling Missing values Row 166, 192, 287, 302*****\")\n",
    "print(df1.loc[[166, 192, 287, 302]])\n",
    "\n",
    "print(\"----- Mean of Column 12 'thal' -----\")\n",
    "print(df1['thal'].mean())\n",
    "df1.fillna(df1.mean(), inplace=True)\n",
    "print(\"*****After Filling Missing values Row 87, 266*****\")\n",
    "print(df1.loc[[87, 266]])"
   ]
  },
  {
   "cell_type": "code",
   "execution_count": 4,
   "id": "05fe06ce",
   "metadata": {},
   "outputs": [
    {
     "name": "stdout",
     "output_type": "stream",
     "text": [
      "Total number of patients: 303\n",
      "Number of features: 13\n",
      "Number of patients with Heart Disease: 139\n",
      "Number of patients without Heart Disease: 164\n"
     ]
    }
   ],
   "source": [
    "#Dataset Description\n",
    "\n",
    "#Number of patients\n",
    "n_patients = dataset.shape[0]\n",
    "\n",
    "#Number of features\n",
    "n_features = dataset.shape[1]-1\n",
    "\n",
    "dataset[\"output\"].replace(to_replace=[1, 2, 3, 4], value=1, inplace=True)\n",
    "\n",
    "#With Heart Disease\n",
    "heart_disease = dataset[dataset['output'] == 1].shape[0]\n",
    "\n",
    "#Without Heart Disease\n",
    "no_heart_disease = dataset[dataset['output'] == 0].shape[0]\n",
    "\n",
    "#Printing Results\n",
    "print(\"Total number of patients: {}\".format(n_patients))\n",
    "print(\"Number of features: {}\".format(n_features))\n",
    "print(\"Number of patients with Heart Disease: {}\".format(heart_disease))\n",
    "print(\"Number of patients without Heart Disease: {}\".format(no_heart_disease))"
   ]
  },
  {
   "cell_type": "code",
   "execution_count": 5,
   "id": "c26b07c2",
   "metadata": {},
   "outputs": [
    {
     "name": "stdout",
     "output_type": "stream",
     "text": [
      "Feature columns: \n",
      "['age', 'sex', 'cp', 'trestbps', 'chol', 'fbs', 'restecg', 'thalach', 'exang', 'oldpeak', 'slope', 'ca', 'thal']\n"
     ]
    }
   ],
   "source": [
    "#Extracting feature columns\n",
    "feature_cols = list(dataset.columns[0:13])\n",
    "\n",
    "#Showing the list of columns\n",
    "print(\"Feature columns: \\n{}\".format(feature_cols))"
   ]
  },
  {
   "cell_type": "code",
   "execution_count": 6,
   "id": "f65274fe",
   "metadata": {},
   "outputs": [
    {
     "name": "stdout",
     "output_type": "stream",
     "text": [
      "\n",
      "Feature values:\n"
     ]
    },
    {
     "data": {
      "text/html": [
       "<div>\n",
       "<style scoped>\n",
       "    .dataframe tbody tr th:only-of-type {\n",
       "        vertical-align: middle;\n",
       "    }\n",
       "\n",
       "    .dataframe tbody tr th {\n",
       "        vertical-align: top;\n",
       "    }\n",
       "\n",
       "    .dataframe thead th {\n",
       "        text-align: right;\n",
       "    }\n",
       "</style>\n",
       "<table border=\"1\" class=\"dataframe\">\n",
       "  <thead>\n",
       "    <tr style=\"text-align: right;\">\n",
       "      <th></th>\n",
       "      <th>age</th>\n",
       "      <th>sex</th>\n",
       "      <th>cp</th>\n",
       "      <th>trestbps</th>\n",
       "      <th>chol</th>\n",
       "      <th>fbs</th>\n",
       "      <th>restecg</th>\n",
       "      <th>thalach</th>\n",
       "      <th>exang</th>\n",
       "      <th>oldpeak</th>\n",
       "      <th>slope</th>\n",
       "      <th>ca</th>\n",
       "      <th>thal</th>\n",
       "    </tr>\n",
       "  </thead>\n",
       "  <tbody>\n",
       "    <tr>\n",
       "      <th>0</th>\n",
       "      <td>63</td>\n",
       "      <td>1</td>\n",
       "      <td>1</td>\n",
       "      <td>145</td>\n",
       "      <td>233</td>\n",
       "      <td>1</td>\n",
       "      <td>2</td>\n",
       "      <td>150</td>\n",
       "      <td>0</td>\n",
       "      <td>2.3</td>\n",
       "      <td>3</td>\n",
       "      <td>0.0</td>\n",
       "      <td>6.0</td>\n",
       "    </tr>\n",
       "    <tr>\n",
       "      <th>1</th>\n",
       "      <td>67</td>\n",
       "      <td>1</td>\n",
       "      <td>4</td>\n",
       "      <td>160</td>\n",
       "      <td>286</td>\n",
       "      <td>0</td>\n",
       "      <td>2</td>\n",
       "      <td>108</td>\n",
       "      <td>1</td>\n",
       "      <td>1.5</td>\n",
       "      <td>2</td>\n",
       "      <td>3.0</td>\n",
       "      <td>3.0</td>\n",
       "    </tr>\n",
       "    <tr>\n",
       "      <th>2</th>\n",
       "      <td>67</td>\n",
       "      <td>1</td>\n",
       "      <td>4</td>\n",
       "      <td>120</td>\n",
       "      <td>229</td>\n",
       "      <td>0</td>\n",
       "      <td>2</td>\n",
       "      <td>129</td>\n",
       "      <td>1</td>\n",
       "      <td>2.6</td>\n",
       "      <td>2</td>\n",
       "      <td>2.0</td>\n",
       "      <td>7.0</td>\n",
       "    </tr>\n",
       "    <tr>\n",
       "      <th>3</th>\n",
       "      <td>37</td>\n",
       "      <td>1</td>\n",
       "      <td>3</td>\n",
       "      <td>130</td>\n",
       "      <td>250</td>\n",
       "      <td>0</td>\n",
       "      <td>0</td>\n",
       "      <td>187</td>\n",
       "      <td>0</td>\n",
       "      <td>3.5</td>\n",
       "      <td>3</td>\n",
       "      <td>0.0</td>\n",
       "      <td>3.0</td>\n",
       "    </tr>\n",
       "    <tr>\n",
       "      <th>4</th>\n",
       "      <td>41</td>\n",
       "      <td>0</td>\n",
       "      <td>2</td>\n",
       "      <td>130</td>\n",
       "      <td>204</td>\n",
       "      <td>0</td>\n",
       "      <td>2</td>\n",
       "      <td>172</td>\n",
       "      <td>0</td>\n",
       "      <td>1.4</td>\n",
       "      <td>1</td>\n",
       "      <td>0.0</td>\n",
       "      <td>3.0</td>\n",
       "    </tr>\n",
       "  </tbody>\n",
       "</table>\n",
       "</div>"
      ],
      "text/plain": [
       "   age  sex  cp  trestbps  chol  fbs  restecg  thalach  exang  oldpeak  slope  \\\n",
       "0   63    1   1       145   233    1        2      150      0      2.3      3   \n",
       "1   67    1   4       160   286    0        2      108      1      1.5      2   \n",
       "2   67    1   4       120   229    0        2      129      1      2.6      2   \n",
       "3   37    1   3       130   250    0        0      187      0      3.5      3   \n",
       "4   41    0   2       130   204    0        2      172      0      1.4      1   \n",
       "\n",
       "    ca  thal  \n",
       "0  0.0   6.0  \n",
       "1  3.0   3.0  \n",
       "2  2.0   7.0  \n",
       "3  0.0   3.0  \n",
       "4  0.0   3.0  "
      ]
     },
     "execution_count": 6,
     "metadata": {},
     "output_type": "execute_result"
    }
   ],
   "source": [
    "#Separate the data into feature data and target data (X_all and y_all, respectively)\n",
    "X = dataset[feature_cols]\n",
    "y = dataset['output'].values\n",
    "\n",
    "#Showing the feature information by printing the first five rows\n",
    "print(\"\\nFeature values:\")\n",
    "X.head()"
   ]
  },
  {
   "cell_type": "code",
   "execution_count": 7,
   "id": "5f7f97e7",
   "metadata": {},
   "outputs": [
    {
     "name": "stdout",
     "output_type": "stream",
     "text": [
      "     age  sex  cp  trestbps  chol  fbs  restecg  thalach  exang  oldpeak  \\\n",
      "3     37    1   3       130   250    0        0      187      0      3.5   \n",
      "55    54    1   4       124   266    0        2      109      1      2.2   \n",
      "225   34    0   2       118   210    0        0      192      0      0.7   \n",
      "224   63    0   4       108   269    0        0      169      1      1.8   \n",
      "75    65    0   3       160   360    0        2      151      0      0.8   \n",
      "..   ...  ...  ..       ...   ...  ...      ...      ...    ...      ...   \n",
      "8     63    1   4       130   254    0        2      147      0      1.4   \n",
      "73    65    1   4       110   248    0        2      158      0      0.6   \n",
      "118   63    1   4       130   330    1        2      132      1      1.8   \n",
      "189   69    1   3       140   254    0        2      146      0      2.0   \n",
      "206   58    1   4       128   259    0        2      130      1      3.0   \n",
      "\n",
      "     slope   ca  thal  \n",
      "3        3  0.0   3.0  \n",
      "55       2  1.0   7.0  \n",
      "225      1  0.0   3.0  \n",
      "224      2  2.0   3.0  \n",
      "75       1  0.0   3.0  \n",
      "..     ...  ...   ...  \n",
      "8        2  1.0   7.0  \n",
      "73       1  2.0   6.0  \n",
      "118      1  3.0   7.0  \n",
      "189      2  3.0   7.0  \n",
      "206      2  2.0   7.0  \n",
      "\n",
      "[212 rows x 13 columns]\n"
     ]
    }
   ],
   "source": [
    "#Splitting the Dataset into Training and Testing data\n",
    "\n",
    "X_train, X_test, y_train, y_test = train_test_split(X, y, test_size=0.30, random_state=5)\n",
    "print(X_train)"
   ]
  },
  {
   "cell_type": "code",
   "execution_count": 8,
   "id": "87a53746",
   "metadata": {},
   "outputs": [
    {
     "name": "stdout",
     "output_type": "stream",
     "text": [
      "(212, 13)\n",
      "(91, 13)\n"
     ]
    }
   ],
   "source": [
    "#The dimension of Training and Testing Data\n",
    "\n",
    "print(X_train.shape)\n",
    "print(X_test.shape)"
   ]
  },
  {
   "cell_type": "code",
   "execution_count": 9,
   "id": "221b3cf5",
   "metadata": {},
   "outputs": [
    {
     "name": "stdout",
     "output_type": "stream",
     "text": [
      "----- After Z-score Normalization on X_train -----\n",
      "[[-1.91736161  0.67975655 -0.16656264 ...  2.36151212 -0.68283167\n",
      "  -0.93461042]\n",
      " [-0.06178394  0.67975655  0.8720044  ...  0.68151021  0.3635441\n",
      "   1.13614677]\n",
      " [-2.24481649 -1.47111492 -1.20512967 ... -0.9984917  -0.68283167\n",
      "  -0.93461042]\n",
      " ...\n",
      " [ 0.92058071  0.67975655  0.8720044  ... -0.9984917   2.45629564\n",
      "   1.13614677]\n",
      " [ 1.57549048  0.67975655 -0.16656264 ...  0.68151021  2.45629564\n",
      "   1.13614677]\n",
      " [ 0.37482257  0.67975655  0.8720044  ...  0.68151021  1.40991987\n",
      "   1.13614677]]\n",
      "----- After Z-score Normalization on X_test -----\n",
      "[[-1.85828815  0.70128687 -0.16222142 ... -0.9335927  -0.05302469\n",
      "  -0.81856114]\n",
      " [ 0.78936134  0.70128687 -2.2710999  ...  0.58349544  1.48316063\n",
      "  -0.81856114]\n",
      " [-1.62805776  0.70128687  0.89221782 ... -0.9335927  -0.83079106\n",
      "   1.26892886]\n",
      " ...\n",
      " [ 1.48005251  0.70128687  0.89221782 ...  0.58349544  1.48316063\n",
      "   1.26892886]\n",
      " [ 0.78936134  0.70128687  0.89221782 ...  0.58349544  0.32618478\n",
      "  -0.81856114]\n",
      " [ 0.44401575  0.70128687 -0.16222142 ... -0.9335927   1.48316063\n",
      "   1.26892886]]\n"
     ]
    }
   ],
   "source": [
    "#Normalization\n",
    "from sklearn.preprocessing import StandardScaler\n",
    "scaler = StandardScaler()\n",
    "\n",
    "scaler.fit(X_train)\n",
    "X_train = scaler.transform(X_train)\n",
    "print(\"----- After Z-score Normalization on X_train -----\")\n",
    "print(X_train)\n",
    "\n",
    "scaler.fit(X_test)\n",
    "X_test = scaler.transform(X_test)\n",
    "print(\"----- After Z-score Normalization on X_test -----\")\n",
    "print(X_test)"
   ]
  },
  {
   "cell_type": "code",
   "execution_count": 10,
   "id": "3a32d182",
   "metadata": {},
   "outputs": [
    {
     "name": "stdout",
     "output_type": "stream",
     "text": [
      "Accuracy for depth=1: 0.7802197802197802\n",
      "[[44  9]\n",
      " [11 27]]\n",
      "Accuracy for depth=2: 0.7252747252747253\n",
      "[[31 22]\n",
      " [ 3 35]]\n",
      "Accuracy for depth=3: 0.8461538461538461\n",
      "[[46  7]\n",
      " [ 7 31]]\n",
      "Accuracy for depth=4: 0.8571428571428571\n",
      "[[48  5]\n",
      " [ 8 30]]\n",
      "Accuracy for depth=5: 0.7692307692307693\n",
      "[[36 17]\n",
      " [ 4 34]]\n"
     ]
    }
   ],
   "source": [
    "#Fit the Model using ID3 Classifier\n",
    "\n",
    "for i in range(1, 6):\n",
    "    dtree_model = DecisionTreeClassifier(criterion=\"entropy\", max_depth=i)\n",
    "    #Training Model\n",
    "    dtree_model.fit(X_train, y_train)\n",
    "    #Testing Model\n",
    "    dtree_predictions = dtree_model.predict(X_test)\n",
    "    #Accuracy\n",
    "    accuracy = accuracy_score(dtree_predictions, y_test)\n",
    "    print(\"Accuracy for depth=\" + str(i) + \":\", accuracy)\n",
    "    #Creating a confusion matrix\n",
    "    cm = confusion_matrix(y_test, dtree_predictions)\n",
    "    print(cm)"
   ]
  }
 ],
 "metadata": {
  "kernelspec": {
   "display_name": "Python 3 (ipykernel)",
   "language": "python",
   "name": "python3"
  },
  "language_info": {
   "codemirror_mode": {
    "name": "ipython",
    "version": 3
   },
   "file_extension": ".py",
   "mimetype": "text/x-python",
   "name": "python",
   "nbconvert_exporter": "python",
   "pygments_lexer": "ipython3",
   "version": "3.9.2"
  }
 },
 "nbformat": 4,
 "nbformat_minor": 5
}
