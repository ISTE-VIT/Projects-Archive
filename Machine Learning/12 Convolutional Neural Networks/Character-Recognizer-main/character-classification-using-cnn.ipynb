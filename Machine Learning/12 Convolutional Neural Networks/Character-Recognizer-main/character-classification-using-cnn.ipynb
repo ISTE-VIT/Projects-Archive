{
 "cells": [
  {
   "cell_type": "code",
   "execution_count": 1,
   "id": "400f5213",
   "metadata": {
    "_cell_guid": "b1076dfc-b9ad-4769-8c92-a6c4dae69d19",
    "_uuid": "8f2839f25d086af736a60e9eeb907d3b93b6e0e5",
    "execution": {
     "iopub.execute_input": "2021-09-03T23:49:41.953381Z",
     "iopub.status.busy": "2021-09-03T23:49:41.952174Z",
     "iopub.status.idle": "2021-09-03T23:49:41.979768Z",
     "shell.execute_reply": "2021-09-03T23:49:41.980360Z",
     "shell.execute_reply.started": "2021-09-03T22:55:38.963671Z"
    },
    "papermill": {
     "duration": 0.058595,
     "end_time": "2021-09-03T23:49:41.980733",
     "exception": false,
     "start_time": "2021-09-03T23:49:41.922138",
     "status": "completed"
    },
    "tags": []
   },
   "outputs": [
    {
     "name": "stdout",
     "output_type": "stream",
     "text": [
      "/kaggle/input/az-handwritten-alphabets-in-csv-format/A_Z Handwritten Data.csv\n",
      "/kaggle/input/az-handwritten-alphabets-in-csv-format/A_Z Handwritten Data/A_Z Handwritten Data.csv\n"
     ]
    }
   ],
   "source": [
    "# This Python 3 environment comes with many helpful analytics libraries installed\n",
    "# It is defined by the kaggle/python Docker image: https://github.com/kaggle/docker-python\n",
    "# For example, here's several helpful packages to load\n",
    "\n",
    "import numpy as np # linear algebra\n",
    "import pandas as pd # data processing, CSV file I/O (e.g. pd.read_csv)\n",
    "\n",
    "# Input data files are available in the read-only \"../input/\" directory\n",
    "# For example, running this (by clicking run or pressing Shift+Enter) will list all files under the input directory\n",
    "\n",
    "import os\n",
    "for dirname, _, filenames in os.walk('/kaggle/input'):\n",
    "    for filename in filenames:\n",
    "        print(os.path.join(dirname, filename))\n",
    "\n",
    "# You can write up to 20GB to the current directory (/kaggle/working/) that gets preserved as output when you create a version using \"Save & Run All\" \n",
    "# You can also write temporary files to /kaggle/temp/, but they won't be saved outside of the current session"
   ]
  },
  {
   "cell_type": "markdown",
   "id": "fd4eb686",
   "metadata": {
    "papermill": {
     "duration": 0.02436,
     "end_time": "2021-09-03T23:49:42.030976",
     "exception": false,
     "start_time": "2021-09-03T23:49:42.006616",
     "status": "completed"
    },
    "tags": []
   },
   "source": [
    "# Importing Necessary Libraries"
   ]
  },
  {
   "cell_type": "code",
   "execution_count": 2,
   "id": "2d6b9501",
   "metadata": {
    "execution": {
     "iopub.execute_input": "2021-09-03T23:49:42.083558Z",
     "iopub.status.busy": "2021-09-03T23:49:42.082901Z",
     "iopub.status.idle": "2021-09-03T23:49:49.866402Z",
     "shell.execute_reply": "2021-09-03T23:49:49.865398Z",
     "shell.execute_reply.started": "2021-09-03T22:54:52.310842Z"
    },
    "papermill": {
     "duration": 7.810917,
     "end_time": "2021-09-03T23:49:49.866587",
     "exception": false,
     "start_time": "2021-09-03T23:49:42.055670",
     "status": "completed"
    },
    "tags": []
   },
   "outputs": [],
   "source": [
    "import matplotlib.pyplot as plt\n",
    "import cv2\n",
    "import numpy as np\n",
    "from keras.models import Sequential\n",
    "from keras.layers import Dense, Flatten, Conv2D, MaxPool2D, Dropout\n",
    "from keras.optimizers import SGD, Adam\n",
    "from keras.callbacks import ReduceLROnPlateau, EarlyStopping\n",
    "from keras.utils import to_categorical\n",
    "import pandas as pd\n",
    "import numpy as np\n",
    "from sklearn.model_selection import train_test_split\n",
    "from sklearn.utils import shuffle"
   ]
  },
  {
   "cell_type": "markdown",
   "id": "bc42f409",
   "metadata": {
    "papermill": {
     "duration": 0.023966,
     "end_time": "2021-09-03T23:49:49.916511",
     "exception": false,
     "start_time": "2021-09-03T23:49:49.892545",
     "status": "completed"
    },
    "tags": []
   },
   "source": [
    "# Read The Dataset\n"
   ]
  },
  {
   "cell_type": "code",
   "execution_count": 3,
   "id": "bf5b9b35",
   "metadata": {
    "execution": {
     "iopub.execute_input": "2021-09-03T23:49:49.972079Z",
     "iopub.status.busy": "2021-09-03T23:49:49.971394Z",
     "iopub.status.idle": "2021-09-03T23:50:30.536423Z",
     "shell.execute_reply": "2021-09-03T23:50:30.535827Z",
     "shell.execute_reply.started": "2021-09-03T22:56:10.950573Z"
    },
    "papermill": {
     "duration": 40.595731,
     "end_time": "2021-09-03T23:50:30.536587",
     "exception": false,
     "start_time": "2021-09-03T23:49:49.940856",
     "status": "completed"
    },
    "tags": []
   },
   "outputs": [],
   "source": [
    "data = pd.read_csv(\"/kaggle/input/az-handwritten-alphabets-in-csv-format/A_Z Handwritten Data.csv\").astype('float32')\n"
   ]
  },
  {
   "cell_type": "code",
   "execution_count": 4,
   "id": "4e5dc828",
   "metadata": {
    "execution": {
     "iopub.execute_input": "2021-09-03T23:50:30.601950Z",
     "iopub.status.busy": "2021-09-03T23:50:30.601250Z",
     "iopub.status.idle": "2021-09-03T23:50:30.648206Z",
     "shell.execute_reply": "2021-09-03T23:50:30.647605Z",
     "shell.execute_reply.started": "2021-09-03T22:57:13.623089Z"
    },
    "papermill": {
     "duration": 0.087346,
     "end_time": "2021-09-03T23:50:30.648356",
     "exception": false,
     "start_time": "2021-09-03T23:50:30.561010",
     "status": "completed"
    },
    "tags": []
   },
   "outputs": [
    {
     "data": {
      "text/html": [
       "<div>\n",
       "<style scoped>\n",
       "    .dataframe tbody tr th:only-of-type {\n",
       "        vertical-align: middle;\n",
       "    }\n",
       "\n",
       "    .dataframe tbody tr th {\n",
       "        vertical-align: top;\n",
       "    }\n",
       "\n",
       "    .dataframe thead th {\n",
       "        text-align: right;\n",
       "    }\n",
       "</style>\n",
       "<table border=\"1\" class=\"dataframe\">\n",
       "  <thead>\n",
       "    <tr style=\"text-align: right;\">\n",
       "      <th></th>\n",
       "      <th>0</th>\n",
       "      <th>0.1</th>\n",
       "      <th>0.2</th>\n",
       "      <th>0.3</th>\n",
       "      <th>0.4</th>\n",
       "      <th>0.5</th>\n",
       "      <th>0.6</th>\n",
       "      <th>0.7</th>\n",
       "      <th>0.8</th>\n",
       "      <th>0.9</th>\n",
       "      <th>...</th>\n",
       "      <th>0.639</th>\n",
       "      <th>0.640</th>\n",
       "      <th>0.641</th>\n",
       "      <th>0.642</th>\n",
       "      <th>0.643</th>\n",
       "      <th>0.644</th>\n",
       "      <th>0.645</th>\n",
       "      <th>0.646</th>\n",
       "      <th>0.647</th>\n",
       "      <th>0.648</th>\n",
       "    </tr>\n",
       "  </thead>\n",
       "  <tbody>\n",
       "    <tr>\n",
       "      <th>0</th>\n",
       "      <td>0.0</td>\n",
       "      <td>0.0</td>\n",
       "      <td>0.0</td>\n",
       "      <td>0.0</td>\n",
       "      <td>0.0</td>\n",
       "      <td>0.0</td>\n",
       "      <td>0.0</td>\n",
       "      <td>0.0</td>\n",
       "      <td>0.0</td>\n",
       "      <td>0.0</td>\n",
       "      <td>...</td>\n",
       "      <td>0.0</td>\n",
       "      <td>0.0</td>\n",
       "      <td>0.0</td>\n",
       "      <td>0.0</td>\n",
       "      <td>0.0</td>\n",
       "      <td>0.0</td>\n",
       "      <td>0.0</td>\n",
       "      <td>0.0</td>\n",
       "      <td>0.0</td>\n",
       "      <td>0.0</td>\n",
       "    </tr>\n",
       "    <tr>\n",
       "      <th>1</th>\n",
       "      <td>0.0</td>\n",
       "      <td>0.0</td>\n",
       "      <td>0.0</td>\n",
       "      <td>0.0</td>\n",
       "      <td>0.0</td>\n",
       "      <td>0.0</td>\n",
       "      <td>0.0</td>\n",
       "      <td>0.0</td>\n",
       "      <td>0.0</td>\n",
       "      <td>0.0</td>\n",
       "      <td>...</td>\n",
       "      <td>0.0</td>\n",
       "      <td>0.0</td>\n",
       "      <td>0.0</td>\n",
       "      <td>0.0</td>\n",
       "      <td>0.0</td>\n",
       "      <td>0.0</td>\n",
       "      <td>0.0</td>\n",
       "      <td>0.0</td>\n",
       "      <td>0.0</td>\n",
       "      <td>0.0</td>\n",
       "    </tr>\n",
       "    <tr>\n",
       "      <th>2</th>\n",
       "      <td>0.0</td>\n",
       "      <td>0.0</td>\n",
       "      <td>0.0</td>\n",
       "      <td>0.0</td>\n",
       "      <td>0.0</td>\n",
       "      <td>0.0</td>\n",
       "      <td>0.0</td>\n",
       "      <td>0.0</td>\n",
       "      <td>0.0</td>\n",
       "      <td>0.0</td>\n",
       "      <td>...</td>\n",
       "      <td>0.0</td>\n",
       "      <td>0.0</td>\n",
       "      <td>0.0</td>\n",
       "      <td>0.0</td>\n",
       "      <td>0.0</td>\n",
       "      <td>0.0</td>\n",
       "      <td>0.0</td>\n",
       "      <td>0.0</td>\n",
       "      <td>0.0</td>\n",
       "      <td>0.0</td>\n",
       "    </tr>\n",
       "    <tr>\n",
       "      <th>3</th>\n",
       "      <td>0.0</td>\n",
       "      <td>0.0</td>\n",
       "      <td>0.0</td>\n",
       "      <td>0.0</td>\n",
       "      <td>0.0</td>\n",
       "      <td>0.0</td>\n",
       "      <td>0.0</td>\n",
       "      <td>0.0</td>\n",
       "      <td>0.0</td>\n",
       "      <td>0.0</td>\n",
       "      <td>...</td>\n",
       "      <td>0.0</td>\n",
       "      <td>0.0</td>\n",
       "      <td>0.0</td>\n",
       "      <td>0.0</td>\n",
       "      <td>0.0</td>\n",
       "      <td>0.0</td>\n",
       "      <td>0.0</td>\n",
       "      <td>0.0</td>\n",
       "      <td>0.0</td>\n",
       "      <td>0.0</td>\n",
       "    </tr>\n",
       "    <tr>\n",
       "      <th>4</th>\n",
       "      <td>0.0</td>\n",
       "      <td>0.0</td>\n",
       "      <td>0.0</td>\n",
       "      <td>0.0</td>\n",
       "      <td>0.0</td>\n",
       "      <td>0.0</td>\n",
       "      <td>0.0</td>\n",
       "      <td>0.0</td>\n",
       "      <td>0.0</td>\n",
       "      <td>0.0</td>\n",
       "      <td>...</td>\n",
       "      <td>0.0</td>\n",
       "      <td>0.0</td>\n",
       "      <td>0.0</td>\n",
       "      <td>0.0</td>\n",
       "      <td>0.0</td>\n",
       "      <td>0.0</td>\n",
       "      <td>0.0</td>\n",
       "      <td>0.0</td>\n",
       "      <td>0.0</td>\n",
       "      <td>0.0</td>\n",
       "    </tr>\n",
       "  </tbody>\n",
       "</table>\n",
       "<p>5 rows × 785 columns</p>\n",
       "</div>"
      ],
      "text/plain": [
       "     0  0.1  0.2  0.3  0.4  0.5  0.6  0.7  0.8  0.9  ...  0.639  0.640  0.641  \\\n",
       "0  0.0  0.0  0.0  0.0  0.0  0.0  0.0  0.0  0.0  0.0  ...    0.0    0.0    0.0   \n",
       "1  0.0  0.0  0.0  0.0  0.0  0.0  0.0  0.0  0.0  0.0  ...    0.0    0.0    0.0   \n",
       "2  0.0  0.0  0.0  0.0  0.0  0.0  0.0  0.0  0.0  0.0  ...    0.0    0.0    0.0   \n",
       "3  0.0  0.0  0.0  0.0  0.0  0.0  0.0  0.0  0.0  0.0  ...    0.0    0.0    0.0   \n",
       "4  0.0  0.0  0.0  0.0  0.0  0.0  0.0  0.0  0.0  0.0  ...    0.0    0.0    0.0   \n",
       "\n",
       "   0.642  0.643  0.644  0.645  0.646  0.647  0.648  \n",
       "0    0.0    0.0    0.0    0.0    0.0    0.0    0.0  \n",
       "1    0.0    0.0    0.0    0.0    0.0    0.0    0.0  \n",
       "2    0.0    0.0    0.0    0.0    0.0    0.0    0.0  \n",
       "3    0.0    0.0    0.0    0.0    0.0    0.0    0.0  \n",
       "4    0.0    0.0    0.0    0.0    0.0    0.0    0.0  \n",
       "\n",
       "[5 rows x 785 columns]"
      ]
     },
     "execution_count": 4,
     "metadata": {},
     "output_type": "execute_result"
    }
   ],
   "source": [
    "data.head()"
   ]
  },
  {
   "cell_type": "code",
   "execution_count": 5,
   "id": "c9837723",
   "metadata": {
    "execution": {
     "iopub.execute_input": "2021-09-03T23:50:30.701947Z",
     "iopub.status.busy": "2021-09-03T23:50:30.701001Z",
     "iopub.status.idle": "2021-09-03T23:50:30.736317Z",
     "shell.execute_reply": "2021-09-03T23:50:30.737114Z",
     "shell.execute_reply.started": "2021-09-03T22:59:27.196176Z"
    },
    "papermill": {
     "duration": 0.06401,
     "end_time": "2021-09-03T23:50:30.737384",
     "exception": false,
     "start_time": "2021-09-03T23:50:30.673374",
     "status": "completed"
    },
    "tags": []
   },
   "outputs": [
    {
     "data": {
      "text/html": [
       "<div>\n",
       "<style scoped>\n",
       "    .dataframe tbody tr th:only-of-type {\n",
       "        vertical-align: middle;\n",
       "    }\n",
       "\n",
       "    .dataframe tbody tr th {\n",
       "        vertical-align: top;\n",
       "    }\n",
       "\n",
       "    .dataframe thead th {\n",
       "        text-align: right;\n",
       "    }\n",
       "</style>\n",
       "<table border=\"1\" class=\"dataframe\">\n",
       "  <thead>\n",
       "    <tr style=\"text-align: right;\">\n",
       "      <th></th>\n",
       "      <th>0</th>\n",
       "      <th>0.1</th>\n",
       "      <th>0.2</th>\n",
       "      <th>0.3</th>\n",
       "      <th>0.4</th>\n",
       "      <th>0.5</th>\n",
       "      <th>0.6</th>\n",
       "      <th>0.7</th>\n",
       "      <th>0.8</th>\n",
       "      <th>0.9</th>\n",
       "      <th>...</th>\n",
       "      <th>0.639</th>\n",
       "      <th>0.640</th>\n",
       "      <th>0.641</th>\n",
       "      <th>0.642</th>\n",
       "      <th>0.643</th>\n",
       "      <th>0.644</th>\n",
       "      <th>0.645</th>\n",
       "      <th>0.646</th>\n",
       "      <th>0.647</th>\n",
       "      <th>0.648</th>\n",
       "    </tr>\n",
       "  </thead>\n",
       "  <tbody>\n",
       "    <tr>\n",
       "      <th>372445</th>\n",
       "      <td>25.0</td>\n",
       "      <td>0.0</td>\n",
       "      <td>0.0</td>\n",
       "      <td>0.0</td>\n",
       "      <td>0.0</td>\n",
       "      <td>0.0</td>\n",
       "      <td>0.0</td>\n",
       "      <td>0.0</td>\n",
       "      <td>0.0</td>\n",
       "      <td>0.0</td>\n",
       "      <td>...</td>\n",
       "      <td>0.0</td>\n",
       "      <td>0.0</td>\n",
       "      <td>0.0</td>\n",
       "      <td>0.0</td>\n",
       "      <td>0.0</td>\n",
       "      <td>0.0</td>\n",
       "      <td>0.0</td>\n",
       "      <td>0.0</td>\n",
       "      <td>0.0</td>\n",
       "      <td>0.0</td>\n",
       "    </tr>\n",
       "    <tr>\n",
       "      <th>372446</th>\n",
       "      <td>25.0</td>\n",
       "      <td>0.0</td>\n",
       "      <td>0.0</td>\n",
       "      <td>0.0</td>\n",
       "      <td>0.0</td>\n",
       "      <td>0.0</td>\n",
       "      <td>0.0</td>\n",
       "      <td>0.0</td>\n",
       "      <td>0.0</td>\n",
       "      <td>0.0</td>\n",
       "      <td>...</td>\n",
       "      <td>0.0</td>\n",
       "      <td>0.0</td>\n",
       "      <td>0.0</td>\n",
       "      <td>0.0</td>\n",
       "      <td>0.0</td>\n",
       "      <td>0.0</td>\n",
       "      <td>0.0</td>\n",
       "      <td>0.0</td>\n",
       "      <td>0.0</td>\n",
       "      <td>0.0</td>\n",
       "    </tr>\n",
       "    <tr>\n",
       "      <th>372447</th>\n",
       "      <td>25.0</td>\n",
       "      <td>0.0</td>\n",
       "      <td>0.0</td>\n",
       "      <td>0.0</td>\n",
       "      <td>0.0</td>\n",
       "      <td>0.0</td>\n",
       "      <td>0.0</td>\n",
       "      <td>0.0</td>\n",
       "      <td>0.0</td>\n",
       "      <td>0.0</td>\n",
       "      <td>...</td>\n",
       "      <td>0.0</td>\n",
       "      <td>0.0</td>\n",
       "      <td>0.0</td>\n",
       "      <td>0.0</td>\n",
       "      <td>0.0</td>\n",
       "      <td>0.0</td>\n",
       "      <td>0.0</td>\n",
       "      <td>0.0</td>\n",
       "      <td>0.0</td>\n",
       "      <td>0.0</td>\n",
       "    </tr>\n",
       "    <tr>\n",
       "      <th>372448</th>\n",
       "      <td>25.0</td>\n",
       "      <td>0.0</td>\n",
       "      <td>0.0</td>\n",
       "      <td>0.0</td>\n",
       "      <td>0.0</td>\n",
       "      <td>0.0</td>\n",
       "      <td>0.0</td>\n",
       "      <td>0.0</td>\n",
       "      <td>0.0</td>\n",
       "      <td>0.0</td>\n",
       "      <td>...</td>\n",
       "      <td>0.0</td>\n",
       "      <td>0.0</td>\n",
       "      <td>0.0</td>\n",
       "      <td>0.0</td>\n",
       "      <td>0.0</td>\n",
       "      <td>0.0</td>\n",
       "      <td>0.0</td>\n",
       "      <td>0.0</td>\n",
       "      <td>0.0</td>\n",
       "      <td>0.0</td>\n",
       "    </tr>\n",
       "    <tr>\n",
       "      <th>372449</th>\n",
       "      <td>25.0</td>\n",
       "      <td>0.0</td>\n",
       "      <td>0.0</td>\n",
       "      <td>0.0</td>\n",
       "      <td>0.0</td>\n",
       "      <td>0.0</td>\n",
       "      <td>0.0</td>\n",
       "      <td>0.0</td>\n",
       "      <td>0.0</td>\n",
       "      <td>0.0</td>\n",
       "      <td>...</td>\n",
       "      <td>0.0</td>\n",
       "      <td>0.0</td>\n",
       "      <td>0.0</td>\n",
       "      <td>0.0</td>\n",
       "      <td>0.0</td>\n",
       "      <td>0.0</td>\n",
       "      <td>0.0</td>\n",
       "      <td>0.0</td>\n",
       "      <td>0.0</td>\n",
       "      <td>0.0</td>\n",
       "    </tr>\n",
       "  </tbody>\n",
       "</table>\n",
       "<p>5 rows × 785 columns</p>\n",
       "</div>"
      ],
      "text/plain": [
       "           0  0.1  0.2  0.3  0.4  0.5  0.6  0.7  0.8  0.9  ...  0.639  0.640  \\\n",
       "372445  25.0  0.0  0.0  0.0  0.0  0.0  0.0  0.0  0.0  0.0  ...    0.0    0.0   \n",
       "372446  25.0  0.0  0.0  0.0  0.0  0.0  0.0  0.0  0.0  0.0  ...    0.0    0.0   \n",
       "372447  25.0  0.0  0.0  0.0  0.0  0.0  0.0  0.0  0.0  0.0  ...    0.0    0.0   \n",
       "372448  25.0  0.0  0.0  0.0  0.0  0.0  0.0  0.0  0.0  0.0  ...    0.0    0.0   \n",
       "372449  25.0  0.0  0.0  0.0  0.0  0.0  0.0  0.0  0.0  0.0  ...    0.0    0.0   \n",
       "\n",
       "        0.641  0.642  0.643  0.644  0.645  0.646  0.647  0.648  \n",
       "372445    0.0    0.0    0.0    0.0    0.0    0.0    0.0    0.0  \n",
       "372446    0.0    0.0    0.0    0.0    0.0    0.0    0.0    0.0  \n",
       "372447    0.0    0.0    0.0    0.0    0.0    0.0    0.0    0.0  \n",
       "372448    0.0    0.0    0.0    0.0    0.0    0.0    0.0    0.0  \n",
       "372449    0.0    0.0    0.0    0.0    0.0    0.0    0.0    0.0  \n",
       "\n",
       "[5 rows x 785 columns]"
      ]
     },
     "execution_count": 5,
     "metadata": {},
     "output_type": "execute_result"
    }
   ],
   "source": [
    "data.tail()"
   ]
  },
  {
   "cell_type": "markdown",
   "id": "634af994",
   "metadata": {
    "papermill": {
     "duration": 0.02951,
     "end_time": "2021-09-03T23:50:30.796265",
     "exception": false,
     "start_time": "2021-09-03T23:50:30.766755",
     "status": "completed"
    },
    "tags": []
   },
   "source": [
    "# Splitting Dataset into Labels and Images"
   ]
  },
  {
   "cell_type": "code",
   "execution_count": 6,
   "id": "f0dcea2a",
   "metadata": {
    "execution": {
     "iopub.execute_input": "2021-09-03T23:50:30.853564Z",
     "iopub.status.busy": "2021-09-03T23:50:30.852493Z",
     "iopub.status.idle": "2021-09-03T23:50:31.229337Z",
     "shell.execute_reply": "2021-09-03T23:50:31.228308Z",
     "shell.execute_reply.started": "2021-09-03T22:59:58.613102Z"
    },
    "papermill": {
     "duration": 0.406416,
     "end_time": "2021-09-03T23:50:31.229521",
     "exception": false,
     "start_time": "2021-09-03T23:50:30.823105",
     "status": "completed"
    },
    "tags": []
   },
   "outputs": [],
   "source": [
    "X = data.drop('0',axis = 1) # axis=1 for dropping column\n",
    "y = data['0']"
   ]
  },
  {
   "cell_type": "code",
   "execution_count": 7,
   "id": "605fe293",
   "metadata": {
    "execution": {
     "iopub.execute_input": "2021-09-03T23:50:31.312602Z",
     "iopub.status.busy": "2021-09-03T23:50:31.298461Z",
     "iopub.status.idle": "2021-09-03T23:50:31.325980Z",
     "shell.execute_reply": "2021-09-03T23:50:31.325218Z",
     "shell.execute_reply.started": "2021-09-03T23:00:14.851277Z"
    },
    "papermill": {
     "duration": 0.068487,
     "end_time": "2021-09-03T23:50:31.326174",
     "exception": false,
     "start_time": "2021-09-03T23:50:31.257687",
     "status": "completed"
    },
    "tags": []
   },
   "outputs": [
    {
     "data": {
      "text/html": [
       "<div>\n",
       "<style scoped>\n",
       "    .dataframe tbody tr th:only-of-type {\n",
       "        vertical-align: middle;\n",
       "    }\n",
       "\n",
       "    .dataframe tbody tr th {\n",
       "        vertical-align: top;\n",
       "    }\n",
       "\n",
       "    .dataframe thead th {\n",
       "        text-align: right;\n",
       "    }\n",
       "</style>\n",
       "<table border=\"1\" class=\"dataframe\">\n",
       "  <thead>\n",
       "    <tr style=\"text-align: right;\">\n",
       "      <th></th>\n",
       "      <th>0.1</th>\n",
       "      <th>0.2</th>\n",
       "      <th>0.3</th>\n",
       "      <th>0.4</th>\n",
       "      <th>0.5</th>\n",
       "      <th>0.6</th>\n",
       "      <th>0.7</th>\n",
       "      <th>0.8</th>\n",
       "      <th>0.9</th>\n",
       "      <th>0.10</th>\n",
       "      <th>...</th>\n",
       "      <th>0.639</th>\n",
       "      <th>0.640</th>\n",
       "      <th>0.641</th>\n",
       "      <th>0.642</th>\n",
       "      <th>0.643</th>\n",
       "      <th>0.644</th>\n",
       "      <th>0.645</th>\n",
       "      <th>0.646</th>\n",
       "      <th>0.647</th>\n",
       "      <th>0.648</th>\n",
       "    </tr>\n",
       "  </thead>\n",
       "  <tbody>\n",
       "    <tr>\n",
       "      <th>0</th>\n",
       "      <td>0.0</td>\n",
       "      <td>0.0</td>\n",
       "      <td>0.0</td>\n",
       "      <td>0.0</td>\n",
       "      <td>0.0</td>\n",
       "      <td>0.0</td>\n",
       "      <td>0.0</td>\n",
       "      <td>0.0</td>\n",
       "      <td>0.0</td>\n",
       "      <td>0.0</td>\n",
       "      <td>...</td>\n",
       "      <td>0.0</td>\n",
       "      <td>0.0</td>\n",
       "      <td>0.0</td>\n",
       "      <td>0.0</td>\n",
       "      <td>0.0</td>\n",
       "      <td>0.0</td>\n",
       "      <td>0.0</td>\n",
       "      <td>0.0</td>\n",
       "      <td>0.0</td>\n",
       "      <td>0.0</td>\n",
       "    </tr>\n",
       "    <tr>\n",
       "      <th>1</th>\n",
       "      <td>0.0</td>\n",
       "      <td>0.0</td>\n",
       "      <td>0.0</td>\n",
       "      <td>0.0</td>\n",
       "      <td>0.0</td>\n",
       "      <td>0.0</td>\n",
       "      <td>0.0</td>\n",
       "      <td>0.0</td>\n",
       "      <td>0.0</td>\n",
       "      <td>0.0</td>\n",
       "      <td>...</td>\n",
       "      <td>0.0</td>\n",
       "      <td>0.0</td>\n",
       "      <td>0.0</td>\n",
       "      <td>0.0</td>\n",
       "      <td>0.0</td>\n",
       "      <td>0.0</td>\n",
       "      <td>0.0</td>\n",
       "      <td>0.0</td>\n",
       "      <td>0.0</td>\n",
       "      <td>0.0</td>\n",
       "    </tr>\n",
       "    <tr>\n",
       "      <th>2</th>\n",
       "      <td>0.0</td>\n",
       "      <td>0.0</td>\n",
       "      <td>0.0</td>\n",
       "      <td>0.0</td>\n",
       "      <td>0.0</td>\n",
       "      <td>0.0</td>\n",
       "      <td>0.0</td>\n",
       "      <td>0.0</td>\n",
       "      <td>0.0</td>\n",
       "      <td>0.0</td>\n",
       "      <td>...</td>\n",
       "      <td>0.0</td>\n",
       "      <td>0.0</td>\n",
       "      <td>0.0</td>\n",
       "      <td>0.0</td>\n",
       "      <td>0.0</td>\n",
       "      <td>0.0</td>\n",
       "      <td>0.0</td>\n",
       "      <td>0.0</td>\n",
       "      <td>0.0</td>\n",
       "      <td>0.0</td>\n",
       "    </tr>\n",
       "    <tr>\n",
       "      <th>3</th>\n",
       "      <td>0.0</td>\n",
       "      <td>0.0</td>\n",
       "      <td>0.0</td>\n",
       "      <td>0.0</td>\n",
       "      <td>0.0</td>\n",
       "      <td>0.0</td>\n",
       "      <td>0.0</td>\n",
       "      <td>0.0</td>\n",
       "      <td>0.0</td>\n",
       "      <td>0.0</td>\n",
       "      <td>...</td>\n",
       "      <td>0.0</td>\n",
       "      <td>0.0</td>\n",
       "      <td>0.0</td>\n",
       "      <td>0.0</td>\n",
       "      <td>0.0</td>\n",
       "      <td>0.0</td>\n",
       "      <td>0.0</td>\n",
       "      <td>0.0</td>\n",
       "      <td>0.0</td>\n",
       "      <td>0.0</td>\n",
       "    </tr>\n",
       "    <tr>\n",
       "      <th>4</th>\n",
       "      <td>0.0</td>\n",
       "      <td>0.0</td>\n",
       "      <td>0.0</td>\n",
       "      <td>0.0</td>\n",
       "      <td>0.0</td>\n",
       "      <td>0.0</td>\n",
       "      <td>0.0</td>\n",
       "      <td>0.0</td>\n",
       "      <td>0.0</td>\n",
       "      <td>0.0</td>\n",
       "      <td>...</td>\n",
       "      <td>0.0</td>\n",
       "      <td>0.0</td>\n",
       "      <td>0.0</td>\n",
       "      <td>0.0</td>\n",
       "      <td>0.0</td>\n",
       "      <td>0.0</td>\n",
       "      <td>0.0</td>\n",
       "      <td>0.0</td>\n",
       "      <td>0.0</td>\n",
       "      <td>0.0</td>\n",
       "    </tr>\n",
       "  </tbody>\n",
       "</table>\n",
       "<p>5 rows × 784 columns</p>\n",
       "</div>"
      ],
      "text/plain": [
       "   0.1  0.2  0.3  0.4  0.5  0.6  0.7  0.8  0.9  0.10  ...  0.639  0.640  \\\n",
       "0  0.0  0.0  0.0  0.0  0.0  0.0  0.0  0.0  0.0   0.0  ...    0.0    0.0   \n",
       "1  0.0  0.0  0.0  0.0  0.0  0.0  0.0  0.0  0.0   0.0  ...    0.0    0.0   \n",
       "2  0.0  0.0  0.0  0.0  0.0  0.0  0.0  0.0  0.0   0.0  ...    0.0    0.0   \n",
       "3  0.0  0.0  0.0  0.0  0.0  0.0  0.0  0.0  0.0   0.0  ...    0.0    0.0   \n",
       "4  0.0  0.0  0.0  0.0  0.0  0.0  0.0  0.0  0.0   0.0  ...    0.0    0.0   \n",
       "\n",
       "   0.641  0.642  0.643  0.644  0.645  0.646  0.647  0.648  \n",
       "0    0.0    0.0    0.0    0.0    0.0    0.0    0.0    0.0  \n",
       "1    0.0    0.0    0.0    0.0    0.0    0.0    0.0    0.0  \n",
       "2    0.0    0.0    0.0    0.0    0.0    0.0    0.0    0.0  \n",
       "3    0.0    0.0    0.0    0.0    0.0    0.0    0.0    0.0  \n",
       "4    0.0    0.0    0.0    0.0    0.0    0.0    0.0    0.0  \n",
       "\n",
       "[5 rows x 784 columns]"
      ]
     },
     "execution_count": 7,
     "metadata": {},
     "output_type": "execute_result"
    }
   ],
   "source": [
    "X.head()"
   ]
  },
  {
   "cell_type": "markdown",
   "id": "fb793a76",
   "metadata": {
    "papermill": {
     "duration": 0.042214,
     "end_time": "2021-09-03T23:50:31.412098",
     "exception": false,
     "start_time": "2021-09-03T23:50:31.369884",
     "status": "completed"
    },
    "tags": []
   },
   "source": [
    "It is a 28x28 image flattened to 784 pixels"
   ]
  },
  {
   "cell_type": "code",
   "execution_count": 8,
   "id": "8921d7b0",
   "metadata": {
    "execution": {
     "iopub.execute_input": "2021-09-03T23:50:31.479312Z",
     "iopub.status.busy": "2021-09-03T23:50:31.478328Z",
     "iopub.status.idle": "2021-09-03T23:50:31.482051Z",
     "shell.execute_reply": "2021-09-03T23:50:31.482700Z",
     "shell.execute_reply.started": "2021-09-03T23:00:26.659031Z"
    },
    "papermill": {
     "duration": 0.040067,
     "end_time": "2021-09-03T23:50:31.482899",
     "exception": false,
     "start_time": "2021-09-03T23:50:31.442832",
     "status": "completed"
    },
    "tags": []
   },
   "outputs": [
    {
     "data": {
      "text/plain": [
       "0    0.0\n",
       "1    0.0\n",
       "2    0.0\n",
       "3    0.0\n",
       "4    0.0\n",
       "Name: 0, dtype: float32"
      ]
     },
     "execution_count": 8,
     "metadata": {},
     "output_type": "execute_result"
    }
   ],
   "source": [
    "y.head()"
   ]
  },
  {
   "cell_type": "markdown",
   "id": "1b155bdf",
   "metadata": {
    "papermill": {
     "duration": 0.029546,
     "end_time": "2021-09-03T23:50:31.546614",
     "exception": false,
     "start_time": "2021-09-03T23:50:31.517068",
     "status": "completed"
    },
    "tags": []
   },
   "source": [
    "# Reshaping the data to display it as image and splitting the Dataset as Test and Train data"
   ]
  },
  {
   "cell_type": "code",
   "execution_count": 9,
   "id": "be325f98",
   "metadata": {
    "execution": {
     "iopub.execute_input": "2021-09-03T23:50:31.612684Z",
     "iopub.status.busy": "2021-09-03T23:50:31.611538Z",
     "iopub.status.idle": "2021-09-03T23:50:34.499736Z",
     "shell.execute_reply": "2021-09-03T23:50:34.500333Z",
     "shell.execute_reply.started": "2021-09-03T23:03:55.789746Z"
    },
    "papermill": {
     "duration": 2.923574,
     "end_time": "2021-09-03T23:50:34.500550",
     "exception": false,
     "start_time": "2021-09-03T23:50:31.576976",
     "status": "completed"
    },
    "tags": []
   },
   "outputs": [
    {
     "name": "stdout",
     "output_type": "stream",
     "text": [
      "Train data shape:  (74490, 28, 28)\n",
      "Test data shape:  (74490, 28, 28)\n"
     ]
    }
   ],
   "source": [
    "X_train, X_test, Y_train, Y_test = train_test_split(X, y, test_size = 0.2)\n",
    "\n",
    "X_train = np.reshape(X_train.values, (X_train.shape[0], 28,28))\n",
    "X_test = np.reshape(X_test.values, (X_test.shape[0], 28,28)) #0=> B&W, 28x28 matrix\n",
    "\n",
    "print(\"Train data shape: \", X_test.shape)\n",
    "print(\"Test data shape: \", X_test.shape)"
   ]
  },
  {
   "cell_type": "markdown",
   "id": "a394f351",
   "metadata": {
    "papermill": {
     "duration": 0.027514,
     "end_time": "2021-09-03T23:50:34.559132",
     "exception": false,
     "start_time": "2021-09-03T23:50:34.531618",
     "status": "completed"
    },
    "tags": []
   },
   "source": [
    "# Creating dictionary of column number to corresponding letter"
   ]
  },
  {
   "cell_type": "code",
   "execution_count": 10,
   "id": "28b954c9",
   "metadata": {
    "execution": {
     "iopub.execute_input": "2021-09-03T23:50:34.621903Z",
     "iopub.status.busy": "2021-09-03T23:50:34.621206Z",
     "iopub.status.idle": "2021-09-03T23:50:34.624937Z",
     "shell.execute_reply": "2021-09-03T23:50:34.625417Z",
     "shell.execute_reply.started": "2021-09-03T23:05:37.699723Z"
    },
    "papermill": {
     "duration": 0.039216,
     "end_time": "2021-09-03T23:50:34.625602",
     "exception": false,
     "start_time": "2021-09-03T23:50:34.586386",
     "status": "completed"
    },
    "tags": []
   },
   "outputs": [],
   "source": [
    "word_dict = {0:'A',1:'B',2:'C',3:'D',4:'E',5:'F',6:'G',7:'H',8:'I',9:'J',10:'K',11:'L',12:'M',13:'N',14:'O',15:'P',16:'Q',17:'R',18:'S',19:'T',20:'U',21:'V',22:'W',23:'X', 24:'Y',25:'Z'}"
   ]
  },
  {
   "cell_type": "markdown",
   "id": "25e7f1c3",
   "metadata": {
    "papermill": {
     "duration": 0.026705,
     "end_time": "2021-09-03T23:50:34.680299",
     "exception": false,
     "start_time": "2021-09-03T23:50:34.653594",
     "status": "completed"
    },
    "tags": []
   },
   "source": [
    "# Plotting Count of Each Alphabet in Dataset"
   ]
  },
  {
   "cell_type": "code",
   "execution_count": 11,
   "id": "2853e0a5",
   "metadata": {
    "execution": {
     "iopub.execute_input": "2021-09-03T23:50:34.739778Z",
     "iopub.status.busy": "2021-09-03T23:50:34.738816Z",
     "iopub.status.idle": "2021-09-03T23:50:35.643225Z",
     "shell.execute_reply": "2021-09-03T23:50:35.643706Z",
     "shell.execute_reply.started": "2021-09-03T23:08:08.905580Z"
    },
    "papermill": {
     "duration": 0.936237,
     "end_time": "2021-09-03T23:50:35.643924",
     "exception": false,
     "start_time": "2021-09-03T23:50:34.707687",
     "status": "completed"
    },
    "tags": []
   },
   "outputs": [
    {
     "data": {
      "image/png": "[encoded data removed]",
      "text/plain": [
       "<Figure size 720x720 with 1 Axes>"
      ]
     },
     "metadata": {
      "needs_background": "light"
     },
     "output_type": "display_data"
    }
   ],
   "source": [
    "y_int = np.int0(y) \n",
    "count = np.zeros(26, dtype='int') #a vector of size 26 with all 0 values\n",
    "for i in y_int:\n",
    "    count[i] +=1 #total count of each alphabet\n",
    "\n",
    "alphabets = []\n",
    "for i in word_dict.values():\n",
    "    alphabets.append(i) #all alphabets\n",
    "\n",
    "fig, ax = plt.subplots(1,1, figsize=(10,10))\n",
    "ax.barh(alphabets, count)\n",
    "\n",
    "plt.xlabel(\"Number of elements \")\n",
    "plt.ylabel(\"Alphabets\")\n",
    "plt.grid()\n",
    "plt.show()"
   ]
  },
  {
   "cell_type": "markdown",
   "id": "c2b23cf7",
   "metadata": {
    "papermill": {
     "duration": 0.030273,
     "end_time": "2021-09-03T23:50:35.702944",
     "exception": false,
     "start_time": "2021-09-03T23:50:35.672671",
     "status": "completed"
    },
    "tags": []
   },
   "source": [
    "# Displaying few letters"
   ]
  },
  {
   "cell_type": "code",
   "execution_count": 12,
   "id": "a6e8e4a8",
   "metadata": {
    "execution": {
     "iopub.execute_input": "2021-09-03T23:50:35.770959Z",
     "iopub.status.busy": "2021-09-03T23:50:35.769844Z",
     "iopub.status.idle": "2021-09-03T23:50:37.251217Z",
     "shell.execute_reply": "2021-09-03T23:50:37.251720Z",
     "shell.execute_reply.started": "2021-09-03T23:16:11.820485Z"
    },
    "papermill": {
     "duration": 1.517303,
     "end_time": "2021-09-03T23:50:37.251910",
     "exception": false,
     "start_time": "2021-09-03T23:50:35.734607",
     "status": "completed"
    },
    "tags": []
   },
   "outputs": [
    {
     "data": {
      "image/png": "[encoded data removed]",
      "text/plain": [
       "<Figure size 720x720 with 9 Axes>"
      ]
     },
     "metadata": {
      "needs_background": "light"
     },
     "output_type": "display_data"
    }
   ],
   "source": [
    "shuff = shuffle(X_train[:100])\n",
    "\n",
    "fig, ax = plt.subplots(3,3, figsize = (10,10))\n",
    "axes = ax.flatten()\n",
    "\n",
    "for i in range(9):\n",
    "    _, shu = cv2.threshold(shuff[i], 30, 200, cv2.THRESH_BINARY)\n",
    "    axes[i].imshow(np.reshape(shuff[i], (28,28)), cmap=\"Greys\")\n",
    "plt.show()"
   ]
  },
  {
   "cell_type": "markdown",
   "id": "1b9965d4",
   "metadata": {
    "papermill": {
     "duration": 0.029946,
     "end_time": "2021-09-03T23:50:37.312732",
     "exception": false,
     "start_time": "2021-09-03T23:50:37.282786",
     "status": "completed"
    },
    "tags": []
   },
   "source": [
    "# Reshaping data to feed to CNN"
   ]
  },
  {
   "cell_type": "code",
   "execution_count": 13,
   "id": "817a6ff9",
   "metadata": {
    "execution": {
     "iopub.execute_input": "2021-09-03T23:50:37.377060Z",
     "iopub.status.busy": "2021-09-03T23:50:37.376035Z",
     "iopub.status.idle": "2021-09-03T23:50:37.381261Z",
     "shell.execute_reply": "2021-09-03T23:50:37.381746Z",
     "shell.execute_reply.started": "2021-09-03T23:21:16.463958Z"
    },
    "papermill": {
     "duration": 0.040299,
     "end_time": "2021-09-03T23:50:37.381914",
     "exception": false,
     "start_time": "2021-09-03T23:50:37.341615",
     "status": "completed"
    },
    "tags": []
   },
   "outputs": [
    {
     "name": "stdout",
     "output_type": "stream",
     "text": [
      "New shape of train data:  (297960, 28, 28, 1)\n",
      "New shape of train data:  (74490, 28, 28, 1)\n"
     ]
    }
   ],
   "source": [
    "X_train = X_train.reshape(X_train.shape[0],X_train.shape[1],X_train.shape[2],1) #RGB =>Channel of 1\n",
    "print(\"New shape of train data: \", X_train.shape)\n",
    "\n",
    "X_test = X_test.reshape(X_test.shape[0], X_test.shape[1], X_test.shape[2],1) #RGB =>Channel of 1\n",
    "print(\"New shape of train data: \", X_test.shape)"
   ]
  },
  {
   "cell_type": "markdown",
   "id": "3b400463",
   "metadata": {
    "papermill": {
     "duration": 0.028856,
     "end_time": "2021-09-03T23:50:37.439883",
     "exception": false,
     "start_time": "2021-09-03T23:50:37.411027",
     "status": "completed"
    },
    "tags": []
   },
   "source": [
    "# Converting Single float value to Categorical Values"
   ]
  },
  {
   "cell_type": "code",
   "execution_count": 14,
   "id": "5f4aa40b",
   "metadata": {
    "execution": {
     "iopub.execute_input": "2021-09-03T23:50:37.504934Z",
     "iopub.status.busy": "2021-09-03T23:50:37.504306Z",
     "iopub.status.idle": "2021-09-03T23:50:37.544768Z",
     "shell.execute_reply": "2021-09-03T23:50:37.545272Z",
     "shell.execute_reply.started": "2021-09-03T23:23:54.565750Z"
    },
    "papermill": {
     "duration": 0.076049,
     "end_time": "2021-09-03T23:50:37.545457",
     "exception": false,
     "start_time": "2021-09-03T23:50:37.469408",
     "status": "completed"
    },
    "tags": []
   },
   "outputs": [
    {
     "name": "stdout",
     "output_type": "stream",
     "text": [
      "New shape of train labels:  (297960, 26)\n",
      "New shape of test labels:  (74490, 26)\n"
     ]
    }
   ],
   "source": [
    "train_yOHE = to_categorical(Y_train, num_classes = 26, dtype='int')\n",
    "print(\"New shape of train labels: \", train_yOHE.shape)\n",
    "\n",
    "test_yOHE = to_categorical(Y_test, num_classes = 26, dtype='int')\n",
    "print(\"New shape of test labels: \", test_yOHE.shape)"
   ]
  },
  {
   "cell_type": "markdown",
   "id": "c736f8a3",
   "metadata": {
    "papermill": {
     "duration": 0.029317,
     "end_time": "2021-09-03T23:50:37.604171",
     "exception": false,
     "start_time": "2021-09-03T23:50:37.574854",
     "status": "completed"
    },
    "tags": []
   },
   "source": [
    "# Building CNN Model"
   ]
  },
  {
   "cell_type": "code",
   "execution_count": 15,
   "id": "5f75e62b",
   "metadata": {
    "execution": {
     "iopub.execute_input": "2021-09-03T23:50:37.673508Z",
     "iopub.status.busy": "2021-09-03T23:50:37.672826Z",
     "iopub.status.idle": "2021-09-03T23:50:37.906801Z",
     "shell.execute_reply": "2021-09-03T23:50:37.907357Z",
     "shell.execute_reply.started": "2021-09-03T23:29:14.489672Z"
    },
    "papermill": {
     "duration": 0.273771,
     "end_time": "2021-09-03T23:50:37.907544",
     "exception": false,
     "start_time": "2021-09-03T23:50:37.633773",
     "status": "completed"
    },
    "tags": []
   },
   "outputs": [],
   "source": [
    "model = Sequential()\n",
    "#CNN\n",
    "# input -> conv -> maxpool -> conv -> maxpool ......->flattened vector-> \n",
    "#.                        hidden layer -> hidden layer -> softmax layer\n",
    "model.add(Conv2D(filters=32, kernel_size=(3, 3), activation='relu', input_shape=(28,28,1)))\n",
    "model.add(MaxPool2D(pool_size=(2, 2), strides=2))\n",
    "\n",
    "model.add(Conv2D(filters=64, kernel_size=(3, 3), activation='relu', padding = 'same'))\n",
    "model.add(MaxPool2D(pool_size=(2, 2), strides=2))\n",
    "\n",
    "model.add(Conv2D(filters=128, kernel_size=(3, 3), activation='relu', padding = 'valid'))\n",
    "model.add(MaxPool2D(pool_size=(2, 2), strides=2))\n",
    "\n",
    "model.add(Flatten())\n",
    "\n",
    "model.add(Dense(64,activation =\"relu\"))\n",
    "model.add(Dense(128,activation =\"relu\"))\n",
    "\n",
    "model.add(Dense(26,activation =\"softmax\"))"
   ]
  },
  {
   "cell_type": "markdown",
   "id": "6b3e7996",
   "metadata": {
    "papermill": {
     "duration": 0.029164,
     "end_time": "2021-09-03T23:50:37.966689",
     "exception": false,
     "start_time": "2021-09-03T23:50:37.937525",
     "status": "completed"
    },
    "tags": []
   },
   "source": [
    "# Compiling and Training the CNN"
   ]
  },
  {
   "cell_type": "code",
   "execution_count": 16,
   "id": "5ec6046b",
   "metadata": {
    "execution": {
     "iopub.execute_input": "2021-09-03T23:50:38.043625Z",
     "iopub.status.busy": "2021-09-03T23:50:38.040427Z",
     "iopub.status.idle": "2021-09-03T23:54:48.979133Z",
     "shell.execute_reply": "2021-09-03T23:54:48.980076Z",
     "shell.execute_reply.started": "2021-09-03T23:30:04.679859Z"
    },
    "papermill": {
     "duration": 250.983922,
     "end_time": "2021-09-03T23:54:48.980413",
     "exception": false,
     "start_time": "2021-09-03T23:50:37.996491",
     "status": "completed"
    },
    "tags": []
   },
   "outputs": [
    {
     "name": "stdout",
     "output_type": "stream",
     "text": [
      "9312/9312 [==============================] - 244s 26ms/step - loss: 0.3757 - accuracy: 0.9115 - val_loss: 0.0877 - val_accuracy: 0.9751\n"
     ]
    }
   ],
   "source": [
    "model.compile(optimizer = Adam(learning_rate=0.001), loss='categorical_crossentropy', metrics=['accuracy'])\n",
    "\n",
    "history = model.fit(X_train, train_yOHE, epochs=1,  validation_data = (X_test,test_yOHE))"
   ]
  },
  {
   "cell_type": "markdown",
   "id": "649565e0",
   "metadata": {
    "papermill": {
     "duration": 1.08852,
     "end_time": "2021-09-03T23:54:51.158168",
     "exception": false,
     "start_time": "2021-09-03T23:54:50.069648",
     "status": "completed"
    },
    "tags": []
   },
   "source": [
    "# Printing Model Summary"
   ]
  },
  {
   "cell_type": "code",
   "execution_count": 17,
   "id": "6e4eb5f7",
   "metadata": {
    "execution": {
     "iopub.execute_input": "2021-09-03T23:54:53.342936Z",
     "iopub.status.busy": "2021-09-03T23:54:53.341905Z",
     "iopub.status.idle": "2021-09-03T23:54:53.403216Z",
     "shell.execute_reply": "2021-09-03T23:54:53.402332Z",
     "shell.execute_reply.started": "2021-09-03T23:35:07.724289Z"
    },
    "papermill": {
     "duration": 1.162631,
     "end_time": "2021-09-03T23:54:53.403407",
     "exception": false,
     "start_time": "2021-09-03T23:54:52.240776",
     "status": "completed"
    },
    "tags": []
   },
   "outputs": [
    {
     "name": "stdout",
     "output_type": "stream",
     "text": [
      "Model: \"sequential\"\n",
      "_________________________________________________________________\n",
      "Layer (type)                 Output Shape              Param #   \n",
      "=================================================================\n",
      "conv2d (Conv2D)              (None, 26, 26, 32)        320       \n",
      "_________________________________________________________________\n",
      "max_pooling2d (MaxPooling2D) (None, 13, 13, 32)        0         \n",
      "_________________________________________________________________\n",
      "conv2d_1 (Conv2D)            (None, 13, 13, 64)        18496     \n",
      "_________________________________________________________________\n",
      "max_pooling2d_1 (MaxPooling2 (None, 6, 6, 64)          0         \n",
      "_________________________________________________________________\n",
      "conv2d_2 (Conv2D)            (None, 4, 4, 128)         73856     \n",
      "_________________________________________________________________\n",
      "max_pooling2d_2 (MaxPooling2 (None, 2, 2, 128)         0         \n",
      "_________________________________________________________________\n",
      "flatten (Flatten)            (None, 512)               0         \n",
      "_________________________________________________________________\n",
      "dense (Dense)                (None, 64)                32832     \n",
      "_________________________________________________________________\n",
      "dense_1 (Dense)              (None, 128)               8320      \n",
      "_________________________________________________________________\n",
      "dense_2 (Dense)              (None, 26)                3354      \n",
      "=================================================================\n",
      "Total params: 137,178\n",
      "Trainable params: 137,178\n",
      "Non-trainable params: 0\n",
      "_________________________________________________________________\n"
     ]
    }
   ],
   "source": [
    "model.summary()\n",
    "model.save(r'model_hand.h5')"
   ]
  },
  {
   "cell_type": "code",
   "execution_count": 18,
   "id": "7abc31b2",
   "metadata": {
    "execution": {
     "iopub.execute_input": "2021-09-03T23:54:55.571739Z",
     "iopub.status.busy": "2021-09-03T23:54:55.570942Z",
     "iopub.status.idle": "2021-09-03T23:54:55.575016Z",
     "shell.execute_reply": "2021-09-03T23:54:55.574370Z",
     "shell.execute_reply.started": "2021-09-03T23:35:40.723615Z"
    },
    "papermill": {
     "duration": 1.095379,
     "end_time": "2021-09-03T23:54:55.575204",
     "exception": false,
     "start_time": "2021-09-03T23:54:54.479825",
     "status": "completed"
    },
    "tags": []
   },
   "outputs": [
    {
     "name": "stdout",
     "output_type": "stream",
     "text": [
      "The validation accuracy is : [0.9750838875770569]\n",
      "The training accuracy is : [0.9563632607460022]\n",
      "The validation loss is : [0.08770113438367844]\n",
      "The training loss is : [0.16042937338352203]\n"
     ]
    }
   ],
   "source": [
    "print(\"The validation accuracy is :\", history.history['val_accuracy'])\n",
    "print(\"The training accuracy is :\", history.history['accuracy'])\n",
    "print(\"The validation loss is :\", history.history['val_loss'])\n",
    "print(\"The training loss is :\", history.history['loss'])"
   ]
  },
  {
   "cell_type": "markdown",
   "id": "271a8bb7",
   "metadata": {
    "papermill": {
     "duration": 1.069422,
     "end_time": "2021-09-03T23:54:57.810101",
     "exception": false,
     "start_time": "2021-09-03T23:54:56.740679",
     "status": "completed"
    },
    "tags": []
   },
   "source": [
    "# Making Predictions"
   ]
  },
  {
   "cell_type": "code",
   "execution_count": 19,
   "id": "95d7013b",
   "metadata": {
    "execution": {
     "iopub.execute_input": "2021-09-03T23:55:00.039994Z",
     "iopub.status.busy": "2021-09-03T23:55:00.034208Z",
     "iopub.status.idle": "2021-09-03T23:55:01.350007Z",
     "shell.execute_reply": "2021-09-03T23:55:01.349459Z",
     "shell.execute_reply.started": "2021-09-03T23:37:28.191866Z"
    },
    "papermill": {
     "duration": 2.456665,
     "end_time": "2021-09-03T23:55:01.350176",
     "exception": false,
     "start_time": "2021-09-03T23:54:58.893511",
     "status": "completed"
    },
    "tags": []
   },
   "outputs": [
    {
     "data": {
      "image/png": "[encoded data removed]",
      "text/plain": [
       "<Figure size 576x648 with 9 Axes>"
      ]
     },
     "metadata": {
      "needs_background": "light"
     },
     "output_type": "display_data"
    }
   ],
   "source": [
    "fig, axes = plt.subplots(3,3, figsize=(8,9))\n",
    "axes = axes.flatten()\n",
    "\n",
    "for i,ax in enumerate(axes):\n",
    "    img = np.reshape(X_test[i], (28,28))\n",
    "    ax.imshow(img, cmap=\"Greys\")\n",
    "    \n",
    "    pred = word_dict[np.argmax(test_yOHE[i])]\n",
    "    ax.set_title(\"Prediction: \"+pred)\n",
    "    ax.grid()"
   ]
  },
  {
   "cell_type": "code",
   "execution_count": 20,
   "id": "2fe9a8ad",
   "metadata": {
    "execution": {
     "iopub.execute_input": "2021-09-03T23:55:03.565965Z",
     "iopub.status.busy": "2021-09-03T23:55:03.541878Z",
     "iopub.status.idle": "2021-09-03T23:55:05.273952Z",
     "shell.execute_reply": "2021-09-03T23:55:05.273239Z",
     "shell.execute_reply.started": "2021-09-03T23:46:11.845098Z"
    },
    "papermill": {
     "duration": 2.847219,
     "end_time": "2021-09-03T23:55:05.274113",
     "exception": false,
     "start_time": "2021-09-03T23:55:02.426894",
     "status": "completed"
    },
    "tags": []
   },
   "outputs": [
    {
     "data": {
      "image/png": "[encoded data removed]",
      "text/plain": [
       "<Figure size 576x648 with 9 Axes>"
      ]
     },
     "metadata": {
      "needs_background": "light"
     },
     "output_type": "display_data"
    }
   ],
   "source": [
    "fig, axes = plt.subplots(3,3, figsize=(8,9))\n",
    "axes = axes.flatten()\n",
    "\n",
    "for i,ax in enumerate(axes):\n",
    "    img = np.reshape(X_test[i], (28,28)) # reshaping it for displaying\n",
    "    ax.imshow(img, cmap=\"Greys\")\n",
    "    img_final =np.reshape(img, (1,28,28,1)) # reshapng it for passing into model for prediction\n",
    "    pred = word_dict[np.argmax(model.predict(img_final))]\n",
    "    ax.set_title(\"Prediction: \"+pred)\n",
    "    ax.grid()"
   ]
  },
  {
   "cell_type": "code",
   "execution_count": null,
   "id": "ece10453",
   "metadata": {
    "papermill": {
     "duration": 1.081111,
     "end_time": "2021-09-03T23:55:07.437170",
     "exception": false,
     "start_time": "2021-09-03T23:55:06.356059",
     "status": "completed"
    },
    "tags": []
   },
   "outputs": [],
   "source": []
  }
 ],
 "metadata": {
  "kernelspec": {
   "display_name": "Python 3",
   "language": "python",
   "name": "python3"
  },
  "language_info": {
   "codemirror_mode": {
    "name": "ipython",
    "version": 3
   },
   "file_extension": ".py",
   "mimetype": "text/x-python",
   "name": "python",
   "nbconvert_exporter": "python",
   "pygments_lexer": "ipython3",
   "version": "3.7.10"
  },
  "papermill": {
   "default_parameters": {},
   "duration": 339.290536,
   "end_time": "2021-09-03T23:55:12.191880",
   "environment_variables": {},
   "exception": null,
   "input_path": "__notebook__.ipynb",
   "output_path": "__notebook__.ipynb",
   "parameters": {},
   "start_time": "2021-09-03T23:49:32.901344",
   "version": "2.3.3"
  }
 },
 "nbformat": 4,
 "nbformat_minor": 5
}
