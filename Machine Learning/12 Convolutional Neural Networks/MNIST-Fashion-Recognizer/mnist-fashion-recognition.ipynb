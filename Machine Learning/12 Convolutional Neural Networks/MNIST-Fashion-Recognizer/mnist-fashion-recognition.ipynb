{
 "cells": [
  {
   "cell_type": "markdown",
   "metadata": {
    "id": "4DYOYMLgC4hJ",
    "papermill": {
     "duration": 0.031866,
     "end_time": "2020-12-05T11:42:20.061668",
     "exception": false,
     "start_time": "2020-12-05T11:42:20.029802",
     "status": "completed"
    },
    "tags": []
   },
   "source": [
    "# MNIST Fashion Recognizer with CNN"
   ]
  },
  {
   "cell_type": "markdown",
   "metadata": {
    "id": "YSm4ajutJ3r6",
    "papermill": {
     "duration": 0.032074,
     "end_time": "2020-12-05T11:42:20.331372",
     "exception": false,
     "start_time": "2020-12-05T11:42:20.299298",
     "status": "completed"
    },
    "tags": []
   },
   "source": [
    "## Libraries"
   ]
  },
  {
   "cell_type": "code",
   "execution_count": 35,
   "metadata": {
    "execution": {
     "iopub.execute_input": "2020-12-05T11:42:20.406538Z",
     "iopub.status.busy": "2020-12-05T11:42:20.405625Z",
     "iopub.status.idle": "2020-12-05T11:42:26.689739Z",
     "shell.execute_reply": "2020-12-05T11:42:26.688831Z"
    },
    "id": "OtM9q5-2HT_h",
    "outputId": "56ccd1f8-8ba0-4fb0-b2ea-1169e0f68f75",
    "papermill": {
     "duration": 6.326597,
     "end_time": "2020-12-05T11:42:26.689877",
     "exception": false,
     "start_time": "2020-12-05T11:42:20.363280",
     "status": "completed"
    },
    "tags": []
   },
   "outputs": [],
   "source": [
    "import tensorflow as tf\n",
    "from tensorflow.keras import Sequential\n",
    "\n",
    "from tensorflow.keras.layers import Dense , Conv2D, MaxPool2D, Flatten, Dropout, BatchNormalization\n",
    "\n",
    "import numpy as np\n",
    "import pandas as pd\n",
    "import seaborn as sns\n",
    "import matplotlib.pyplot as plt\n",
    "from sklearn.model_selection import train_test_split\n",
    "from sklearn.preprocessing import StandardScaler\n",
    "from sklearn.feature_selection import VarianceThreshold\n",
    "from sklearn.metrics import multilabel_confusion_matrix, confusion_matrix\n",
    "from mlxtend.plotting import plot_confusion_matrix"
   ]
  },
  {
   "cell_type": "markdown",
   "metadata": {
    "id": "a0YsDCoAKFro",
    "papermill": {
     "duration": 0.050144,
     "end_time": "2020-12-05T11:42:26.932779",
     "exception": false,
     "start_time": "2020-12-05T11:42:26.882635",
     "status": "completed"
    },
    "tags": []
   },
   "source": [
    "## Data Loading and Visualization"
   ]
  },
  {
   "cell_type": "code",
   "execution_count": 3,
   "metadata": {
    "execution": {
     "iopub.execute_input": "2020-12-05T11:42:27.038315Z",
     "iopub.status.busy": "2020-12-05T11:42:27.037683Z",
     "iopub.status.idle": "2020-12-05T11:42:32.679499Z",
     "shell.execute_reply": "2020-12-05T11:42:32.678761Z"
    },
    "id": "7umwdrmWH4oc",
    "papermill": {
     "duration": 5.697459,
     "end_time": "2020-12-05T11:42:32.679614",
     "exception": false,
     "start_time": "2020-12-05T11:42:26.982155",
     "status": "completed"
    },
    "tags": []
   },
   "outputs": [],
   "source": [
    "train=pd.read_csv('Fashion MNIST/fashion-mnist_train.csv')"
   ]
  },
  {
   "cell_type": "code",
   "execution_count": 6,
   "metadata": {
    "execution": {
     "iopub.execute_input": "2020-12-05T11:42:32.756054Z",
     "iopub.status.busy": "2020-12-05T11:42:32.755420Z",
     "iopub.status.idle": "2020-12-05T11:42:32.772451Z",
     "shell.execute_reply": "2020-12-05T11:42:32.773096Z"
    },
    "id": "D4faEOlOIAQ8",
    "outputId": "9e4fe98c-c853-4b2f-d0ac-e57ee9ba9497",
    "papermill": {
     "duration": 0.061045,
     "end_time": "2020-12-05T11:42:32.773252",
     "exception": false,
     "start_time": "2020-12-05T11:42:32.712207",
     "status": "completed"
    },
    "tags": []
   },
   "outputs": [
    {
     "name": "stdout",
     "output_type": "stream",
     "text": [
      "(60000, 785)\n"
     ]
    },
    {
     "data": {
      "text/html": [
       "<div>\n",
       "<style scoped>\n",
       "    .dataframe tbody tr th:only-of-type {\n",
       "        vertical-align: middle;\n",
       "    }\n",
       "\n",
       "    .dataframe tbody tr th {\n",
       "        vertical-align: top;\n",
       "    }\n",
       "\n",
       "    .dataframe thead th {\n",
       "        text-align: right;\n",
       "    }\n",
       "</style>\n",
       "<table border=\"1\" class=\"dataframe\">\n",
       "  <thead>\n",
       "    <tr style=\"text-align: right;\">\n",
       "      <th></th>\n",
       "      <th>label</th>\n",
       "      <th>pixel1</th>\n",
       "      <th>pixel2</th>\n",
       "      <th>pixel3</th>\n",
       "      <th>pixel4</th>\n",
       "      <th>pixel5</th>\n",
       "      <th>pixel6</th>\n",
       "      <th>pixel7</th>\n",
       "      <th>pixel8</th>\n",
       "      <th>pixel9</th>\n",
       "      <th>...</th>\n",
       "      <th>pixel775</th>\n",
       "      <th>pixel776</th>\n",
       "      <th>pixel777</th>\n",
       "      <th>pixel778</th>\n",
       "      <th>pixel779</th>\n",
       "      <th>pixel780</th>\n",
       "      <th>pixel781</th>\n",
       "      <th>pixel782</th>\n",
       "      <th>pixel783</th>\n",
       "      <th>pixel784</th>\n",
       "    </tr>\n",
       "  </thead>\n",
       "  <tbody>\n",
       "    <tr>\n",
       "      <th>0</th>\n",
       "      <td>2</td>\n",
       "      <td>0</td>\n",
       "      <td>0</td>\n",
       "      <td>0</td>\n",
       "      <td>0</td>\n",
       "      <td>0</td>\n",
       "      <td>0</td>\n",
       "      <td>0</td>\n",
       "      <td>0</td>\n",
       "      <td>0</td>\n",
       "      <td>...</td>\n",
       "      <td>0</td>\n",
       "      <td>0</td>\n",
       "      <td>0</td>\n",
       "      <td>0</td>\n",
       "      <td>0</td>\n",
       "      <td>0</td>\n",
       "      <td>0</td>\n",
       "      <td>0</td>\n",
       "      <td>0</td>\n",
       "      <td>0</td>\n",
       "    </tr>\n",
       "    <tr>\n",
       "      <th>1</th>\n",
       "      <td>9</td>\n",
       "      <td>0</td>\n",
       "      <td>0</td>\n",
       "      <td>0</td>\n",
       "      <td>0</td>\n",
       "      <td>0</td>\n",
       "      <td>0</td>\n",
       "      <td>0</td>\n",
       "      <td>0</td>\n",
       "      <td>0</td>\n",
       "      <td>...</td>\n",
       "      <td>0</td>\n",
       "      <td>0</td>\n",
       "      <td>0</td>\n",
       "      <td>0</td>\n",
       "      <td>0</td>\n",
       "      <td>0</td>\n",
       "      <td>0</td>\n",
       "      <td>0</td>\n",
       "      <td>0</td>\n",
       "      <td>0</td>\n",
       "    </tr>\n",
       "    <tr>\n",
       "      <th>2</th>\n",
       "      <td>6</td>\n",
       "      <td>0</td>\n",
       "      <td>0</td>\n",
       "      <td>0</td>\n",
       "      <td>0</td>\n",
       "      <td>0</td>\n",
       "      <td>0</td>\n",
       "      <td>0</td>\n",
       "      <td>5</td>\n",
       "      <td>0</td>\n",
       "      <td>...</td>\n",
       "      <td>0</td>\n",
       "      <td>0</td>\n",
       "      <td>0</td>\n",
       "      <td>30</td>\n",
       "      <td>43</td>\n",
       "      <td>0</td>\n",
       "      <td>0</td>\n",
       "      <td>0</td>\n",
       "      <td>0</td>\n",
       "      <td>0</td>\n",
       "    </tr>\n",
       "    <tr>\n",
       "      <th>3</th>\n",
       "      <td>0</td>\n",
       "      <td>0</td>\n",
       "      <td>0</td>\n",
       "      <td>0</td>\n",
       "      <td>1</td>\n",
       "      <td>2</td>\n",
       "      <td>0</td>\n",
       "      <td>0</td>\n",
       "      <td>0</td>\n",
       "      <td>0</td>\n",
       "      <td>...</td>\n",
       "      <td>3</td>\n",
       "      <td>0</td>\n",
       "      <td>0</td>\n",
       "      <td>0</td>\n",
       "      <td>0</td>\n",
       "      <td>1</td>\n",
       "      <td>0</td>\n",
       "      <td>0</td>\n",
       "      <td>0</td>\n",
       "      <td>0</td>\n",
       "    </tr>\n",
       "    <tr>\n",
       "      <th>4</th>\n",
       "      <td>3</td>\n",
       "      <td>0</td>\n",
       "      <td>0</td>\n",
       "      <td>0</td>\n",
       "      <td>0</td>\n",
       "      <td>0</td>\n",
       "      <td>0</td>\n",
       "      <td>0</td>\n",
       "      <td>0</td>\n",
       "      <td>0</td>\n",
       "      <td>...</td>\n",
       "      <td>0</td>\n",
       "      <td>0</td>\n",
       "      <td>0</td>\n",
       "      <td>0</td>\n",
       "      <td>0</td>\n",
       "      <td>0</td>\n",
       "      <td>0</td>\n",
       "      <td>0</td>\n",
       "      <td>0</td>\n",
       "      <td>0</td>\n",
       "    </tr>\n",
       "  </tbody>\n",
       "</table>\n",
       "<p>5 rows × 785 columns</p>\n",
       "</div>"
      ],
      "text/plain": [
       "   label  pixel1  pixel2  pixel3  pixel4  pixel5  pixel6  pixel7  pixel8  \\\n",
       "0      2       0       0       0       0       0       0       0       0   \n",
       "1      9       0       0       0       0       0       0       0       0   \n",
       "2      6       0       0       0       0       0       0       0       5   \n",
       "3      0       0       0       0       1       2       0       0       0   \n",
       "4      3       0       0       0       0       0       0       0       0   \n",
       "\n",
       "   pixel9  ...  pixel775  pixel776  pixel777  pixel778  pixel779  pixel780  \\\n",
       "0       0  ...         0         0         0         0         0         0   \n",
       "1       0  ...         0         0         0         0         0         0   \n",
       "2       0  ...         0         0         0        30        43         0   \n",
       "3       0  ...         3         0         0         0         0         1   \n",
       "4       0  ...         0         0         0         0         0         0   \n",
       "\n",
       "   pixel781  pixel782  pixel783  pixel784  \n",
       "0         0         0         0         0  \n",
       "1         0         0         0         0  \n",
       "2         0         0         0         0  \n",
       "3         0         0         0         0  \n",
       "4         0         0         0         0  \n",
       "\n",
       "[5 rows x 785 columns]"
      ]
     },
     "execution_count": 6,
     "metadata": {},
     "output_type": "execute_result"
    }
   ],
   "source": [
    "print(train.shape)\n",
    "train.head()"
   ]
  },
  {
   "cell_type": "code",
   "execution_count": 7,
   "metadata": {
    "execution": {
     "iopub.execute_input": "2020-12-05T11:42:32.938756Z",
     "iopub.status.busy": "2020-12-05T11:42:32.938100Z",
     "iopub.status.idle": "2020-12-05T11:42:33.894279Z",
     "shell.execute_reply": "2020-12-05T11:42:33.895123Z"
    },
    "id": "RT0dPPK_NL7D",
    "papermill": {
     "duration": 1.007156,
     "end_time": "2020-12-05T11:42:33.895328",
     "exception": false,
     "start_time": "2020-12-05T11:42:32.888172",
     "status": "completed"
    },
    "tags": []
   },
   "outputs": [],
   "source": [
    "test=pd.read_csv('Fashion MNIST/fashion-mnist_test.csv')"
   ]
  },
  {
   "cell_type": "code",
   "execution_count": 9,
   "metadata": {
    "execution": {
     "iopub.execute_input": "2020-12-05T11:42:33.990217Z",
     "iopub.status.busy": "2020-12-05T11:42:33.981917Z",
     "iopub.status.idle": "2020-12-05T11:42:33.995794Z",
     "shell.execute_reply": "2020-12-05T11:42:33.996383Z"
    },
    "id": "DDBdKFLgNUYE",
    "outputId": "14b16a6a-ed76-49a2-d1fa-a1fb871e77e8",
    "papermill": {
     "duration": 0.059454,
     "end_time": "2020-12-05T11:42:33.996518",
     "exception": false,
     "start_time": "2020-12-05T11:42:33.937064",
     "status": "completed"
    },
    "tags": []
   },
   "outputs": [
    {
     "name": "stdout",
     "output_type": "stream",
     "text": [
      "(10000, 785)\n"
     ]
    },
    {
     "data": {
      "text/html": [
       "<div>\n",
       "<style scoped>\n",
       "    .dataframe tbody tr th:only-of-type {\n",
       "        vertical-align: middle;\n",
       "    }\n",
       "\n",
       "    .dataframe tbody tr th {\n",
       "        vertical-align: top;\n",
       "    }\n",
       "\n",
       "    .dataframe thead th {\n",
       "        text-align: right;\n",
       "    }\n",
       "</style>\n",
       "<table border=\"1\" class=\"dataframe\">\n",
       "  <thead>\n",
       "    <tr style=\"text-align: right;\">\n",
       "      <th></th>\n",
       "      <th>label</th>\n",
       "      <th>pixel1</th>\n",
       "      <th>pixel2</th>\n",
       "      <th>pixel3</th>\n",
       "      <th>pixel4</th>\n",
       "      <th>pixel5</th>\n",
       "      <th>pixel6</th>\n",
       "      <th>pixel7</th>\n",
       "      <th>pixel8</th>\n",
       "      <th>pixel9</th>\n",
       "      <th>...</th>\n",
       "      <th>pixel775</th>\n",
       "      <th>pixel776</th>\n",
       "      <th>pixel777</th>\n",
       "      <th>pixel778</th>\n",
       "      <th>pixel779</th>\n",
       "      <th>pixel780</th>\n",
       "      <th>pixel781</th>\n",
       "      <th>pixel782</th>\n",
       "      <th>pixel783</th>\n",
       "      <th>pixel784</th>\n",
       "    </tr>\n",
       "  </thead>\n",
       "  <tbody>\n",
       "    <tr>\n",
       "      <th>0</th>\n",
       "      <td>0</td>\n",
       "      <td>0</td>\n",
       "      <td>0</td>\n",
       "      <td>0</td>\n",
       "      <td>0</td>\n",
       "      <td>0</td>\n",
       "      <td>0</td>\n",
       "      <td>0</td>\n",
       "      <td>9</td>\n",
       "      <td>8</td>\n",
       "      <td>...</td>\n",
       "      <td>103</td>\n",
       "      <td>87</td>\n",
       "      <td>56</td>\n",
       "      <td>0</td>\n",
       "      <td>0</td>\n",
       "      <td>0</td>\n",
       "      <td>0</td>\n",
       "      <td>0</td>\n",
       "      <td>0</td>\n",
       "      <td>0</td>\n",
       "    </tr>\n",
       "    <tr>\n",
       "      <th>1</th>\n",
       "      <td>1</td>\n",
       "      <td>0</td>\n",
       "      <td>0</td>\n",
       "      <td>0</td>\n",
       "      <td>0</td>\n",
       "      <td>0</td>\n",
       "      <td>0</td>\n",
       "      <td>0</td>\n",
       "      <td>0</td>\n",
       "      <td>0</td>\n",
       "      <td>...</td>\n",
       "      <td>34</td>\n",
       "      <td>0</td>\n",
       "      <td>0</td>\n",
       "      <td>0</td>\n",
       "      <td>0</td>\n",
       "      <td>0</td>\n",
       "      <td>0</td>\n",
       "      <td>0</td>\n",
       "      <td>0</td>\n",
       "      <td>0</td>\n",
       "    </tr>\n",
       "    <tr>\n",
       "      <th>2</th>\n",
       "      <td>2</td>\n",
       "      <td>0</td>\n",
       "      <td>0</td>\n",
       "      <td>0</td>\n",
       "      <td>0</td>\n",
       "      <td>0</td>\n",
       "      <td>0</td>\n",
       "      <td>14</td>\n",
       "      <td>53</td>\n",
       "      <td>99</td>\n",
       "      <td>...</td>\n",
       "      <td>0</td>\n",
       "      <td>0</td>\n",
       "      <td>0</td>\n",
       "      <td>0</td>\n",
       "      <td>63</td>\n",
       "      <td>53</td>\n",
       "      <td>31</td>\n",
       "      <td>0</td>\n",
       "      <td>0</td>\n",
       "      <td>0</td>\n",
       "    </tr>\n",
       "    <tr>\n",
       "      <th>3</th>\n",
       "      <td>2</td>\n",
       "      <td>0</td>\n",
       "      <td>0</td>\n",
       "      <td>0</td>\n",
       "      <td>0</td>\n",
       "      <td>0</td>\n",
       "      <td>0</td>\n",
       "      <td>0</td>\n",
       "      <td>0</td>\n",
       "      <td>0</td>\n",
       "      <td>...</td>\n",
       "      <td>137</td>\n",
       "      <td>126</td>\n",
       "      <td>140</td>\n",
       "      <td>0</td>\n",
       "      <td>133</td>\n",
       "      <td>224</td>\n",
       "      <td>222</td>\n",
       "      <td>56</td>\n",
       "      <td>0</td>\n",
       "      <td>0</td>\n",
       "    </tr>\n",
       "    <tr>\n",
       "      <th>4</th>\n",
       "      <td>3</td>\n",
       "      <td>0</td>\n",
       "      <td>0</td>\n",
       "      <td>0</td>\n",
       "      <td>0</td>\n",
       "      <td>0</td>\n",
       "      <td>0</td>\n",
       "      <td>0</td>\n",
       "      <td>0</td>\n",
       "      <td>0</td>\n",
       "      <td>...</td>\n",
       "      <td>0</td>\n",
       "      <td>0</td>\n",
       "      <td>0</td>\n",
       "      <td>0</td>\n",
       "      <td>0</td>\n",
       "      <td>0</td>\n",
       "      <td>0</td>\n",
       "      <td>0</td>\n",
       "      <td>0</td>\n",
       "      <td>0</td>\n",
       "    </tr>\n",
       "  </tbody>\n",
       "</table>\n",
       "<p>5 rows × 785 columns</p>\n",
       "</div>"
      ],
      "text/plain": [
       "   label  pixel1  pixel2  pixel3  pixel4  pixel5  pixel6  pixel7  pixel8  \\\n",
       "0      0       0       0       0       0       0       0       0       9   \n",
       "1      1       0       0       0       0       0       0       0       0   \n",
       "2      2       0       0       0       0       0       0      14      53   \n",
       "3      2       0       0       0       0       0       0       0       0   \n",
       "4      3       0       0       0       0       0       0       0       0   \n",
       "\n",
       "   pixel9  ...  pixel775  pixel776  pixel777  pixel778  pixel779  pixel780  \\\n",
       "0       8  ...       103        87        56         0         0         0   \n",
       "1       0  ...        34         0         0         0         0         0   \n",
       "2      99  ...         0         0         0         0        63        53   \n",
       "3       0  ...       137       126       140         0       133       224   \n",
       "4       0  ...         0         0         0         0         0         0   \n",
       "\n",
       "   pixel781  pixel782  pixel783  pixel784  \n",
       "0         0         0         0         0  \n",
       "1         0         0         0         0  \n",
       "2        31         0         0         0  \n",
       "3       222        56         0         0  \n",
       "4         0         0         0         0  \n",
       "\n",
       "[5 rows x 785 columns]"
      ]
     },
     "execution_count": 9,
     "metadata": {},
     "output_type": "execute_result"
    }
   ],
   "source": [
    "print(test.shape)\n",
    "test.head()"
   ]
  },
  {
   "cell_type": "markdown",
   "metadata": {
    "id": "LwqTBRkiKir5",
    "papermill": {
     "duration": 0.025205,
     "end_time": "2020-12-05T11:42:34.133372",
     "exception": false,
     "start_time": "2020-12-05T11:42:34.108167",
     "status": "completed"
    },
    "tags": []
   },
   "source": [
    "## Preprocessing"
   ]
  },
  {
   "cell_type": "markdown",
   "metadata": {},
   "source": [
    "### Train"
   ]
  },
  {
   "cell_type": "code",
   "execution_count": 10,
   "metadata": {
    "execution": {
     "iopub.execute_input": "2020-12-05T11:42:34.421472Z",
     "iopub.status.busy": "2020-12-05T11:42:34.420809Z",
     "iopub.status.idle": "2020-12-05T11:42:34.423948Z",
     "shell.execute_reply": "2020-12-05T11:42:34.424909Z"
    },
    "id": "pq-r6JezJ9j6",
    "papermill": {
     "duration": 0.2163,
     "end_time": "2020-12-05T11:42:34.425078",
     "exception": false,
     "start_time": "2020-12-05T11:42:34.208778",
     "status": "completed"
    },
    "tags": []
   },
   "outputs": [],
   "source": [
    "# Separating feature vectors and the label\n",
    "X_train=train.drop('label',1)\n",
    "y_train=train['label']\n",
    "\n",
    "# Converting to numpy ndarray\n",
    "X_train=X_train.to_numpy()\n",
    "\n",
    "# Reshaping from 3D tensor to 4D tensor\n",
    "X_train=X_train.reshape(60000,28,28,1)"
   ]
  },
  {
   "cell_type": "markdown",
   "metadata": {},
   "source": [
    "### Test"
   ]
  },
  {
   "cell_type": "code",
   "execution_count": 13,
   "metadata": {
    "execution": {
     "iopub.execute_input": "2020-12-05T11:42:34.677791Z",
     "iopub.status.busy": "2020-12-05T11:42:34.677177Z",
     "iopub.status.idle": "2020-12-05T11:42:34.681679Z",
     "shell.execute_reply": "2020-12-05T11:42:34.681086Z"
    },
    "id": "LmekXhqKOL-k",
    "papermill": {
     "duration": 0.0571,
     "end_time": "2020-12-05T11:42:34.681798",
     "exception": false,
     "start_time": "2020-12-05T11:42:34.624698",
     "status": "completed"
    },
    "tags": []
   },
   "outputs": [],
   "source": [
    "# Separating feature vectors and the label\n",
    "X_test=test.drop('label',1)\n",
    "y_test=test['label']\n",
    "\n",
    "# Converting to numpy ndarray\n",
    "X_test=X_test.to_numpy()\n",
    "X_test=X_test.reshape(10000,28,28,1)\n",
    "\n",
    "# Reshaping from 3D tensor to 4D tensor\n",
    "y_train=y_train.to_numpy()\n",
    "y_test=y_test.to_numpy()"
   ]
  },
  {
   "cell_type": "markdown",
   "metadata": {
    "id": "GmCyZHKmLj9S",
    "papermill": {
     "duration": 0.025736,
     "end_time": "2020-12-05T11:42:34.899635",
     "exception": false,
     "start_time": "2020-12-05T11:42:34.873899",
     "status": "completed"
    },
    "tags": []
   },
   "source": [
    "**Confirming Image with their labels**"
   ]
  },
  {
   "cell_type": "code",
   "execution_count": 16,
   "metadata": {
    "execution": {
     "iopub.execute_input": "2020-12-05T11:42:34.970803Z",
     "iopub.status.busy": "2020-12-05T11:42:34.970363Z",
     "iopub.status.idle": "2020-12-05T11:42:35.171588Z",
     "shell.execute_reply": "2020-12-05T11:42:35.172476Z"
    },
    "id": "Rchkov0-LF1r",
    "outputId": "a1024bd0-40a6-4e5b-b90f-f2d69a6ae4eb",
    "papermill": {
     "duration": 0.244349,
     "end_time": "2020-12-05T11:42:35.172669",
     "exception": false,
     "start_time": "2020-12-05T11:42:34.928320",
     "status": "completed"
    },
    "tags": []
   },
   "outputs": [
    {
     "data": {
      "text/plain": [
       "'Pullover'"
      ]
     },
     "execution_count": 16,
     "metadata": {},
     "output_type": "execute_result"
    },
    {
     "data": {
      "image/png": "[encoded data removed]",
      "text/plain": [
       "<Figure size 432x288 with 1 Axes>"
      ]
     },
     "metadata": {
      "needs_background": "light"
     },
     "output_type": "display_data"
    }
   ],
   "source": [
    "labels=['T-shirt/top','Trouser','Pullover','Dress','Coat','Sandal','Shirt','Sneaker','Bag','Ankle boot']\n",
    "plt.imshow(X_train[0].reshape(28,28))\n",
    "labels[y_train[0]]"
   ]
  },
  {
   "cell_type": "code",
   "execution_count": 17,
   "metadata": {
    "execution": {
     "iopub.execute_input": "2020-12-05T11:42:35.703111Z",
     "iopub.status.busy": "2020-12-05T11:42:35.702294Z",
     "iopub.status.idle": "2020-12-05T11:42:35.997619Z",
     "shell.execute_reply": "2020-12-05T11:42:35.996932Z"
    },
    "id": "EourYKv0Ov9Q",
    "papermill": {
     "duration": 0.338465,
     "end_time": "2020-12-05T11:42:35.997735",
     "exception": false,
     "start_time": "2020-12-05T11:42:35.659270",
     "status": "completed"
    },
    "tags": []
   },
   "outputs": [],
   "source": [
    "# Normalizing data\n",
    "X_train=X_train/255.0\n",
    "X_test=X_test/255.0"
   ]
  },
  {
   "cell_type": "markdown",
   "metadata": {
    "id": "8tkCw8I1MbMi",
    "papermill": {
     "duration": 0.039067,
     "end_time": "2020-12-05T11:42:36.075523",
     "exception": false,
     "start_time": "2020-12-05T11:42:36.036456",
     "status": "completed"
    },
    "tags": []
   },
   "source": [
    "## Model building\n",
    "\n",
    "Building a CNN model for image classification using **2D ConvNet** from keras"
   ]
  },
  {
   "cell_type": "code",
   "execution_count": 18,
   "metadata": {
    "execution": {
     "iopub.execute_input": "2020-12-05T11:42:36.165639Z",
     "iopub.status.busy": "2020-12-05T11:42:36.164998Z",
     "iopub.status.idle": "2020-12-05T11:42:36.419381Z",
     "shell.execute_reply": "2020-12-05T11:42:36.418653Z"
    },
    "id": "RluaCxTaPCdU",
    "papermill": {
     "duration": 0.305476,
     "end_time": "2020-12-05T11:42:36.419465",
     "exception": false,
     "start_time": "2020-12-05T11:42:36.113989",
     "status": "completed"
    },
    "tags": []
   },
   "outputs": [],
   "source": [
    "model=Sequential()\n",
    "\n",
    "model.add(Conv2D(filters=32,kernel_size=(3,3),activation='relu',input_shape=X_train[0].shape))\n",
    "model.add(Conv2D(filters=64,kernel_size=(3,3),activation='relu'))\n",
    "model.add(MaxPool2D(2,2))\n",
    "model.add(Dropout(0.25))    # reduce overfitting\n",
    "\n",
    "model.add(Flatten())    # converting to 1-D array\n",
    "model.add(Dense(128,activation='relu'))\n",
    "model.add(Dropout(0.5))\n",
    "model.add(Dense(10,activation='softmax'))   # Output layer for 10-class classification"
   ]
  },
  {
   "cell_type": "code",
   "execution_count": 19,
   "metadata": {
    "execution": {
     "iopub.execute_input": "2020-12-05T11:42:36.539380Z",
     "iopub.status.busy": "2020-12-05T11:42:36.537937Z",
     "iopub.status.idle": "2020-12-05T11:42:36.548120Z",
     "shell.execute_reply": "2020-12-05T11:42:36.548483Z"
    },
    "id": "NBzn9tBDRhCG",
    "outputId": "f7cdd0eb-a3c7-44bc-a4eb-12892790061f",
    "papermill": {
     "duration": 0.044436,
     "end_time": "2020-12-05T11:42:36.548574",
     "exception": false,
     "start_time": "2020-12-05T11:42:36.504138",
     "status": "completed"
    },
    "tags": []
   },
   "outputs": [
    {
     "name": "stdout",
     "output_type": "stream",
     "text": [
      "Model: \"sequential\"\n",
      "_________________________________________________________________\n",
      "Layer (type)                 Output Shape              Param #   \n",
      "=================================================================\n",
      "conv2d (Conv2D)              (None, 26, 26, 32)        320       \n",
      "_________________________________________________________________\n",
      "conv2d_1 (Conv2D)            (None, 24, 24, 64)        18496     \n",
      "_________________________________________________________________\n",
      "max_pooling2d (MaxPooling2D) (None, 12, 12, 64)        0         \n",
      "_________________________________________________________________\n",
      "dropout (Dropout)            (None, 12, 12, 64)        0         \n",
      "_________________________________________________________________\n",
      "flatten (Flatten)            (None, 9216)              0         \n",
      "_________________________________________________________________\n",
      "dense (Dense)                (None, 128)               1179776   \n",
      "_________________________________________________________________\n",
      "dropout_1 (Dropout)          (None, 128)               0         \n",
      "_________________________________________________________________\n",
      "dense_1 (Dense)              (None, 10)                1290      \n",
      "=================================================================\n",
      "Total params: 1,199,882\n",
      "Trainable params: 1,199,882\n",
      "Non-trainable params: 0\n",
      "_________________________________________________________________\n"
     ]
    }
   ],
   "source": [
    "model.summary()"
   ]
  },
  {
   "cell_type": "code",
   "execution_count": 20,
   "metadata": {
    "execution": {
     "iopub.execute_input": "2020-12-05T11:42:36.673231Z",
     "iopub.status.busy": "2020-12-05T11:42:36.672501Z",
     "iopub.status.idle": "2020-12-05T11:42:36.678923Z",
     "shell.execute_reply": "2020-12-05T11:42:36.678370Z"
    },
    "id": "1F6PqdaiRWhG",
    "papermill": {
     "duration": 0.044125,
     "end_time": "2020-12-05T11:42:36.679076",
     "exception": false,
     "start_time": "2020-12-05T11:42:36.634951",
     "status": "completed"
    },
    "tags": []
   },
   "outputs": [],
   "source": [
    "model.compile(optimizer='adam',loss='sparse_categorical_crossentropy',metrics=['accuracy'])"
   ]
  },
  {
   "cell_type": "code",
   "execution_count": 21,
   "metadata": {
    "execution": {
     "iopub.execute_input": "2020-12-05T11:42:36.850198Z",
     "iopub.status.busy": "2020-12-05T11:42:36.849540Z",
     "iopub.status.idle": "2020-12-05T11:54:45.582936Z",
     "shell.execute_reply": "2020-12-05T11:54:45.582338Z"
    },
    "id": "MBWnBeRTRqv2",
    "outputId": "1e7b0c42-cf77-4273-8735-95a35afe6c76",
    "papermill": {
     "duration": 728.78061,
     "end_time": "2020-12-05T11:54:45.583093",
     "exception": false,
     "start_time": "2020-12-05T11:42:36.802483",
     "status": "completed"
    },
    "tags": []
   },
   "outputs": [
    {
     "name": "stdout",
     "output_type": "stream",
     "text": [
      "Epoch 1/10\n",
      "469/469 [==============================] - 70s 149ms/step - loss: 0.5161 - accuracy: 0.8177 - val_loss: 0.3256 - val_accuracy: 0.8829\n",
      "Epoch 2/10\n",
      "469/469 [==============================] - 73s 156ms/step - loss: 0.3437 - accuracy: 0.8777 - val_loss: 0.2641 - val_accuracy: 0.9082\n",
      "Epoch 3/10\n",
      "469/469 [==============================] - 78s 166ms/step - loss: 0.2912 - accuracy: 0.8954 - val_loss: 0.2354 - val_accuracy: 0.9125\n",
      "Epoch 4/10\n",
      "469/469 [==============================] - 78s 166ms/step - loss: 0.2613 - accuracy: 0.9079 - val_loss: 0.2163 - val_accuracy: 0.9212\n",
      "Epoch 5/10\n",
      "469/469 [==============================] - 76s 163ms/step - loss: 0.2386 - accuracy: 0.9131 - val_loss: 0.2121 - val_accuracy: 0.9222\n",
      "Epoch 6/10\n",
      "469/469 [==============================] - 76s 162ms/step - loss: 0.2189 - accuracy: 0.9189 - val_loss: 0.2121 - val_accuracy: 0.9227\n",
      "Epoch 7/10\n",
      "469/469 [==============================] - 75s 161ms/step - loss: 0.2034 - accuracy: 0.9256 - val_loss: 0.1960 - val_accuracy: 0.9296\n",
      "Epoch 8/10\n",
      "469/469 [==============================] - 76s 163ms/step - loss: 0.1890 - accuracy: 0.9316 - val_loss: 0.1987 - val_accuracy: 0.9275\n",
      "Epoch 9/10\n",
      "469/469 [==============================] - 77s 164ms/step - loss: 0.1727 - accuracy: 0.9351 - val_loss: 0.1913 - val_accuracy: 0.9316\n",
      "Epoch 10/10\n",
      "469/469 [==============================] - 85s 182ms/step - loss: 0.1640 - accuracy: 0.9399 - val_loss: 0.1969 - val_accuracy: 0.9329\n"
     ]
    }
   ],
   "source": [
    "hist=model.fit(X_train,y_train,batch_size=128,epochs=10,validation_data=(X_test,y_test),verbose=1)   \n",
    "# testing data is set as validation data"
   ]
  },
  {
   "cell_type": "markdown",
   "metadata": {
    "id": "VzAb3kFfOqGM",
    "papermill": {
     "duration": 1.666289,
     "end_time": "2020-12-05T11:54:52.053232",
     "exception": false,
     "start_time": "2020-12-05T11:54:50.386943",
     "status": "completed"
    },
    "tags": []
   },
   "source": [
    "## Model Evaluation"
   ]
  },
  {
   "cell_type": "code",
   "execution_count": 23,
   "metadata": {
    "execution": {
     "iopub.execute_input": "2020-12-05T11:54:55.134001Z",
     "iopub.status.busy": "2020-12-05T11:54:55.123905Z",
     "iopub.status.idle": "2020-12-05T11:54:55.415084Z",
     "shell.execute_reply": "2020-12-05T11:54:55.415571Z"
    },
    "id": "bg-9p2sfYley",
    "outputId": "1ca11370-0be5-4b8a-e4c9-5288a2e83f61",
    "papermill": {
     "duration": 1.936938,
     "end_time": "2020-12-05T11:54:55.415716",
     "exception": false,
     "start_time": "2020-12-05T11:54:53.478778",
     "status": "completed"
    },
    "tags": []
   },
   "outputs": [
    {
     "data": {
      "image/png": "[encoded data removed]",
      "text/plain": [
       "<Figure size 432x288 with 1 Axes>"
      ]
     },
     "metadata": {
      "needs_background": "light"
     },
     "output_type": "display_data"
    },
    {
     "data": {
      "image/png": "[encoded data removed]",
      "text/plain": [
       "<Figure size 432x288 with 1 Axes>"
      ]
     },
     "metadata": {
      "needs_background": "light"
     },
     "output_type": "display_data"
    }
   ],
   "source": [
    "plt.title('Model Accuracy')\n",
    "plt.plot(hist.history['accuracy'])\n",
    "plt.plot(hist.history['val_accuracy'])\n",
    "plt.xlabel('Epoch')\n",
    "plt.ylabel('accuracy')\n",
    "plt.legend(labels=['train','validation'])\n",
    "plt.show()\n",
    "\n",
    "plt.title('Model Loss')\n",
    "plt.plot(hist.history['loss'])\n",
    "plt.plot(hist.history['val_loss'])\n",
    "plt.xlabel('Epoch')\n",
    "plt.ylabel('loss')\n",
    "plt.legend(labels=['train','validation'])\n",
    "plt.show()"
   ]
  },
  {
   "cell_type": "markdown",
   "metadata": {
    "id": "vKW8kPnsOtNU",
    "papermill": {
     "duration": 1.628501,
     "end_time": "2020-12-05T11:54:58.691572",
     "exception": false,
     "start_time": "2020-12-05T11:54:57.063071",
     "status": "completed"
    },
    "tags": []
   },
   "source": [
    "On visualizaing the accuracy and loss digram of both train and validation data, it is visible that the best accuracy for training and validation data is on **Final epoch**."
   ]
  },
  {
   "cell_type": "markdown",
   "metadata": {
    "id": "mfh6Rk3iPJQi",
    "papermill": {
     "duration": 2.015299,
     "end_time": "2020-12-05T11:55:02.342186",
     "exception": false,
     "start_time": "2020-12-05T11:55:00.326887",
     "status": "completed"
    },
    "tags": []
   },
   "source": [
    "## Model Performance"
   ]
  },
  {
   "cell_type": "code",
   "execution_count": 24,
   "metadata": {
    "execution": {
     "iopub.execute_input": "2020-12-05T11:55:06.159478Z",
     "iopub.status.busy": "2020-12-05T11:55:06.158594Z",
     "iopub.status.idle": "2020-12-05T11:55:09.349211Z",
     "shell.execute_reply": "2020-12-05T11:55:09.348650Z"
    },
    "id": "UnK9i7UhYw6Z",
    "papermill": {
     "duration": 4.897503,
     "end_time": "2020-12-05T11:55:09.349327",
     "exception": false,
     "start_time": "2020-12-05T11:55:04.451824",
     "status": "completed"
    },
    "tags": []
   },
   "outputs": [],
   "source": [
    "y_p=model.predict(X_test)"
   ]
  },
  {
   "cell_type": "code",
   "execution_count": 25,
   "metadata": {
    "execution": {
     "iopub.execute_input": "2020-12-05T11:55:12.622387Z",
     "iopub.status.busy": "2020-12-05T11:55:12.621213Z",
     "iopub.status.idle": "2020-12-05T11:55:12.626220Z",
     "shell.execute_reply": "2020-12-05T11:55:12.625561Z"
    },
    "id": "Yly6jp51ZCjC",
    "outputId": "3a270509-55f3-42d4-fe89-bba261b4a336",
    "papermill": {
     "duration": 1.637716,
     "end_time": "2020-12-05T11:55:12.626328",
     "exception": false,
     "start_time": "2020-12-05T11:55:10.988612",
     "status": "completed"
    },
    "tags": []
   },
   "outputs": [
    {
     "data": {
      "text/plain": [
       "array([[9.9986458e-01, 1.0530972e-10, 1.4662097e-06, ..., 4.0460010e-13,\n",
       "        5.9667169e-09, 4.2432065e-13],\n",
       "       [1.2005753e-10, 1.0000000e+00, 3.8740968e-12, ..., 3.4288451e-15,\n",
       "        1.0681235e-10, 6.5570605e-12],\n",
       "       [4.9907165e-03, 1.1026406e-07, 8.0589843e-01, ..., 4.3736726e-11,\n",
       "        1.3292066e-07, 1.3257264e-09],\n",
       "       ...,\n",
       "       [2.9086137e-15, 5.0476584e-20, 4.6870105e-17, ..., 1.0021752e-18,\n",
       "        1.0000000e+00, 1.0184748e-16],\n",
       "       [1.3235128e-06, 4.5522643e-08, 6.4628997e-10, ..., 2.3177731e-11,\n",
       "        9.9999809e-01, 1.2347047e-09],\n",
       "       [1.3606857e-05, 9.8803699e-01, 9.7304246e-07, ..., 2.7897040e-09,\n",
       "        1.3218891e-05, 6.8281406e-07]], dtype=float32)"
      ]
     },
     "execution_count": 25,
     "metadata": {},
     "output_type": "execute_result"
    }
   ],
   "source": [
    "y_p"
   ]
  },
  {
   "cell_type": "markdown",
   "metadata": {
    "id": "Uf7CR339POKa",
    "papermill": {
     "duration": 2.401647,
     "end_time": "2020-12-05T11:55:17.347990",
     "exception": false,
     "start_time": "2020-12-05T11:55:14.946343",
     "status": "completed"
    },
    "tags": []
   },
   "source": [
    "Since the prediction of each image is sequence of values, argmax is used for getting the actual predicted labels."
   ]
  },
  {
   "cell_type": "code",
   "execution_count": 26,
   "metadata": {
    "execution": {
     "iopub.execute_input": "2020-12-05T11:55:20.735234Z",
     "iopub.status.busy": "2020-12-05T11:55:20.734262Z",
     "iopub.status.idle": "2020-12-05T11:55:20.768462Z",
     "shell.execute_reply": "2020-12-05T11:55:20.767866Z"
    },
    "id": "4MadA3XLY5jd",
    "papermill": {
     "duration": 1.699445,
     "end_time": "2020-12-05T11:55:20.768577",
     "exception": false,
     "start_time": "2020-12-05T11:55:19.069132",
     "status": "completed"
    },
    "tags": []
   },
   "outputs": [],
   "source": [
    "y_pred=[]\n",
    "for i in range(len(y_p)):\n",
    "  y_pred.append(np.argmax(y_p[i]))"
   ]
  },
  {
   "cell_type": "code",
   "execution_count": 39,
   "metadata": {
    "execution": {
     "iopub.execute_input": "2020-12-05T11:55:24.149107Z",
     "iopub.status.busy": "2020-12-05T11:55:24.148550Z",
     "iopub.status.idle": "2020-12-05T11:55:24.152833Z",
     "shell.execute_reply": "2020-12-05T11:55:24.152223Z"
    },
    "id": "xQiDv6_gZIQp",
    "outputId": "48c3b5ec-0413-49d8-f276-9037bd8e08c8",
    "papermill": {
     "duration": 1.72054,
     "end_time": "2020-12-05T11:55:24.152945",
     "exception": false,
     "start_time": "2020-12-05T11:55:22.432405",
     "status": "completed"
    },
    "tags": []
   },
   "outputs": [
    {
     "data": {
      "text/plain": [
       "[0, 1, 2, 6, 3, 6, 8, 6, 5, 0]"
      ]
     },
     "execution_count": 39,
     "metadata": {},
     "output_type": "execute_result"
    }
   ],
   "source": [
    "# Viewing predicted labels\n",
    "y_pred[:10]"
   ]
  },
  {
   "cell_type": "code",
   "execution_count": 40,
   "metadata": {
    "execution": {
     "iopub.execute_input": "2020-12-05T11:55:30.728199Z",
     "iopub.status.busy": "2020-12-05T11:55:30.713687Z",
     "iopub.status.idle": "2020-12-05T11:55:31.435423Z",
     "shell.execute_reply": "2020-12-05T11:55:31.434775Z"
    },
    "id": "GJ65KSUGZKri",
    "outputId": "b821caae-b6b9-4585-939d-17eddd1e3cea",
    "papermill": {
     "duration": 2.400487,
     "end_time": "2020-12-05T11:55:31.435532",
     "exception": false,
     "start_time": "2020-12-05T11:55:29.035045",
     "status": "completed"
    },
    "tags": []
   },
   "outputs": [
    {
     "name": "stdout",
     "output_type": "stream",
     "text": [
      "Predicted Label :  T-shirt/top\n",
      "Original image :\n"
     ]
    },
    {
     "data": {
      "image/png": "[encoded data removed]",
      "text/plain": [
       "<Figure size 432x288 with 1 Axes>"
      ]
     },
     "metadata": {
      "needs_background": "light"
     },
     "output_type": "display_data"
    },
    {
     "name": "stdout",
     "output_type": "stream",
     "text": [
      "Predicted Label :  Trouser\n",
      "Original image :\n"
     ]
    },
    {
     "data": {
      "image/png": "[encoded data removed]",
      "text/plain": [
       "<Figure size 432x288 with 1 Axes>"
      ]
     },
     "metadata": {
      "needs_background": "light"
     },
     "output_type": "display_data"
    },
    {
     "name": "stdout",
     "output_type": "stream",
     "text": [
      "Predicted Label :  Pullover\n",
      "Original image :\n"
     ]
    },
    {
     "data": {
      "image/png": "[encoded data removed]",
      "text/plain": [
       "<Figure size 432x288 with 1 Axes>"
      ]
     },
     "metadata": {
      "needs_background": "light"
     },
     "output_type": "display_data"
    },
    {
     "name": "stdout",
     "output_type": "stream",
     "text": [
      "Predicted Label :  Shirt\n",
      "Original image :\n"
     ]
    },
    {
     "data": {
      "image/png": "[encoded data removed]",
      "text/plain": [
       "<Figure size 432x288 with 1 Axes>"
      ]
     },
     "metadata": {
      "needs_background": "light"
     },
     "output_type": "display_data"
    },
    {
     "name": "stdout",
     "output_type": "stream",
     "text": [
      "Predicted Label :  Dress\n",
      "Original image :\n"
     ]
    },
    {
     "data": {
      "image/png": "[encoded data removed]",
      "text/plain": [
       "<Figure size 432x288 with 1 Axes>"
      ]
     },
     "metadata": {
      "needs_background": "light"
     },
     "output_type": "display_data"
    },
    {
     "name": "stdout",
     "output_type": "stream",
     "text": [
      "Predicted Label :  Shirt\n",
      "Original image :\n"
     ]
    },
    {
     "data": {
      "image/png": "[encoded data removed]",
      "text/plain": [
       "<Figure size 432x288 with 1 Axes>"
      ]
     },
     "metadata": {
      "needs_background": "light"
     },
     "output_type": "display_data"
    },
    {
     "name": "stdout",
     "output_type": "stream",
     "text": [
      "Predicted Label :  Bag\n",
      "Original image :\n"
     ]
    },
    {
     "data": {
      "image/png": "[encoded data removed]",
      "text/plain": [
       "<Figure size 432x288 with 1 Axes>"
      ]
     },
     "metadata": {
      "needs_background": "light"
     },
     "output_type": "display_data"
    },
    {
     "name": "stdout",
     "output_type": "stream",
     "text": [
      "Predicted Label :  Shirt\n",
      "Original image :\n"
     ]
    },
    {
     "data": {
      "image/png": "[encoded data removed]",
      "text/plain": [
       "<Figure size 432x288 with 1 Axes>"
      ]
     },
     "metadata": {
      "needs_background": "light"
     },
     "output_type": "display_data"
    },
    {
     "name": "stdout",
     "output_type": "stream",
     "text": [
      "Predicted Label :  Sandal\n",
      "Original image :\n"
     ]
    },
    {
     "data": {
      "image/png": "[encoded data removed]",
      "text/plain": [
       "<Figure size 432x288 with 1 Axes>"
      ]
     },
     "metadata": {
      "needs_background": "light"
     },
     "output_type": "display_data"
    },
    {
     "name": "stdout",
     "output_type": "stream",
     "text": [
      "Predicted Label :  T-shirt/top\n",
      "Original image :\n"
     ]
    },
    {
     "data": {
      "image/png": "[encoded data removed]",
      "text/plain": [
       "<Figure size 432x288 with 1 Axes>"
      ]
     },
     "metadata": {
      "needs_background": "light"
     },
     "output_type": "display_data"
    }
   ],
   "source": [
    "for i in range(10):\n",
    "  print('Predicted Label : ',labels[y_pred[i]])\n",
    "  print('Original image :')\n",
    "  plt.imshow(X_test[i].reshape(28,28))\n",
    "  plt.show()"
   ]
  },
  {
   "cell_type": "markdown",
   "metadata": {
    "id": "q6gkOhUcQBA_",
    "papermill": {
     "duration": 1.596981,
     "end_time": "2020-12-05T11:55:37.727554",
     "exception": false,
     "start_time": "2020-12-05T11:55:36.130573",
     "status": "completed"
    },
    "tags": []
   },
   "source": [
    "## Metrics"
   ]
  },
  {
   "cell_type": "code",
   "execution_count": 37,
   "metadata": {
    "execution": {
     "iopub.execute_input": "2020-12-05T11:55:40.896419Z",
     "iopub.status.busy": "2020-12-05T11:55:40.895611Z",
     "iopub.status.idle": "2020-12-05T11:55:40.919134Z",
     "shell.execute_reply": "2020-12-05T11:55:40.919610Z"
    },
    "id": "wwHFsqxIaFCz",
    "outputId": "21333672-3bf9-4a36-be44-eaa4262028f8",
    "papermill": {
     "duration": 1.513868,
     "end_time": "2020-12-05T11:55:40.919745",
     "exception": false,
     "start_time": "2020-12-05T11:55:39.405877",
     "status": "completed"
    },
    "tags": []
   },
   "outputs": [
    {
     "data": {
      "text/plain": [
       "array([[876,   0,  13,  12,   0,   0,  89,   0,  10,   0],\n",
       "       [  0, 991,   0,   5,   2,   0,   1,   0,   1,   0],\n",
       "       [ 17,   0, 860,  14,  56,   0,  52,   0,   1,   0],\n",
       "       [  7,   4,   2, 955,  18,   0,  14,   0,   0,   0],\n",
       "       [  0,   1,  20,  24, 910,   0,  45,   0,   0,   0],\n",
       "       [  0,   0,   0,   0,   0, 978,   0,  15,   1,   6],\n",
       "       [ 78,   1,  32,  21,  47,   0, 819,   0,   2,   0],\n",
       "       [  0,   0,   0,   0,   0,   2,   0, 982,   0,  16],\n",
       "       [  1,   2,   1,   0,   1,   1,   5,   1, 988,   0],\n",
       "       [  0,   0,   0,   0,   0,   1,   0,  29,   0, 970]], dtype=int64)"
      ]
     },
     "execution_count": 37,
     "metadata": {},
     "output_type": "execute_result"
    }
   ],
   "source": [
    "conf_mat=confusion_matrix(y_test,y_pred)\n",
    "conf_mat"
   ]
  },
  {
   "cell_type": "code",
   "execution_count": 36,
   "metadata": {
    "execution": {
     "iopub.execute_input": "2020-12-05T11:55:44.336134Z",
     "iopub.status.busy": "2020-12-05T11:55:44.332177Z",
     "iopub.status.idle": "2020-12-05T11:55:44.672596Z",
     "shell.execute_reply": "2020-12-05T11:55:44.673078Z"
    },
    "id": "F0XxrJaQaQJ1",
    "outputId": "63256252-2212-4469-f924-882b1b39ac79",
    "papermill": {
     "duration": 2.116756,
     "end_time": "2020-12-05T11:55:44.673207",
     "exception": false,
     "start_time": "2020-12-05T11:55:42.556451",
     "status": "completed"
    },
    "tags": []
   },
   "outputs": [
    {
     "data": {
      "text/plain": [
       "(<Figure size 648x648 with 2 Axes>,\n",
       " <matplotlib.axes._subplots.AxesSubplot at 0x2078ad728b0>)"
      ]
     },
     "execution_count": 36,
     "metadata": {},
     "output_type": "execute_result"
    },
    {
     "data": {
      "image/png": "[encoded data removed]",
      "text/plain": [
       "<Figure size 648x648 with 2 Axes>"
      ]
     },
     "metadata": {
      "needs_background": "light"
     },
     "output_type": "display_data"
    }
   ],
   "source": [
    "plot_confusion_matrix(conf_mat, figsize=(9,9), colorbar=True)"
   ]
  },
  {
   "cell_type": "markdown",
   "metadata": {
    "id": "keHxXYokQKZz",
    "papermill": {
     "duration": 1.744729,
     "end_time": "2020-12-05T11:55:47.992128",
     "exception": false,
     "start_time": "2020-12-05T11:55:46.247399",
     "status": "completed"
    },
    "tags": []
   },
   "source": [
    "The confusion matrixes shows that the model is well tuned for image classification of the fashion types."
   ]
  },
  {
   "cell_type": "markdown",
   "metadata": {
    "id": "qOX22ZD9a7oz",
    "papermill": {
     "duration": 1.685966,
     "end_time": "2020-12-05T11:56:00.996465",
     "exception": false,
     "start_time": "2020-12-05T11:55:59.310499",
     "status": "completed"
    },
    "tags": []
   },
   "source": [
    "# THE END"
   ]
  }
 ],
 "metadata": {
  "kernelspec": {
   "display_name": "Python 3",
   "language": "python",
   "name": "python3"
  },
  "language_info": {
   "codemirror_mode": {
    "name": "ipython",
    "version": 3
   },
   "file_extension": ".py",
   "mimetype": "text/x-python",
   "name": "python",
   "nbconvert_exporter": "python",
   "pygments_lexer": "ipython3",
   "version": "3.8.3"
  },
  "papermill": {
   "duration": 827.64693,
   "end_time": "2020-12-05T11:56:02.715605",
   "environment_variables": {},
   "exception": null,
   "input_path": "__notebook__.ipynb",
   "output_path": "__notebook__.ipynb",
   "parameters": {},
   "start_time": "2020-12-05T11:42:15.068675",
   "version": "2.1.0"
  }
 },
 "nbformat": 4,
 "nbformat_minor": 4
}
