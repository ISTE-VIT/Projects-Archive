{
 "cells": [
  {
   "cell_type": "code",
   "execution_count": 1,
   "metadata": {},
   "outputs": [
    {
     "name": "stdout",
     "output_type": "stream",
     "text": [
      "2.4.0\n"
     ]
    }
   ],
   "source": [
    "import tensorflow as tf\n",
    "print(tf.__version__)"
   ]
  },
  {
   "cell_type": "code",
   "execution_count": 2,
   "metadata": {},
   "outputs": [],
   "source": [
    "from tensorflow.keras.layers import Input, Lambda, Dense, Flatten,Conv2D\n",
    "from tensorflow.keras.models import Model\n",
    "from tensorflow.keras.applications.vgg19 import VGG19\n",
    "from tensorflow.keras.applications.resnet50 import preprocess_input\n",
    "from tensorflow.keras.preprocessing import image\n",
    "from tensorflow.keras.preprocessing.image import ImageDataGenerator,load_img\n",
    "from tensorflow.keras.models import Sequential\n",
    "import numpy as np\n",
    "from glob import glob\n",
    "import matplotlib.pyplot as plt"
   ]
  },
  {
   "cell_type": "code",
   "execution_count": 3,
   "metadata": {},
   "outputs": [],
   "source": [
    "IMAGE_SIZE = [224, 224]\n",
    "\n",
    "train_path = 'Dataset/Train'\n",
    "valid_path = 'Dataset/Test'"
   ]
  },
  {
   "cell_type": "code",
   "execution_count": 4,
   "metadata": {},
   "outputs": [],
   "source": [
    "# Import the Vgg 16 library as shown below and add preprocessing layer to the front of VGG\n",
    "# Here we will be using imagenet weights\n",
    "\n",
    "mobilnet = VGG19(input_shape=IMAGE_SIZE + [3], weights='imagenet', include_top=False)"
   ]
  },
  {
   "cell_type": "code",
   "execution_count": 5,
   "metadata": {},
   "outputs": [],
   "source": [
    "# don't train existing weights\n",
    "for layer in mobilnet.layers:\n",
    "    layer.trainable = False"
   ]
  },
  {
   "cell_type": "code",
   "execution_count": 6,
   "metadata": {},
   "outputs": [],
   "source": [
    "# useful for getting number of output classes\n",
    "folders = glob('Dataset/Train/*')\n"
   ]
  },
  {
   "cell_type": "code",
   "execution_count": 7,
   "metadata": {},
   "outputs": [
    {
     "data": {
      "text/plain": [
       "['Dataset/Train\\\\Parasite', 'Dataset/Train\\\\Uninfected']"
      ]
     },
     "execution_count": 7,
     "metadata": {},
     "output_type": "execute_result"
    }
   ],
   "source": [
    "folders"
   ]
  },
  {
   "cell_type": "code",
   "execution_count": 12,
   "metadata": {},
   "outputs": [],
   "source": [
    "\n",
    "x = Flatten()(mobilnet.output)\n",
    "prediction = Dense(len(folders), activation='softmax')(x)"
   ]
  },
  {
   "cell_type": "code",
   "execution_count": 13,
   "metadata": {},
   "outputs": [],
   "source": [
    "model = Model(inputs=mobilnet.input, outputs=prediction)"
   ]
  },
  {
   "cell_type": "code",
   "execution_count": 14,
   "metadata": {},
   "outputs": [
    {
     "name": "stdout",
     "output_type": "stream",
     "text": [
      "Model: \"model\"\n",
      "_________________________________________________________________\n",
      "Layer (type)                 Output Shape              Param #   \n",
      "=================================================================\n",
      "input_1 (InputLayer)         [(None, 224, 224, 3)]     0         \n",
      "_________________________________________________________________\n",
      "block1_conv1 (Conv2D)        (None, 224, 224, 64)      1792      \n",
      "_________________________________________________________________\n",
      "block1_conv2 (Conv2D)        (None, 224, 224, 64)      36928     \n",
      "_________________________________________________________________\n",
      "block1_pool (MaxPooling2D)   (None, 112, 112, 64)      0         \n",
      "_________________________________________________________________\n",
      "block2_conv1 (Conv2D)        (None, 112, 112, 128)     73856     \n",
      "_________________________________________________________________\n",
      "block2_conv2 (Conv2D)        (None, 112, 112, 128)     147584    \n",
      "_________________________________________________________________\n",
      "block2_pool (MaxPooling2D)   (None, 56, 56, 128)       0         \n",
      "_________________________________________________________________\n",
      "block3_conv1 (Conv2D)        (None, 56, 56, 256)       295168    \n",
      "_________________________________________________________________\n",
      "block3_conv2 (Conv2D)        (None, 56, 56, 256)       590080    \n",
      "_________________________________________________________________\n",
      "block3_conv3 (Conv2D)        (None, 56, 56, 256)       590080    \n",
      "_________________________________________________________________\n",
      "block3_conv4 (Conv2D)        (None, 56, 56, 256)       590080    \n",
      "_________________________________________________________________\n",
      "block3_pool (MaxPooling2D)   (None, 28, 28, 256)       0         \n",
      "_________________________________________________________________\n",
      "block4_conv1 (Conv2D)        (None, 28, 28, 512)       1180160   \n",
      "_________________________________________________________________\n",
      "block4_conv2 (Conv2D)        (None, 28, 28, 512)       2359808   \n",
      "_________________________________________________________________\n",
      "block4_conv3 (Conv2D)        (None, 28, 28, 512)       2359808   \n",
      "_________________________________________________________________\n",
      "block4_conv4 (Conv2D)        (None, 28, 28, 512)       2359808   \n",
      "_________________________________________________________________\n",
      "block4_pool (MaxPooling2D)   (None, 14, 14, 512)       0         \n",
      "_________________________________________________________________\n",
      "block5_conv1 (Conv2D)        (None, 14, 14, 512)       2359808   \n",
      "_________________________________________________________________\n",
      "block5_conv2 (Conv2D)        (None, 14, 14, 512)       2359808   \n",
      "_________________________________________________________________\n",
      "block5_conv3 (Conv2D)        (None, 14, 14, 512)       2359808   \n",
      "_________________________________________________________________\n",
      "block5_conv4 (Conv2D)        (None, 14, 14, 512)       2359808   \n",
      "_________________________________________________________________\n",
      "block5_pool (MaxPooling2D)   (None, 7, 7, 512)         0         \n",
      "_________________________________________________________________\n",
      "flatten_3 (Flatten)          (None, 25088)             0         \n",
      "_________________________________________________________________\n",
      "dense (Dense)                (None, 2)                 50178     \n",
      "=================================================================\n",
      "Total params: 20,074,562\n",
      "Trainable params: 50,178\n",
      "Non-trainable params: 20,024,384\n",
      "_________________________________________________________________\n"
     ]
    }
   ],
   "source": [
    "# view the structure of the model\n",
    "model.summary()"
   ]
  },
  {
   "cell_type": "code",
   "execution_count": 15,
   "metadata": {},
   "outputs": [],
   "source": [
    "from tensorflow.keras.layers import MaxPooling2D"
   ]
  },
  {
   "cell_type": "code",
   "execution_count": 16,
   "metadata": {},
   "outputs": [
    {
     "name": "stdout",
     "output_type": "stream",
     "text": [
      "Model: \"sequential\"\n",
      "_________________________________________________________________\n",
      "Layer (type)                 Output Shape              Param #   \n",
      "=================================================================\n",
      "conv2d (Conv2D)              (None, 224, 224, 16)      208       \n",
      "_________________________________________________________________\n",
      "max_pooling2d (MaxPooling2D) (None, 112, 112, 16)      0         \n",
      "_________________________________________________________________\n",
      "conv2d_1 (Conv2D)            (None, 112, 112, 32)      2080      \n",
      "_________________________________________________________________\n",
      "max_pooling2d_1 (MaxPooling2 (None, 56, 56, 32)        0         \n",
      "_________________________________________________________________\n",
      "conv2d_2 (Conv2D)            (None, 56, 56, 64)        8256      \n",
      "_________________________________________________________________\n",
      "max_pooling2d_2 (MaxPooling2 (None, 28, 28, 64)        0         \n",
      "_________________________________________________________________\n",
      "flatten_4 (Flatten)          (None, 50176)             0         \n",
      "_________________________________________________________________\n",
      "dense_1 (Dense)              (None, 500)               25088500  \n",
      "_________________________________________________________________\n",
      "dense_2 (Dense)              (None, 2)                 1002      \n",
      "=================================================================\n",
      "Total params: 25,100,046\n",
      "Trainable params: 25,100,046\n",
      "Non-trainable params: 0\n",
      "_________________________________________________________________\n"
     ]
    }
   ],
   "source": [
    "### Create Model from scratch using CNN\n",
    "model=Sequential()\n",
    "model.add(Conv2D(filters=16,kernel_size=2,padding=\"same\",activation=\"relu\",input_shape=(224,224,3)))\n",
    "model.add(MaxPooling2D(pool_size=2))\n",
    "model.add(Conv2D(filters=32,kernel_size=2,padding=\"same\",activation =\"relu\"))\n",
    "model.add(MaxPooling2D(pool_size=2))\n",
    "model.add(Conv2D(filters=64,kernel_size=2,padding=\"same\",activation=\"relu\"))\n",
    "model.add(MaxPooling2D(pool_size=2))\n",
    "model.add(Flatten())\n",
    "model.add(Dense(500,activation=\"relu\"))\n",
    "model.add(Dense(2,activation=\"softmax\"))\n",
    "model.summary()"
   ]
  },
  {
   "cell_type": "code",
   "execution_count": 17,
   "metadata": {},
   "outputs": [],
   "source": [
    "# tell the model what cost and optimization method to use\n",
    "model.compile(\n",
    "  loss='categorical_crossentropy',\n",
    "  optimizer='adam',\n",
    "  metrics=['accuracy']\n",
    ")"
   ]
  },
  {
   "cell_type": "code",
   "execution_count": 18,
   "metadata": {},
   "outputs": [],
   "source": [
    "# Use the Image Data Generator to import the images from the dataset\n",
    "from tensorflow.keras.preprocessing.image import ImageDataGenerator\n",
    "\n",
    "train_datagen = ImageDataGenerator(rescale = 1./255,\n",
    "                                   shear_range = 0.2,\n",
    "                                   zoom_range = 0.2,\n",
    "                                   horizontal_flip = True)\n",
    "\n",
    "test_datagen = ImageDataGenerator(rescale = 1./255)"
   ]
  },
  {
   "cell_type": "code",
   "execution_count": 19,
   "metadata": {},
   "outputs": [
    {
     "name": "stdout",
     "output_type": "stream",
     "text": [
      "Found 416 images belonging to 2 classes.\n"
     ]
    }
   ],
   "source": [
    "# Make sure you provide the same target size as initialied for the image size\n",
    "training_set = train_datagen.flow_from_directory('Dataset/Train',\n",
    "                                                 target_size = (224, 224),\n",
    "                                                 batch_size = 32,\n",
    "                                                 class_mode = 'categorical')"
   ]
  },
  {
   "cell_type": "code",
   "execution_count": 20,
   "metadata": {},
   "outputs": [
    {
     "data": {
      "text/plain": [
       "<tensorflow.python.keras.preprocessing.image.DirectoryIterator at 0x14c0d7ff2b0>"
      ]
     },
     "execution_count": 20,
     "metadata": {},
     "output_type": "execute_result"
    }
   ],
   "source": [
    "training_set"
   ]
  },
  {
   "cell_type": "code",
   "execution_count": 21,
   "metadata": {},
   "outputs": [
    {
     "name": "stdout",
     "output_type": "stream",
     "text": [
      "Found 134 images belonging to 2 classes.\n"
     ]
    }
   ],
   "source": [
    "test_set = test_datagen.flow_from_directory('Dataset/Test',\n",
    "                                            target_size = (224, 224),\n",
    "                                            batch_size = 32,\n",
    "                                            class_mode = 'categorical')"
   ]
  },
  {
   "cell_type": "code",
   "execution_count": 27,
   "metadata": {},
   "outputs": [
    {
     "name": "stdout",
     "output_type": "stream",
     "text": [
      "Epoch 1/50\n",
      "13/13 [==============================] - 13s 1s/step - loss: 0.0116 - accuracy: 0.9976 - val_loss: 0.2078 - val_accuracy: 0.9552\n",
      "Epoch 2/50\n",
      "13/13 [==============================] - 14s 1s/step - loss: 0.0128 - accuracy: 0.9976 - val_loss: 0.1612 - val_accuracy: 0.9627\n",
      "Epoch 3/50\n",
      "13/13 [==============================] - 14s 1s/step - loss: 0.0183 - accuracy: 0.9976 - val_loss: 0.2298 - val_accuracy: 0.9552\n",
      "Epoch 4/50\n",
      "13/13 [==============================] - 14s 1s/step - loss: 0.0084 - accuracy: 0.9976 - val_loss: 0.1598 - val_accuracy: 0.9627\n",
      "Epoch 5/50\n",
      "13/13 [==============================] - 14s 1s/step - loss: 0.0038 - accuracy: 1.0000 - val_loss: 0.1830 - val_accuracy: 0.9627\n",
      "Epoch 6/50\n",
      "13/13 [==============================] - 14s 1s/step - loss: 0.0234 - accuracy: 0.9928 - val_loss: 0.1418 - val_accuracy: 0.9627\n",
      "Epoch 7/50\n",
      "13/13 [==============================] - 14s 1s/step - loss: 0.0360 - accuracy: 0.9904 - val_loss: 0.1692 - val_accuracy: 0.9478\n",
      "Epoch 8/50\n",
      "13/13 [==============================] - 14s 1s/step - loss: 0.0397 - accuracy: 0.9928 - val_loss: 0.2043 - val_accuracy: 0.9403\n",
      "Epoch 9/50\n",
      "13/13 [==============================] - 14s 1s/step - loss: 0.0410 - accuracy: 0.9952 - val_loss: 0.2286 - val_accuracy: 0.9403\n",
      "Epoch 10/50\n",
      "13/13 [==============================] - 14s 1s/step - loss: 0.0270 - accuracy: 0.9928 - val_loss: 0.2934 - val_accuracy: 0.9328\n",
      "Epoch 11/50\n",
      "13/13 [==============================] - 14s 1s/step - loss: 0.0242 - accuracy: 0.9952 - val_loss: 0.2258 - val_accuracy: 0.9478\n",
      "Epoch 12/50\n",
      "13/13 [==============================] - 14s 1s/step - loss: 0.0126 - accuracy: 0.9976 - val_loss: 0.1959 - val_accuracy: 0.9552\n",
      "Epoch 13/50\n",
      "13/13 [==============================] - 14s 1s/step - loss: 0.0056 - accuracy: 0.9976 - val_loss: 0.2219 - val_accuracy: 0.9403\n",
      "Epoch 14/50\n",
      "13/13 [==============================] - 14s 1s/step - loss: 0.0117 - accuracy: 0.9976 - val_loss: 0.1760 - val_accuracy: 0.9552\n",
      "Epoch 15/50\n",
      "13/13 [==============================] - 14s 1s/step - loss: 0.0098 - accuracy: 0.9952 - val_loss: 0.1911 - val_accuracy: 0.9478\n",
      "Epoch 16/50\n",
      "13/13 [==============================] - 14s 1s/step - loss: 0.0078 - accuracy: 0.9976 - val_loss: 0.2104 - val_accuracy: 0.9478\n",
      "Epoch 17/50\n",
      "13/13 [==============================] - 14s 1s/step - loss: 0.0061 - accuracy: 0.9976 - val_loss: 0.2049 - val_accuracy: 0.9478\n",
      "Epoch 18/50\n",
      "13/13 [==============================] - 14s 1s/step - loss: 0.0073 - accuracy: 0.9976 - val_loss: 0.2499 - val_accuracy: 0.9478\n",
      "Epoch 19/50\n",
      "13/13 [==============================] - 17s 1s/step - loss: 0.0072 - accuracy: 0.9952 - val_loss: 0.2707 - val_accuracy: 0.9403\n",
      "Epoch 20/50\n",
      "13/13 [==============================] - 17s 1s/step - loss: 0.0102 - accuracy: 0.9976 - val_loss: 0.1717 - val_accuracy: 0.9627\n",
      "Epoch 21/50\n",
      "13/13 [==============================] - 14s 1s/step - loss: 0.0065 - accuracy: 0.9976 - val_loss: 0.1722 - val_accuracy: 0.9627\n",
      "Epoch 22/50\n",
      "13/13 [==============================] - 16s 1s/step - loss: 0.0179 - accuracy: 0.9952 - val_loss: 0.2313 - val_accuracy: 0.9403\n",
      "Epoch 23/50\n",
      "13/13 [==============================] - 16s 1s/step - loss: 0.0226 - accuracy: 0.9952 - val_loss: 0.1884 - val_accuracy: 0.9627\n",
      "Epoch 24/50\n",
      "13/13 [==============================] - 15s 1s/step - loss: 0.0075 - accuracy: 0.9976 - val_loss: 0.2839 - val_accuracy: 0.9254\n",
      "Epoch 25/50\n",
      "13/13 [==============================] - 16s 1s/step - loss: 0.0192 - accuracy: 0.9928 - val_loss: 0.2043 - val_accuracy: 0.9552\n",
      "Epoch 26/50\n",
      "13/13 [==============================] - 16s 1s/step - loss: 0.0119 - accuracy: 0.9976 - val_loss: 0.1684 - val_accuracy: 0.9627\n",
      "Epoch 27/50\n",
      "13/13 [==============================] - 18s 1s/step - loss: 0.0110 - accuracy: 0.9976 - val_loss: 0.2923 - val_accuracy: 0.9328\n",
      "Epoch 28/50\n",
      "13/13 [==============================] - 17s 1s/step - loss: 0.0108 - accuracy: 0.9952 - val_loss: 0.1596 - val_accuracy: 0.9552\n",
      "Epoch 29/50\n",
      "13/13 [==============================] - 18s 1s/step - loss: 0.0073 - accuracy: 1.0000 - val_loss: 0.1499 - val_accuracy: 0.9701\n",
      "Epoch 30/50\n",
      "13/13 [==============================] - 16s 1s/step - loss: 0.0025 - accuracy: 1.0000 - val_loss: 0.2223 - val_accuracy: 0.9552\n",
      "Epoch 31/50\n",
      "13/13 [==============================] - 16s 1s/step - loss: 0.0028 - accuracy: 0.9976 - val_loss: 0.2024 - val_accuracy: 0.9627\n",
      "Epoch 32/50\n",
      "13/13 [==============================] - 19s 1s/step - loss: 0.0071 - accuracy: 0.9952 - val_loss: 0.1260 - val_accuracy: 0.9776\n",
      "Epoch 33/50\n",
      "13/13 [==============================] - 18s 1s/step - loss: 0.0836 - accuracy: 0.9832 - val_loss: 0.9052 - val_accuracy: 0.7313\n",
      "Epoch 34/50\n",
      "13/13 [==============================] - 14s 1s/step - loss: 0.2405 - accuracy: 0.9014 - val_loss: 0.3770 - val_accuracy: 0.8134\n",
      "Epoch 35/50\n",
      "13/13 [==============================] - 15s 1s/step - loss: 0.1437 - accuracy: 0.9519 - val_loss: 0.3479 - val_accuracy: 0.8657\n",
      "Epoch 36/50\n",
      "13/13 [==============================] - 14s 1s/step - loss: 0.1114 - accuracy: 0.9639 - val_loss: 0.3695 - val_accuracy: 0.8731\n",
      "Epoch 37/50\n",
      "13/13 [==============================] - 16s 1s/step - loss: 0.0583 - accuracy: 0.9808 - val_loss: 0.2681 - val_accuracy: 0.9179\n",
      "Epoch 38/50\n",
      "13/13 [==============================] - 18s 1s/step - loss: 0.0341 - accuracy: 0.9904 - val_loss: 0.5156 - val_accuracy: 0.9030\n",
      "Epoch 39/50\n",
      "13/13 [==============================] - 15s 1s/step - loss: 0.0670 - accuracy: 0.9856 - val_loss: 0.2061 - val_accuracy: 0.9328\n",
      "Epoch 40/50\n",
      "13/13 [==============================] - 14s 1s/step - loss: 0.0310 - accuracy: 0.9928 - val_loss: 0.3612 - val_accuracy: 0.9254\n",
      "Epoch 41/50\n",
      "13/13 [==============================] - 14s 1s/step - loss: 0.0133 - accuracy: 0.9976 - val_loss: 0.2335 - val_accuracy: 0.9403\n",
      "Epoch 42/50\n",
      "13/13 [==============================] - 14s 1s/step - loss: 0.0097 - accuracy: 0.9976 - val_loss: 0.3419 - val_accuracy: 0.9328\n",
      "Epoch 43/50\n",
      "13/13 [==============================] - 14s 1s/step - loss: 0.0186 - accuracy: 0.9952 - val_loss: 0.2612 - val_accuracy: 0.9328\n",
      "Epoch 44/50\n",
      "13/13 [==============================] - 15s 1s/step - loss: 0.0085 - accuracy: 0.9976 - val_loss: 0.2911 - val_accuracy: 0.9328\n",
      "Epoch 45/50\n",
      "13/13 [==============================] - 14s 1s/step - loss: 0.0116 - accuracy: 0.9976 - val_loss: 0.2741 - val_accuracy: 0.9328\n",
      "Epoch 46/50\n",
      "13/13 [==============================] - 14s 1s/step - loss: 0.0117 - accuracy: 0.9952 - val_loss: 0.2774 - val_accuracy: 0.9254\n",
      "Epoch 47/50\n",
      "13/13 [==============================] - 14s 1s/step - loss: 0.0217 - accuracy: 0.9952 - val_loss: 0.2939 - val_accuracy: 0.9328\n",
      "Epoch 48/50\n",
      "13/13 [==============================] - 14s 1s/step - loss: 0.0179 - accuracy: 0.9952 - val_loss: 0.2196 - val_accuracy: 0.9478\n",
      "Epoch 49/50\n",
      "13/13 [==============================] - 14s 1s/step - loss: 0.0198 - accuracy: 0.9928 - val_loss: 0.2474 - val_accuracy: 0.9254\n",
      "Epoch 50/50\n",
      "13/13 [==============================] - 14s 1s/step - loss: 0.0149 - accuracy: 0.9976 - val_loss: 0.3054 - val_accuracy: 0.9328\n"
     ]
    }
   ],
   "source": [
    "# fit the model\n",
    "# Run the cell. It will take some time to execute\n",
    "r = model.fit_generator(\n",
    "  training_set,\n",
    "  validation_data=test_set,\n",
    "  epochs=50,\n",
    "  steps_per_epoch=len(training_set),\n",
    "  validation_steps=len(test_set)\n",
    ")"
   ]
  },
  {
   "cell_type": "code",
   "execution_count": 28,
   "metadata": {},
   "outputs": [
    {
     "data": {
      "image/png": "[encoded data removed]",
      "text/plain": [
       "<Figure size 432x288 with 1 Axes>"
      ]
     },
     "metadata": {
      "needs_background": "light"
     },
     "output_type": "display_data"
    },
    {
     "data": {
      "image/png": "[encoded data removed]",
      "text/plain": [
       "<Figure size 432x288 with 1 Axes>"
      ]
     },
     "metadata": {
      "needs_background": "light"
     },
     "output_type": "display_data"
    },
    {
     "data": {
      "text/plain": [
       "<Figure size 432x288 with 0 Axes>"
      ]
     },
     "metadata": {},
     "output_type": "display_data"
    }
   ],
   "source": [
    "# plot the loss\n",
    "plt.plot(r.history['loss'], label='train loss')\n",
    "plt.plot(r.history['val_loss'], label='val loss')\n",
    "plt.legend()\n",
    "plt.show()\n",
    "plt.savefig('LossVal_loss')\n",
    "\n",
    "# plot the accuracy\n",
    "plt.plot(r.history['accuracy'], label='train acc')\n",
    "plt.plot(r.history['val_accuracy'], label='val acc')\n",
    "plt.legend()\n",
    "plt.show()\n",
    "plt.savefig('AccVal_acc')"
   ]
  },
  {
   "cell_type": "code",
   "execution_count": 29,
   "metadata": {},
   "outputs": [],
   "source": [
    "\n",
    "from tensorflow.keras.models import load_model\n",
    "\n",
    "model.save('model_vgg19.h5')"
   ]
  },
  {
   "cell_type": "code",
   "execution_count": 30,
   "metadata": {},
   "outputs": [],
   "source": [
    "y_pred = model.predict(test_set)"
   ]
  },
  {
   "cell_type": "code",
   "execution_count": 31,
   "metadata": {},
   "outputs": [
    {
     "data": {
      "text/plain": [
       "array([[8.1867905e-04, 9.9918133e-01],\n",
       "       [1.0000000e+00, 0.0000000e+00],\n",
       "       [1.0000000e+00, 0.0000000e+00],\n",
       "       [1.0000000e+00, 2.6632816e-26],\n",
       "       [2.2740952e-04, 9.9977261e-01],\n",
       "       [5.4819928e-03, 9.9451798e-01],\n",
       "       [9.9997580e-01, 2.4224350e-05],\n",
       "       [8.0128037e-04, 9.9919873e-01],\n",
       "       [1.0000000e+00, 0.0000000e+00],\n",
       "       [1.0000000e+00, 1.4831027e-19],\n",
       "       [1.0867321e-02, 9.8913270e-01],\n",
       "       [1.1095533e-03, 9.9889046e-01],\n",
       "       [1.0000000e+00, 9.1560276e-38],\n",
       "       [1.2085243e-03, 9.9879152e-01],\n",
       "       [1.0000000e+00, 5.7361458e-16],\n",
       "       [1.0000000e+00, 1.2288198e-16],\n",
       "       [1.0000000e+00, 5.1710238e-29],\n",
       "       [7.7358948e-04, 9.9922645e-01],\n",
       "       [1.0000000e+00, 5.3063427e-16],\n",
       "       [2.5874347e-04, 9.9974126e-01],\n",
       "       [1.0000000e+00, 5.0175190e-27],\n",
       "       [1.0000000e+00, 3.7413815e-21],\n",
       "       [1.0000000e+00, 3.6266569e-22],\n",
       "       [1.0000000e+00, 0.0000000e+00],\n",
       "       [1.0000000e+00, 7.1539426e-21],\n",
       "       [8.6275407e-04, 9.9913722e-01],\n",
       "       [1.0000000e+00, 1.7882069e-18],\n",
       "       [9.9913663e-01, 8.6338568e-04],\n",
       "       [1.0000000e+00, 7.2248637e-21],\n",
       "       [9.9697483e-01, 3.0251502e-03],\n",
       "       [1.0000000e+00, 5.3992221e-18],\n",
       "       [1.0000000e+00, 2.1742059e-25],\n",
       "       [1.2290032e-03, 9.9877101e-01],\n",
       "       [9.9999201e-01, 7.9848623e-06],\n",
       "       [5.3179573e-04, 9.9946827e-01],\n",
       "       [1.2493767e-01, 8.7506229e-01],\n",
       "       [1.0000000e+00, 1.5417345e-13],\n",
       "       [9.9685812e-01, 3.1418276e-03],\n",
       "       [1.0000000e+00, 1.7649459e-13],\n",
       "       [8.2301098e-01, 1.7698896e-01],\n",
       "       [1.0000000e+00, 7.6291357e-23],\n",
       "       [1.0000000e+00, 0.0000000e+00],\n",
       "       [2.4515245e-04, 9.9975485e-01],\n",
       "       [1.0000000e+00, 0.0000000e+00],\n",
       "       [1.0000000e+00, 9.4646594e-14],\n",
       "       [9.9848628e-01, 1.5137158e-03],\n",
       "       [2.5227419e-01, 7.4772578e-01],\n",
       "       [1.7115276e-04, 9.9982882e-01],\n",
       "       [1.0000000e+00, 3.1816429e-31],\n",
       "       [2.7929670e-03, 9.9720699e-01],\n",
       "       [8.5537916e-04, 9.9914455e-01],\n",
       "       [1.0000000e+00, 1.3870462e-20],\n",
       "       [1.0000000e+00, 8.7983467e-31],\n",
       "       [1.0000000e+00, 1.6254420e-28],\n",
       "       [1.1374394e-02, 9.8862565e-01],\n",
       "       [1.0000000e+00, 5.2782241e-22],\n",
       "       [2.0142223e-04, 9.9979860e-01],\n",
       "       [1.0000000e+00, 4.9931951e-19],\n",
       "       [2.1985357e-01, 7.8014642e-01],\n",
       "       [1.0000000e+00, 2.5334751e-23],\n",
       "       [9.9999571e-01, 4.3029600e-06],\n",
       "       [1.0000000e+00, 8.4186045e-29],\n",
       "       [1.0000000e+00, 1.4639304e-18],\n",
       "       [1.0000000e+00, 3.0579084e-11],\n",
       "       [1.0000000e+00, 2.2142067e-17],\n",
       "       [1.0000000e+00, 2.0395644e-11],\n",
       "       [1.0000000e+00, 3.9024526e-14],\n",
       "       [9.5499778e-04, 9.9904495e-01],\n",
       "       [2.1544213e-03, 9.9784553e-01],\n",
       "       [2.0735357e-02, 9.7926462e-01],\n",
       "       [5.4555111e-02, 9.4544488e-01],\n",
       "       [1.0000000e+00, 0.0000000e+00],\n",
       "       [1.9367872e-01, 8.0632120e-01],\n",
       "       [1.0000000e+00, 1.0415025e-23],\n",
       "       [1.5028642e-03, 9.9849713e-01],\n",
       "       [1.0000000e+00, 2.1005980e-22],\n",
       "       [1.0000000e+00, 1.1114452e-08],\n",
       "       [3.3751383e-04, 9.9966252e-01],\n",
       "       [1.0000000e+00, 1.3905374e-35],\n",
       "       [1.0996957e-02, 9.8900300e-01],\n",
       "       [9.9999952e-01, 5.2819030e-07],\n",
       "       [1.0000000e+00, 4.2595914e-22],\n",
       "       [1.7795262e-03, 9.9822050e-01],\n",
       "       [4.0033375e-04, 9.9959964e-01],\n",
       "       [1.0000000e+00, 2.1799580e-09],\n",
       "       [5.0190167e-04, 9.9949813e-01],\n",
       "       [1.0000000e+00, 1.7155010e-19],\n",
       "       [9.8712668e-03, 9.9012870e-01],\n",
       "       [2.4753690e-04, 9.9975246e-01],\n",
       "       [1.0000000e+00, 1.7718894e-11],\n",
       "       [1.0000000e+00, 1.4244213e-11],\n",
       "       [1.0000000e+00, 5.8537054e-22],\n",
       "       [1.0000000e+00, 1.1644231e-22],\n",
       "       [1.0000000e+00, 1.4587198e-16],\n",
       "       [1.0160717e-04, 9.9989843e-01],\n",
       "       [1.7514168e-03, 9.9824858e-01],\n",
       "       [1.2409366e-03, 9.9875903e-01],\n",
       "       [5.1348144e-04, 9.9948645e-01],\n",
       "       [3.8507185e-03, 9.9614930e-01],\n",
       "       [2.4803090e-04, 9.9975199e-01],\n",
       "       [3.3425498e-03, 9.9665749e-01],\n",
       "       [1.0000000e+00, 5.8748990e-34],\n",
       "       [1.0000000e+00, 4.0978957e-36],\n",
       "       [1.3588323e-02, 9.8641169e-01],\n",
       "       [4.8146566e-04, 9.9951851e-01],\n",
       "       [2.3589550e-04, 9.9976414e-01],\n",
       "       [1.0000000e+00, 5.4228192e-24],\n",
       "       [1.0000000e+00, 0.0000000e+00],\n",
       "       [9.9999988e-01, 8.3619305e-08],\n",
       "       [1.0000000e+00, 2.6498393e-22],\n",
       "       [1.1484755e-03, 9.9885154e-01],\n",
       "       [1.0000000e+00, 0.0000000e+00],\n",
       "       [1.0000000e+00, 1.8370736e-29],\n",
       "       [5.1530963e-04, 9.9948466e-01],\n",
       "       [1.0000000e+00, 8.5394883e-26],\n",
       "       [1.0000000e+00, 1.6728821e-25],\n",
       "       [1.0000000e+00, 0.0000000e+00],\n",
       "       [1.0000000e+00, 2.0632520e-11],\n",
       "       [1.1641658e-03, 9.9883586e-01],\n",
       "       [8.0200015e-03, 9.9197996e-01],\n",
       "       [1.0625812e-03, 9.9893743e-01],\n",
       "       [9.9600297e-01, 3.9970437e-03],\n",
       "       [1.0000000e+00, 0.0000000e+00],\n",
       "       [1.0000000e+00, 2.8913420e-17],\n",
       "       [1.0000000e+00, 8.0569790e-18],\n",
       "       [4.6922574e-03, 9.9530774e-01],\n",
       "       [4.5258823e-04, 9.9954742e-01],\n",
       "       [4.4999929e-04, 9.9954993e-01],\n",
       "       [1.0000000e+00, 1.1797677e-15],\n",
       "       [1.0000000e+00, 1.6525413e-25],\n",
       "       [1.0000000e+00, 8.0269577e-15],\n",
       "       [1.0000000e+00, 2.2449678e-11],\n",
       "       [1.0000000e+00, 4.9450012e-15],\n",
       "       [1.0000000e+00, 1.0093334e-20]], dtype=float32)"
      ]
     },
     "execution_count": 31,
     "metadata": {},
     "output_type": "execute_result"
    }
   ],
   "source": [
    "\n",
    "\n",
    "y_pred\n",
    "\n"
   ]
  },
  {
   "cell_type": "code",
   "execution_count": 32,
   "metadata": {},
   "outputs": [],
   "source": [
    "import numpy as np\n",
    "y_pred = np.argmax(y_pred, axis=1)"
   ]
  },
  {
   "cell_type": "code",
   "execution_count": 33,
   "metadata": {},
   "outputs": [
    {
     "data": {
      "text/plain": [
       "array([1, 0, 0, 0, 1, 1, 0, 1, 0, 0, 1, 1, 0, 1, 0, 0, 0, 1, 0, 1, 0, 0,\n",
       "       0, 0, 0, 1, 0, 0, 0, 0, 0, 0, 1, 0, 1, 1, 0, 0, 0, 0, 0, 0, 1, 0,\n",
       "       0, 0, 1, 1, 0, 1, 1, 0, 0, 0, 1, 0, 1, 0, 1, 0, 0, 0, 0, 0, 0, 0,\n",
       "       0, 1, 1, 1, 1, 0, 1, 0, 1, 0, 0, 1, 0, 1, 0, 0, 1, 1, 0, 1, 0, 1,\n",
       "       1, 0, 0, 0, 0, 0, 1, 1, 1, 1, 1, 1, 1, 0, 0, 1, 1, 1, 0, 0, 0, 0,\n",
       "       1, 0, 0, 1, 0, 0, 0, 0, 1, 1, 1, 0, 0, 0, 0, 1, 1, 1, 0, 0, 0, 0,\n",
       "       0, 0], dtype=int64)"
      ]
     },
     "execution_count": 33,
     "metadata": {},
     "output_type": "execute_result"
    }
   ],
   "source": [
    "y_pred"
   ]
  },
  {
   "cell_type": "code",
   "execution_count": 34,
   "metadata": {},
   "outputs": [],
   "source": [
    "from tensorflow.keras.models import load_model\n",
    "from tensorflow.keras.preprocessing import image"
   ]
  },
  {
   "cell_type": "code",
   "execution_count": 35,
   "metadata": {},
   "outputs": [],
   "source": [
    "model=load_model('model_vgg19.h5')"
   ]
  },
  {
   "cell_type": "code",
   "execution_count": 36,
   "metadata": {},
   "outputs": [],
   "source": [
    "img=image.load_img('Dataset/Test/Uninfected/2.png',target_size=(224,224))"
   ]
  },
  {
   "cell_type": "code",
   "execution_count": 37,
   "metadata": {},
   "outputs": [
    {
     "data": {
      "text/plain": [
       "array([[[0., 0., 0.],\n",
       "        [0., 0., 0.],\n",
       "        [0., 0., 0.],\n",
       "        ...,\n",
       "        [0., 0., 0.],\n",
       "        [0., 0., 0.],\n",
       "        [0., 0., 0.]],\n",
       "\n",
       "       [[0., 0., 0.],\n",
       "        [0., 0., 0.],\n",
       "        [0., 0., 0.],\n",
       "        ...,\n",
       "        [0., 0., 0.],\n",
       "        [0., 0., 0.],\n",
       "        [0., 0., 0.]],\n",
       "\n",
       "       [[0., 0., 0.],\n",
       "        [0., 0., 0.],\n",
       "        [0., 0., 0.],\n",
       "        ...,\n",
       "        [0., 0., 0.],\n",
       "        [0., 0., 0.],\n",
       "        [0., 0., 0.]],\n",
       "\n",
       "       ...,\n",
       "\n",
       "       [[0., 0., 0.],\n",
       "        [0., 0., 0.],\n",
       "        [0., 0., 0.],\n",
       "        ...,\n",
       "        [0., 0., 0.],\n",
       "        [0., 0., 0.],\n",
       "        [0., 0., 0.]],\n",
       "\n",
       "       [[0., 0., 0.],\n",
       "        [0., 0., 0.],\n",
       "        [0., 0., 0.],\n",
       "        ...,\n",
       "        [0., 0., 0.],\n",
       "        [0., 0., 0.],\n",
       "        [0., 0., 0.]],\n",
       "\n",
       "       [[0., 0., 0.],\n",
       "        [0., 0., 0.],\n",
       "        [0., 0., 0.],\n",
       "        ...,\n",
       "        [0., 0., 0.],\n",
       "        [0., 0., 0.],\n",
       "        [0., 0., 0.]]], dtype=float32)"
      ]
     },
     "execution_count": 37,
     "metadata": {},
     "output_type": "execute_result"
    }
   ],
   "source": [
    "x=image.img_to_array(img)\n",
    "x"
   ]
  },
  {
   "cell_type": "code",
   "execution_count": 38,
   "metadata": {},
   "outputs": [
    {
     "data": {
      "text/plain": [
       "(224, 224, 3)"
      ]
     },
     "execution_count": 38,
     "metadata": {},
     "output_type": "execute_result"
    }
   ],
   "source": [
    "x.shape"
   ]
  },
  {
   "cell_type": "code",
   "execution_count": 39,
   "metadata": {},
   "outputs": [],
   "source": [
    "x=x/255"
   ]
  },
  {
   "cell_type": "code",
   "execution_count": 40,
   "metadata": {},
   "outputs": [
    {
     "data": {
      "text/plain": [
       "(1, 224, 224, 3)"
      ]
     },
     "execution_count": 40,
     "metadata": {},
     "output_type": "execute_result"
    }
   ],
   "source": [
    "x=np.expand_dims(x,axis=0)\n",
    "img_data=preprocess_input(x)\n",
    "img_data.shape"
   ]
  },
  {
   "cell_type": "code",
   "execution_count": 41,
   "metadata": {},
   "outputs": [
    {
     "data": {
      "text/plain": [
       "array([[0., 1.]], dtype=float32)"
      ]
     },
     "execution_count": 41,
     "metadata": {},
     "output_type": "execute_result"
    }
   ],
   "source": [
    "model.predict(img_data)"
   ]
  },
  {
   "cell_type": "code",
   "execution_count": 42,
   "metadata": {},
   "outputs": [],
   "source": [
    "a=np.argmax(model.predict(img_data), axis=1)"
   ]
  },
  {
   "cell_type": "code",
   "execution_count": 43,
   "metadata": {},
   "outputs": [
    {
     "name": "stdout",
     "output_type": "stream",
     "text": [
      "Uninfected\n"
     ]
    }
   ],
   "source": [
    "if(a==1):\n",
    "    print(\"Uninfected\")\n",
    "else:\n",
    "    print(\"Infected\")"
   ]
  },
  {
   "cell_type": "code",
   "execution_count": null,
   "metadata": {},
   "outputs": [],
   "source": []
  }
 ],
 "metadata": {
  "kernelspec": {
   "display_name": "Python 3",
   "language": "python",
   "name": "python3"
  },
  "language_info": {
   "codemirror_mode": {
    "name": "ipython",
    "version": 3
   },
   "file_extension": ".py",
   "mimetype": "text/x-python",
   "name": "python",
   "nbconvert_exporter": "python",
   "pygments_lexer": "ipython3",
   "version": "3.8.5"
  }
 },
 "nbformat": 4,
 "nbformat_minor": 4
}
