{
  "nbformat": 4,
  "nbformat_minor": 2,
  "metadata": {
    "colab": {
      "name": "Keyword_Density.ipynb",
      "provenance": []
    },
    "kernelspec": {
      "name": "python3",
      "display_name": "Python 3.9.2 64-bit"
    },
    "language_info": {
      "name": "python",
      "version": "3.9.2",
      "mimetype": "text/x-python",
      "codemirror_mode": {
        "name": "ipython",
        "version": 3
      },
      "pygments_lexer": "ipython3",
      "nbconvert_exporter": "python",
      "file_extension": ".py"
    },
    "interpreter": {
      "hash": "a12d694c3ccac42055183a0ad11e659c6a2db5c6555ad2c8919d5814fd4e404f"
    }
  },
  "cells": [
    {
      "cell_type": "code",
      "execution_count": 23,
      "source": [
        "import nltk"
      ],
      "outputs": [],
      "metadata": {
        "id": "65-QsmXiXfzK"
      }
    },
    {
      "cell_type": "code",
      "execution_count": 24,
      "source": [
        "import nltk\r\n",
        "from nltk.tokenize import word_tokenize\r\n",
        "\r\n",
        "text = \"\"\"Tele communications networks supported and funded by China are taking over Africa's cyber space, a dependence that analysts suggest puts China in a position of power where it can exert political and social influence in some of the continent’s countries.\r\n",
        "China's telecom major Huawei is working with multiple governments across the continent, and it is these governments that are using futuristic technology to undermine democratic values, according to Africa experts.\"\"\"\r\n",
        "\r\n",
        "text_tokens=word_tokenize(text)\r\n",
        "\r\n",
        "print(text_tokens)\r\n",
        "\r\n",
        "print(len(text_tokens))"
      ],
      "outputs": [
        {
          "output_type": "stream",
          "name": "stdout",
          "text": [
            "['Tele', 'communications', 'networks', 'supported', 'and', 'funded', 'by', 'China', 'are', 'taking', 'over', 'Africa', \"'s\", 'cyber', 'space', ',', 'a', 'dependence', 'that', 'analysts', 'suggest', 'puts', 'China', 'in', 'a', 'position', 'of', 'power', 'where', 'it', 'can', 'exert', 'political', 'and', 'social', 'influence', 'in', 'some', 'of', 'the', 'continent', '’', 's', 'countries', '.', 'China', \"'s\", 'telecom', 'major', 'Huawei', 'is', 'working', 'with', 'multiple', 'governments', 'across', 'the', 'continent', ',', 'and', 'it', 'is', 'these', 'governments', 'that', 'are', 'using', 'futuristic', 'technology', 'to', 'undermine', 'democratic', 'values', ',', 'according', 'to', 'Africa', 'experts', '.']\n",
            "79\n"
          ]
        }
      ],
      "metadata": {
        "colab": {
          "base_uri": "https://localhost:8080/"
        },
        "id": "gAFUyDmlRvZg",
        "outputId": "a36e4f3e-a1a3-474a-a671-ac7eda245b5f"
      }
    },
    {
      "cell_type": "code",
      "execution_count": 25,
      "source": [
        "from nltk.probability import FreqDist\r\n",
        "\r\n",
        "fdist=FreqDist()\r\n",
        "\r\n",
        "for word in text_tokens:\r\n",
        "    fdist[word.lower()]+=1\r\n",
        "fdist"
      ],
      "outputs": [
        {
          "output_type": "execute_result",
          "data": {
            "text/plain": [
              "FreqDist({'and': 3, 'china': 3, ',': 3, 'are': 2, 'africa': 2, \"'s\": 2, 'a': 2, 'that': 2, 'in': 2, 'of': 2, ...})"
            ]
          },
          "metadata": {},
          "execution_count": 25
        }
      ],
      "metadata": {
        "colab": {
          "base_uri": "https://localhost:8080/"
        },
        "id": "-3LO1ufbSErI",
        "outputId": "8145fd30-b852-4e8e-dd00-ce5af9e8692c"
      }
    },
    {
      "cell_type": "code",
      "execution_count": 26,
      "source": [
        "len(fdist)"
      ],
      "outputs": [
        {
          "output_type": "execute_result",
          "data": {
            "text/plain": [
              "59"
            ]
          },
          "metadata": {},
          "execution_count": 26
        }
      ],
      "metadata": {
        "colab": {
          "base_uri": "https://localhost:8080/"
        },
        "id": "oLof8kuISVkv",
        "outputId": "34f30fe4-730d-4813-c320-62561de02308"
      }
    },
    {
      "cell_type": "code",
      "execution_count": 27,
      "source": [
        "fdist_top10=fdist.most_common(10)\r\n",
        "fdist_top10"
      ],
      "outputs": [
        {
          "output_type": "execute_result",
          "data": {
            "text/plain": [
              "[('and', 3),\n",
              " ('china', 3),\n",
              " (',', 3),\n",
              " ('are', 2),\n",
              " ('africa', 2),\n",
              " (\"'s\", 2),\n",
              " ('a', 2),\n",
              " ('that', 2),\n",
              " ('in', 2),\n",
              " ('of', 2)]"
            ]
          },
          "metadata": {},
          "execution_count": 27
        }
      ],
      "metadata": {
        "colab": {
          "base_uri": "https://localhost:8080/"
        },
        "id": "gGlOOI3YSdDB",
        "outputId": "43a0f1e8-1041-40e9-def4-0bc1f251d430"
      }
    },
    {
      "cell_type": "code",
      "execution_count": 28,
      "source": [
        "density=fdist['china']/len(text_tokens)*100\r\n",
        "print(density,\"%\")"
      ],
      "outputs": [
        {
          "output_type": "stream",
          "name": "stdout",
          "text": [
            "3.79746835443038 %\n"
          ]
        }
      ],
      "metadata": {
        "colab": {
          "base_uri": "https://localhost:8080/"
        },
        "id": "V8vL4n0vTb7m",
        "outputId": "1404566d-59bb-44b3-c9e9-fcb77e222188"
      }
    }
  ]
}