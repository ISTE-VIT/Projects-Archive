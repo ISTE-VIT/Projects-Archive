{
 "cells": [
  {
   "cell_type": "code",
   "execution_count": 1,
   "metadata": {},
   "outputs": [],
   "source": [
    "import numpy as np\n",
    "import scipy as sp\n",
    "import pandas as pd\n",
    "import matplotlib as mpl\n",
    "import matplotlib.pyplot as plt\n",
    "import seaborn as sns\n",
    "\n",
    "# Pandas options\n",
    "pd.set_option('display.max_colwidth', 1000, 'display.max_rows', None, 'display.max_columns', None)\n",
    "\n",
    "# Plotting options\n",
    "%matplotlib inline\n",
    "mpl.style.use('ggplot')\n",
    "sns.set(style='whitegrid')"
   ]
  },
  {
   "cell_type": "code",
   "execution_count": 2,
   "metadata": {},
   "outputs": [],
   "source": [
    "transactions = pd.read_csv('creditcard.csv')"
   ]
  },
  {
   "cell_type": "code",
   "execution_count": 3,
   "metadata": {},
   "outputs": [
    {
     "data": {
      "text/plain": [
       "(284807, 31)"
      ]
     },
     "execution_count": 3,
     "metadata": {},
     "output_type": "execute_result"
    }
   ],
   "source": [
    "transactions.shape"
   ]
  },
  {
   "cell_type": "code",
   "execution_count": 4,
   "metadata": {},
   "outputs": [
    {
     "name": "stdout",
     "output_type": "stream",
     "text": [
      "<class 'pandas.core.frame.DataFrame'>\n",
      "RangeIndex: 284807 entries, 0 to 284806\n",
      "Data columns (total 31 columns):\n",
      " #   Column  Non-Null Count   Dtype  \n",
      "---  ------  --------------   -----  \n",
      " 0   Time    284807 non-null  float64\n",
      " 1   V1      284807 non-null  float64\n",
      " 2   V2      284807 non-null  float64\n",
      " 3   V3      284807 non-null  float64\n",
      " 4   V4      284807 non-null  float64\n",
      " 5   V5      284807 non-null  float64\n",
      " 6   V6      284807 non-null  float64\n",
      " 7   V7      284807 non-null  float64\n",
      " 8   V8      284807 non-null  float64\n",
      " 9   V9      284807 non-null  float64\n",
      " 10  V10     284807 non-null  float64\n",
      " 11  V11     284807 non-null  float64\n",
      " 12  V12     284807 non-null  float64\n",
      " 13  V13     284807 non-null  float64\n",
      " 14  V14     284807 non-null  float64\n",
      " 15  V15     284807 non-null  float64\n",
      " 16  V16     284807 non-null  float64\n",
      " 17  V17     284807 non-null  float64\n",
      " 18  V18     284807 non-null  float64\n",
      " 19  V19     284807 non-null  float64\n",
      " 20  V20     284807 non-null  float64\n",
      " 21  V21     284807 non-null  float64\n",
      " 22  V22     284807 non-null  float64\n",
      " 23  V23     284807 non-null  float64\n",
      " 24  V24     284807 non-null  float64\n",
      " 25  V25     284807 non-null  float64\n",
      " 26  V26     284807 non-null  float64\n",
      " 27  V27     284807 non-null  float64\n",
      " 28  V28     284807 non-null  float64\n",
      " 29  Amount  284807 non-null  float64\n",
      " 30  Class   284807 non-null  int64  \n",
      "dtypes: float64(30), int64(1)\n",
      "memory usage: 67.4 MB\n"
     ]
    }
   ],
   "source": [
    "transactions.info()"
   ]
  },
  {
   "cell_type": "code",
   "execution_count": 5,
   "metadata": {},
   "outputs": [
    {
     "data": {
      "text/plain": [
       "False"
      ]
     },
     "execution_count": 5,
     "metadata": {},
     "output_type": "execute_result"
    }
   ],
   "source": [
    "transactions.isnull().any().any()"
   ]
  },
  {
   "cell_type": "code",
   "execution_count": 6,
   "metadata": {},
   "outputs": [
    {
     "data": {
      "text/html": [
       "<div>\n",
       "<style scoped>\n",
       "    .dataframe tbody tr th:only-of-type {\n",
       "        vertical-align: middle;\n",
       "    }\n",
       "\n",
       "    .dataframe tbody tr th {\n",
       "        vertical-align: top;\n",
       "    }\n",
       "\n",
       "    .dataframe thead th {\n",
       "        text-align: right;\n",
       "    }\n",
       "</style>\n",
       "<table border=\"1\" class=\"dataframe\">\n",
       "  <thead>\n",
       "    <tr style=\"text-align: right;\">\n",
       "      <th></th>\n",
       "      <th>Time</th>\n",
       "      <th>V1</th>\n",
       "      <th>V2</th>\n",
       "      <th>V3</th>\n",
       "      <th>V4</th>\n",
       "      <th>V5</th>\n",
       "      <th>V6</th>\n",
       "      <th>V7</th>\n",
       "      <th>V8</th>\n",
       "      <th>V9</th>\n",
       "      <th>V10</th>\n",
       "      <th>V11</th>\n",
       "      <th>V12</th>\n",
       "      <th>V13</th>\n",
       "      <th>V14</th>\n",
       "      <th>V15</th>\n",
       "      <th>V16</th>\n",
       "      <th>V17</th>\n",
       "      <th>V18</th>\n",
       "      <th>V19</th>\n",
       "      <th>V20</th>\n",
       "      <th>V21</th>\n",
       "      <th>V22</th>\n",
       "      <th>V23</th>\n",
       "      <th>V24</th>\n",
       "      <th>V25</th>\n",
       "      <th>V26</th>\n",
       "      <th>V27</th>\n",
       "      <th>V28</th>\n",
       "      <th>Amount</th>\n",
       "      <th>Class</th>\n",
       "    </tr>\n",
       "  </thead>\n",
       "  <tbody>\n",
       "    <tr>\n",
       "      <th>126995</th>\n",
       "      <td>78173.0</td>\n",
       "      <td>-0.458058</td>\n",
       "      <td>0.624041</td>\n",
       "      <td>1.106114</td>\n",
       "      <td>1.069328</td>\n",
       "      <td>0.679128</td>\n",
       "      <td>0.929725</td>\n",
       "      <td>0.636754</td>\n",
       "      <td>0.233290</td>\n",
       "      <td>-0.688596</td>\n",
       "      <td>-0.183140</td>\n",
       "      <td>0.348602</td>\n",
       "      <td>0.742745</td>\n",
       "      <td>0.302001</td>\n",
       "      <td>0.132265</td>\n",
       "      <td>-0.460757</td>\n",
       "      <td>-0.772323</td>\n",
       "      <td>0.043301</td>\n",
       "      <td>0.085883</td>\n",
       "      <td>1.356934</td>\n",
       "      <td>0.209605</td>\n",
       "      <td>0.055413</td>\n",
       "      <td>0.263738</td>\n",
       "      <td>-0.129016</td>\n",
       "      <td>-0.815753</td>\n",
       "      <td>-0.027901</td>\n",
       "      <td>-0.208133</td>\n",
       "      <td>0.160112</td>\n",
       "      <td>0.131019</td>\n",
       "      <td>65.00</td>\n",
       "      <td>0</td>\n",
       "    </tr>\n",
       "    <tr>\n",
       "      <th>208981</th>\n",
       "      <td>137355.0</td>\n",
       "      <td>-0.159963</td>\n",
       "      <td>0.722736</td>\n",
       "      <td>0.232706</td>\n",
       "      <td>-0.569213</td>\n",
       "      <td>0.416794</td>\n",
       "      <td>-1.141140</td>\n",
       "      <td>0.813746</td>\n",
       "      <td>-0.140064</td>\n",
       "      <td>0.235480</td>\n",
       "      <td>-0.253121</td>\n",
       "      <td>-1.091458</td>\n",
       "      <td>-0.532387</td>\n",
       "      <td>-1.302340</td>\n",
       "      <td>0.345735</td>\n",
       "      <td>-0.197299</td>\n",
       "      <td>-0.102125</td>\n",
       "      <td>-0.282696</td>\n",
       "      <td>-0.687009</td>\n",
       "      <td>-0.138450</td>\n",
       "      <td>-0.162207</td>\n",
       "      <td>-0.257635</td>\n",
       "      <td>-0.662374</td>\n",
       "      <td>0.075575</td>\n",
       "      <td>-0.053195</td>\n",
       "      <td>-0.565085</td>\n",
       "      <td>0.135912</td>\n",
       "      <td>0.120879</td>\n",
       "      <td>0.086781</td>\n",
       "      <td>1.78</td>\n",
       "      <td>0</td>\n",
       "    </tr>\n",
       "    <tr>\n",
       "      <th>7267</th>\n",
       "      <td>9663.0</td>\n",
       "      <td>-1.178157</td>\n",
       "      <td>0.715470</td>\n",
       "      <td>1.423573</td>\n",
       "      <td>1.467534</td>\n",
       "      <td>0.377157</td>\n",
       "      <td>0.222116</td>\n",
       "      <td>0.149876</td>\n",
       "      <td>0.142945</td>\n",
       "      <td>1.261478</td>\n",
       "      <td>0.127816</td>\n",
       "      <td>1.754918</td>\n",
       "      <td>-2.609256</td>\n",
       "      <td>-0.366432</td>\n",
       "      <td>1.877349</td>\n",
       "      <td>-0.958922</td>\n",
       "      <td>-0.973343</td>\n",
       "      <td>1.177998</td>\n",
       "      <td>0.274614</td>\n",
       "      <td>0.880623</td>\n",
       "      <td>-0.284529</td>\n",
       "      <td>-0.184988</td>\n",
       "      <td>0.075538</td>\n",
       "      <td>0.054361</td>\n",
       "      <td>-0.073493</td>\n",
       "      <td>-0.181383</td>\n",
       "      <td>-0.294114</td>\n",
       "      <td>0.074951</td>\n",
       "      <td>0.169789</td>\n",
       "      <td>9.99</td>\n",
       "      <td>0</td>\n",
       "    </tr>\n",
       "    <tr>\n",
       "      <th>236592</th>\n",
       "      <td>148874.0</td>\n",
       "      <td>-2.758961</td>\n",
       "      <td>-0.767184</td>\n",
       "      <td>0.504186</td>\n",
       "      <td>0.140690</td>\n",
       "      <td>0.488052</td>\n",
       "      <td>-0.533802</td>\n",
       "      <td>-0.793928</td>\n",
       "      <td>0.814678</td>\n",
       "      <td>0.083731</td>\n",
       "      <td>-0.820713</td>\n",
       "      <td>-1.212443</td>\n",
       "      <td>0.818036</td>\n",
       "      <td>1.470456</td>\n",
       "      <td>-0.081192</td>\n",
       "      <td>0.284545</td>\n",
       "      <td>0.374757</td>\n",
       "      <td>-0.177457</td>\n",
       "      <td>0.117023</td>\n",
       "      <td>0.310159</td>\n",
       "      <td>-0.958411</td>\n",
       "      <td>0.076759</td>\n",
       "      <td>1.106531</td>\n",
       "      <td>1.375300</td>\n",
       "      <td>0.765216</td>\n",
       "      <td>0.022566</td>\n",
       "      <td>0.648585</td>\n",
       "      <td>0.074957</td>\n",
       "      <td>-0.246155</td>\n",
       "      <td>8.70</td>\n",
       "      <td>0</td>\n",
       "    </tr>\n",
       "    <tr>\n",
       "      <th>252876</th>\n",
       "      <td>156006.0</td>\n",
       "      <td>-0.481032</td>\n",
       "      <td>1.638926</td>\n",
       "      <td>-1.468706</td>\n",
       "      <td>0.800790</td>\n",
       "      <td>1.484205</td>\n",
       "      <td>0.148887</td>\n",
       "      <td>1.015453</td>\n",
       "      <td>0.467407</td>\n",
       "      <td>-0.975340</td>\n",
       "      <td>-0.670564</td>\n",
       "      <td>-0.049316</td>\n",
       "      <td>-0.356397</td>\n",
       "      <td>-1.090938</td>\n",
       "      <td>-0.389343</td>\n",
       "      <td>-0.696103</td>\n",
       "      <td>-0.080796</td>\n",
       "      <td>0.975636</td>\n",
       "      <td>1.270690</td>\n",
       "      <td>1.159866</td>\n",
       "      <td>0.059632</td>\n",
       "      <td>0.066888</td>\n",
       "      <td>0.250097</td>\n",
       "      <td>-0.271492</td>\n",
       "      <td>-0.349569</td>\n",
       "      <td>0.138703</td>\n",
       "      <td>-0.366482</td>\n",
       "      <td>0.307639</td>\n",
       "      <td>0.202006</td>\n",
       "      <td>37.15</td>\n",
       "      <td>0</td>\n",
       "    </tr>\n",
       "    <tr>\n",
       "      <th>82120</th>\n",
       "      <td>59249.0</td>\n",
       "      <td>-3.205987</td>\n",
       "      <td>-3.396308</td>\n",
       "      <td>0.950140</td>\n",
       "      <td>1.128256</td>\n",
       "      <td>-0.170521</td>\n",
       "      <td>0.407233</td>\n",
       "      <td>-0.613520</td>\n",
       "      <td>0.929848</td>\n",
       "      <td>-1.554851</td>\n",
       "      <td>0.010825</td>\n",
       "      <td>0.886455</td>\n",
       "      <td>0.628866</td>\n",
       "      <td>0.121252</td>\n",
       "      <td>0.509489</td>\n",
       "      <td>0.381393</td>\n",
       "      <td>-1.994452</td>\n",
       "      <td>0.710597</td>\n",
       "      <td>1.581465</td>\n",
       "      <td>-0.858831</td>\n",
       "      <td>1.070711</td>\n",
       "      <td>0.483224</td>\n",
       "      <td>0.299017</td>\n",
       "      <td>0.875538</td>\n",
       "      <td>-0.324472</td>\n",
       "      <td>-0.217063</td>\n",
       "      <td>-0.182598</td>\n",
       "      <td>0.013936</td>\n",
       "      <td>-0.298192</td>\n",
       "      <td>420.00</td>\n",
       "      <td>0</td>\n",
       "    </tr>\n",
       "    <tr>\n",
       "      <th>276499</th>\n",
       "      <td>167134.0</td>\n",
       "      <td>1.973844</td>\n",
       "      <td>0.109998</td>\n",
       "      <td>-1.758015</td>\n",
       "      <td>1.197728</td>\n",
       "      <td>0.665683</td>\n",
       "      <td>-0.587161</td>\n",
       "      <td>0.566058</td>\n",
       "      <td>-0.257125</td>\n",
       "      <td>-0.045586</td>\n",
       "      <td>0.415447</td>\n",
       "      <td>0.384030</td>\n",
       "      <td>0.926363</td>\n",
       "      <td>-0.191138</td>\n",
       "      <td>0.694628</td>\n",
       "      <td>-1.196477</td>\n",
       "      <td>-0.427827</td>\n",
       "      <td>-0.526547</td>\n",
       "      <td>-0.041016</td>\n",
       "      <td>0.209043</td>\n",
       "      <td>-0.230244</td>\n",
       "      <td>0.088939</td>\n",
       "      <td>0.409150</td>\n",
       "      <td>-0.082868</td>\n",
       "      <td>-0.457190</td>\n",
       "      <td>0.476395</td>\n",
       "      <td>-0.484684</td>\n",
       "      <td>-0.022373</td>\n",
       "      <td>-0.072455</td>\n",
       "      <td>29.34</td>\n",
       "      <td>0</td>\n",
       "    </tr>\n",
       "    <tr>\n",
       "      <th>278877</th>\n",
       "      <td>168498.0</td>\n",
       "      <td>2.189201</td>\n",
       "      <td>-1.662280</td>\n",
       "      <td>0.136241</td>\n",
       "      <td>-1.388765</td>\n",
       "      <td>-2.078101</td>\n",
       "      <td>-0.398255</td>\n",
       "      <td>-1.779707</td>\n",
       "      <td>-0.004094</td>\n",
       "      <td>-0.591322</td>\n",
       "      <td>1.451549</td>\n",
       "      <td>-1.022060</td>\n",
       "      <td>-0.535565</td>\n",
       "      <td>0.809079</td>\n",
       "      <td>-0.962980</td>\n",
       "      <td>0.101093</td>\n",
       "      <td>-0.172412</td>\n",
       "      <td>0.370787</td>\n",
       "      <td>0.155942</td>\n",
       "      <td>-0.410934</td>\n",
       "      <td>-0.384428</td>\n",
       "      <td>-0.126054</td>\n",
       "      <td>0.185516</td>\n",
       "      <td>0.337889</td>\n",
       "      <td>-0.036492</td>\n",
       "      <td>-0.562077</td>\n",
       "      <td>-0.244928</td>\n",
       "      <td>0.068340</td>\n",
       "      <td>-0.026795</td>\n",
       "      <td>31.00</td>\n",
       "      <td>0</td>\n",
       "    </tr>\n",
       "    <tr>\n",
       "      <th>56983</th>\n",
       "      <td>47702.0</td>\n",
       "      <td>1.506371</td>\n",
       "      <td>-0.183304</td>\n",
       "      <td>-0.508771</td>\n",
       "      <td>-0.868223</td>\n",
       "      <td>-0.071238</td>\n",
       "      <td>-0.885457</td>\n",
       "      <td>0.077773</td>\n",
       "      <td>-0.459488</td>\n",
       "      <td>-1.364481</td>\n",
       "      <td>0.634955</td>\n",
       "      <td>-0.674671</td>\n",
       "      <td>0.053310</td>\n",
       "      <td>2.044286</td>\n",
       "      <td>-0.288924</td>\n",
       "      <td>0.288562</td>\n",
       "      <td>0.887435</td>\n",
       "      <td>0.001819</td>\n",
       "      <td>-1.546252</td>\n",
       "      <td>0.938542</td>\n",
       "      <td>0.208454</td>\n",
       "      <td>0.156575</td>\n",
       "      <td>0.475611</td>\n",
       "      <td>-0.290701</td>\n",
       "      <td>-0.363648</td>\n",
       "      <td>0.964351</td>\n",
       "      <td>-0.038880</td>\n",
       "      <td>-0.018530</td>\n",
       "      <td>-0.002550</td>\n",
       "      <td>15.00</td>\n",
       "      <td>0</td>\n",
       "    </tr>\n",
       "    <tr>\n",
       "      <th>165006</th>\n",
       "      <td>117138.0</td>\n",
       "      <td>-2.507856</td>\n",
       "      <td>2.109205</td>\n",
       "      <td>-1.230294</td>\n",
       "      <td>-2.194448</td>\n",
       "      <td>-0.915442</td>\n",
       "      <td>-1.565537</td>\n",
       "      <td>-0.403738</td>\n",
       "      <td>1.515354</td>\n",
       "      <td>0.478480</td>\n",
       "      <td>-1.205680</td>\n",
       "      <td>-1.749366</td>\n",
       "      <td>1.157297</td>\n",
       "      <td>0.461358</td>\n",
       "      <td>0.753522</td>\n",
       "      <td>-1.683508</td>\n",
       "      <td>0.202256</td>\n",
       "      <td>0.135088</td>\n",
       "      <td>-0.586298</td>\n",
       "      <td>-0.912547</td>\n",
       "      <td>-0.197824</td>\n",
       "      <td>0.173281</td>\n",
       "      <td>0.517096</td>\n",
       "      <td>-0.100713</td>\n",
       "      <td>0.142270</td>\n",
       "      <td>0.161843</td>\n",
       "      <td>0.774485</td>\n",
       "      <td>0.140636</td>\n",
       "      <td>0.109276</td>\n",
       "      <td>1.00</td>\n",
       "      <td>0</td>\n",
       "    </tr>\n",
       "  </tbody>\n",
       "</table>\n",
       "</div>"
      ],
      "text/plain": [
       "            Time        V1        V2        V3        V4        V5        V6  \\\n",
       "126995   78173.0 -0.458058  0.624041  1.106114  1.069328  0.679128  0.929725   \n",
       "208981  137355.0 -0.159963  0.722736  0.232706 -0.569213  0.416794 -1.141140   \n",
       "7267      9663.0 -1.178157  0.715470  1.423573  1.467534  0.377157  0.222116   \n",
       "236592  148874.0 -2.758961 -0.767184  0.504186  0.140690  0.488052 -0.533802   \n",
       "252876  156006.0 -0.481032  1.638926 -1.468706  0.800790  1.484205  0.148887   \n",
       "82120    59249.0 -3.205987 -3.396308  0.950140  1.128256 -0.170521  0.407233   \n",
       "276499  167134.0  1.973844  0.109998 -1.758015  1.197728  0.665683 -0.587161   \n",
       "278877  168498.0  2.189201 -1.662280  0.136241 -1.388765 -2.078101 -0.398255   \n",
       "56983    47702.0  1.506371 -0.183304 -0.508771 -0.868223 -0.071238 -0.885457   \n",
       "165006  117138.0 -2.507856  2.109205 -1.230294 -2.194448 -0.915442 -1.565537   \n",
       "\n",
       "              V7        V8        V9       V10       V11       V12       V13  \\\n",
       "126995  0.636754  0.233290 -0.688596 -0.183140  0.348602  0.742745  0.302001   \n",
       "208981  0.813746 -0.140064  0.235480 -0.253121 -1.091458 -0.532387 -1.302340   \n",
       "7267    0.149876  0.142945  1.261478  0.127816  1.754918 -2.609256 -0.366432   \n",
       "236592 -0.793928  0.814678  0.083731 -0.820713 -1.212443  0.818036  1.470456   \n",
       "252876  1.015453  0.467407 -0.975340 -0.670564 -0.049316 -0.356397 -1.090938   \n",
       "82120  -0.613520  0.929848 -1.554851  0.010825  0.886455  0.628866  0.121252   \n",
       "276499  0.566058 -0.257125 -0.045586  0.415447  0.384030  0.926363 -0.191138   \n",
       "278877 -1.779707 -0.004094 -0.591322  1.451549 -1.022060 -0.535565  0.809079   \n",
       "56983   0.077773 -0.459488 -1.364481  0.634955 -0.674671  0.053310  2.044286   \n",
       "165006 -0.403738  1.515354  0.478480 -1.205680 -1.749366  1.157297  0.461358   \n",
       "\n",
       "             V14       V15       V16       V17       V18       V19       V20  \\\n",
       "126995  0.132265 -0.460757 -0.772323  0.043301  0.085883  1.356934  0.209605   \n",
       "208981  0.345735 -0.197299 -0.102125 -0.282696 -0.687009 -0.138450 -0.162207   \n",
       "7267    1.877349 -0.958922 -0.973343  1.177998  0.274614  0.880623 -0.284529   \n",
       "236592 -0.081192  0.284545  0.374757 -0.177457  0.117023  0.310159 -0.958411   \n",
       "252876 -0.389343 -0.696103 -0.080796  0.975636  1.270690  1.159866  0.059632   \n",
       "82120   0.509489  0.381393 -1.994452  0.710597  1.581465 -0.858831  1.070711   \n",
       "276499  0.694628 -1.196477 -0.427827 -0.526547 -0.041016  0.209043 -0.230244   \n",
       "278877 -0.962980  0.101093 -0.172412  0.370787  0.155942 -0.410934 -0.384428   \n",
       "56983  -0.288924  0.288562  0.887435  0.001819 -1.546252  0.938542  0.208454   \n",
       "165006  0.753522 -1.683508  0.202256  0.135088 -0.586298 -0.912547 -0.197824   \n",
       "\n",
       "             V21       V22       V23       V24       V25       V26       V27  \\\n",
       "126995  0.055413  0.263738 -0.129016 -0.815753 -0.027901 -0.208133  0.160112   \n",
       "208981 -0.257635 -0.662374  0.075575 -0.053195 -0.565085  0.135912  0.120879   \n",
       "7267   -0.184988  0.075538  0.054361 -0.073493 -0.181383 -0.294114  0.074951   \n",
       "236592  0.076759  1.106531  1.375300  0.765216  0.022566  0.648585  0.074957   \n",
       "252876  0.066888  0.250097 -0.271492 -0.349569  0.138703 -0.366482  0.307639   \n",
       "82120   0.483224  0.299017  0.875538 -0.324472 -0.217063 -0.182598  0.013936   \n",
       "276499  0.088939  0.409150 -0.082868 -0.457190  0.476395 -0.484684 -0.022373   \n",
       "278877 -0.126054  0.185516  0.337889 -0.036492 -0.562077 -0.244928  0.068340   \n",
       "56983   0.156575  0.475611 -0.290701 -0.363648  0.964351 -0.038880 -0.018530   \n",
       "165006  0.173281  0.517096 -0.100713  0.142270  0.161843  0.774485  0.140636   \n",
       "\n",
       "             V28  Amount  Class  \n",
       "126995  0.131019   65.00      0  \n",
       "208981  0.086781    1.78      0  \n",
       "7267    0.169789    9.99      0  \n",
       "236592 -0.246155    8.70      0  \n",
       "252876  0.202006   37.15      0  \n",
       "82120  -0.298192  420.00      0  \n",
       "276499 -0.072455   29.34      0  \n",
       "278877 -0.026795   31.00      0  \n",
       "56983  -0.002550   15.00      0  \n",
       "165006  0.109276    1.00      0  "
      ]
     },
     "execution_count": 6,
     "metadata": {},
     "output_type": "execute_result"
    }
   ],
   "source": [
    "transactions.sample(10)"
   ]
  },
  {
   "cell_type": "code",
   "execution_count": 7,
   "metadata": {},
   "outputs": [
    {
     "data": {
      "text/plain": [
       "0    284315\n",
       "1       492\n",
       "Name: Class, dtype: int64"
      ]
     },
     "execution_count": 7,
     "metadata": {},
     "output_type": "execute_result"
    }
   ],
   "source": [
    "transactions['Class'].value_counts()"
   ]
  },
  {
   "cell_type": "code",
   "execution_count": 8,
   "metadata": {},
   "outputs": [
    {
     "data": {
      "text/plain": [
       "0    0.998273\n",
       "1    0.001727\n",
       "Name: Class, dtype: float64"
      ]
     },
     "execution_count": 8,
     "metadata": {},
     "output_type": "execute_result"
    }
   ],
   "source": [
    "transactions['Class'].value_counts(normalize=True)"
   ]
  },
  {
   "cell_type": "markdown",
   "metadata": {},
   "source": [
    "### 1.1 Exploratory analysis of data"
   ]
  },
  {
   "cell_type": "code",
   "execution_count": 9,
   "metadata": {},
   "outputs": [
    {
     "name": "stdout",
     "output_type": "stream",
     "text": [
      "Index(['Time', 'V1', 'V2', 'V3', 'V4', 'V5', 'V6', 'V7', 'V8', 'V9', 'V10',\n",
      "       'V11', 'V12', 'V13', 'V14', 'V15', 'V16', 'V17', 'V18', 'V19', 'V20',\n",
      "       'V21', 'V22', 'V23', 'V24', 'V25', 'V26', 'V27', 'V28', 'Amount',\n",
      "       'Class'],\n",
      "      dtype='object')\n"
     ]
    }
   ],
   "source": [
    "# explore the dataset\n",
    "print(transactions.columns)"
   ]
  },
  {
   "cell_type": "code",
   "execution_count": 10,
   "metadata": {},
   "outputs": [
    {
     "name": "stdout",
     "output_type": "stream",
     "text": [
      "                Time            V1            V2            V3            V4  \\\n",
      "count  284807.000000  2.848070e+05  2.848070e+05  2.848070e+05  2.848070e+05   \n",
      "mean    94813.859575  3.919560e-15  5.688174e-16 -8.769071e-15  2.782312e-15   \n",
      "std     47488.145955  1.958696e+00  1.651309e+00  1.516255e+00  1.415869e+00   \n",
      "min         0.000000 -5.640751e+01 -7.271573e+01 -4.832559e+01 -5.683171e+00   \n",
      "25%     54201.500000 -9.203734e-01 -5.985499e-01 -8.903648e-01 -8.486401e-01   \n",
      "50%     84692.000000  1.810880e-02  6.548556e-02  1.798463e-01 -1.984653e-02   \n",
      "75%    139320.500000  1.315642e+00  8.037239e-01  1.027196e+00  7.433413e-01   \n",
      "max    172792.000000  2.454930e+00  2.205773e+01  9.382558e+00  1.687534e+01   \n",
      "\n",
      "                 V5            V6            V7            V8            V9  \\\n",
      "count  2.848070e+05  2.848070e+05  2.848070e+05  2.848070e+05  2.848070e+05   \n",
      "mean  -1.552563e-15  2.010663e-15 -1.694249e-15 -1.927028e-16 -3.137024e-15   \n",
      "std    1.380247e+00  1.332271e+00  1.237094e+00  1.194353e+00  1.098632e+00   \n",
      "min   -1.137433e+02 -2.616051e+01 -4.355724e+01 -7.321672e+01 -1.343407e+01   \n",
      "25%   -6.915971e-01 -7.682956e-01 -5.540759e-01 -2.086297e-01 -6.430976e-01   \n",
      "50%   -5.433583e-02 -2.741871e-01  4.010308e-02  2.235804e-02 -5.142873e-02   \n",
      "75%    6.119264e-01  3.985649e-01  5.704361e-01  3.273459e-01  5.971390e-01   \n",
      "max    3.480167e+01  7.330163e+01  1.205895e+02  2.000721e+01  1.559499e+01   \n",
      "\n",
      "                V10           V11           V12           V13           V14  \\\n",
      "count  2.848070e+05  2.848070e+05  2.848070e+05  2.848070e+05  2.848070e+05   \n",
      "mean   1.768627e-15  9.170318e-16 -1.810658e-15  1.693438e-15  1.479045e-15   \n",
      "std    1.088850e+00  1.020713e+00  9.992014e-01  9.952742e-01  9.585956e-01   \n",
      "min   -2.458826e+01 -4.797473e+00 -1.868371e+01 -5.791881e+00 -1.921433e+01   \n",
      "25%   -5.354257e-01 -7.624942e-01 -4.055715e-01 -6.485393e-01 -4.255740e-01   \n",
      "50%   -9.291738e-02 -3.275735e-02  1.400326e-01 -1.356806e-02  5.060132e-02   \n",
      "75%    4.539234e-01  7.395934e-01  6.182380e-01  6.625050e-01  4.931498e-01   \n",
      "max    2.374514e+01  1.201891e+01  7.848392e+00  7.126883e+00  1.052677e+01   \n",
      "\n",
      "                V15           V16           V17           V18           V19  \\\n",
      "count  2.848070e+05  2.848070e+05  2.848070e+05  2.848070e+05  2.848070e+05   \n",
      "mean   3.482336e-15  1.392007e-15 -7.528491e-16  4.328772e-16  9.049732e-16   \n",
      "std    9.153160e-01  8.762529e-01  8.493371e-01  8.381762e-01  8.140405e-01   \n",
      "min   -4.498945e+00 -1.412985e+01 -2.516280e+01 -9.498746e+00 -7.213527e+00   \n",
      "25%   -5.828843e-01 -4.680368e-01 -4.837483e-01 -4.988498e-01 -4.562989e-01   \n",
      "50%    4.807155e-02  6.641332e-02 -6.567575e-02 -3.636312e-03  3.734823e-03   \n",
      "75%    6.488208e-01  5.232963e-01  3.996750e-01  5.008067e-01  4.589494e-01   \n",
      "max    8.877742e+00  1.731511e+01  9.253526e+00  5.041069e+00  5.591971e+00   \n",
      "\n",
      "                V20           V21           V22           V23           V24  \\\n",
      "count  2.848070e+05  2.848070e+05  2.848070e+05  2.848070e+05  2.848070e+05   \n",
      "mean   5.085503e-16  1.537294e-16  7.959909e-16  5.367590e-16  4.458112e-15   \n",
      "std    7.709250e-01  7.345240e-01  7.257016e-01  6.244603e-01  6.056471e-01   \n",
      "min   -5.449772e+01 -3.483038e+01 -1.093314e+01 -4.480774e+01 -2.836627e+00   \n",
      "25%   -2.117214e-01 -2.283949e-01 -5.423504e-01 -1.618463e-01 -3.545861e-01   \n",
      "50%   -6.248109e-02 -2.945017e-02  6.781943e-03 -1.119293e-02  4.097606e-02   \n",
      "75%    1.330408e-01  1.863772e-01  5.285536e-01  1.476421e-01  4.395266e-01   \n",
      "max    3.942090e+01  2.720284e+01  1.050309e+01  2.252841e+01  4.584549e+00   \n",
      "\n",
      "                V25           V26           V27           V28         Amount  \\\n",
      "count  2.848070e+05  2.848070e+05  2.848070e+05  2.848070e+05  284807.000000   \n",
      "mean   1.453003e-15  1.699104e-15 -3.660161e-16 -1.206049e-16      88.349619   \n",
      "std    5.212781e-01  4.822270e-01  4.036325e-01  3.300833e-01     250.120109   \n",
      "min   -1.029540e+01 -2.604551e+00 -2.256568e+01 -1.543008e+01       0.000000   \n",
      "25%   -3.171451e-01 -3.269839e-01 -7.083953e-02 -5.295979e-02       5.600000   \n",
      "50%    1.659350e-02 -5.213911e-02  1.342146e-03  1.124383e-02      22.000000   \n",
      "75%    3.507156e-01  2.409522e-01  9.104512e-02  7.827995e-02      77.165000   \n",
      "max    7.519589e+00  3.517346e+00  3.161220e+01  3.384781e+01   25691.160000   \n",
      "\n",
      "               Class  \n",
      "count  284807.000000  \n",
      "mean        0.001727  \n",
      "std         0.041527  \n",
      "min         0.000000  \n",
      "25%         0.000000  \n",
      "50%         0.000000  \n",
      "75%         0.000000  \n",
      "max         1.000000  \n"
     ]
    }
   ],
   "source": [
    "print(transactions.describe())"
   ]
  },
  {
   "cell_type": "code",
   "execution_count": 11,
   "metadata": {},
   "outputs": [
    {
     "data": {
      "image/png": "[encoded data removed]",
      "text/plain": [
       "<Figure size 1440x1440 with 36 Axes>"
      ]
     },
     "metadata": {},
     "output_type": "display_data"
    }
   ],
   "source": [
    "# Plot histogram of each parameter\n",
    "transactions.hist(figsize = (20, 20))\n",
    "plt.show()"
   ]
  },
  {
   "cell_type": "code",
   "execution_count": 12,
   "metadata": {},
   "outputs": [
    {
     "name": "stdout",
     "output_type": "stream",
     "text": [
      "0.0017304750013189597\n",
      "Fraud Cases: 492\n",
      "Valid Cases: 284315\n"
     ]
    }
   ],
   "source": [
    "# Determine number of fraud cases in dataset\n",
    "Fraud = transactions[transactions['Class'] == 1]\n",
    "Valid = transactions[transactions['Class'] == 0]\n",
    "\n",
    "outlier_fraction = len(Fraud) / float(len(Valid))\n",
    "print(outlier_fraction)\n",
    "\n",
    "print('Fraud Cases: {}'.format(len(Fraud)))\n",
    "print('Valid Cases: {}'.format(len(Valid)))"
   ]
  },
  {
   "cell_type": "code",
   "execution_count": 13,
   "metadata": {},
   "outputs": [
    {
     "data": {
      "image/png": "[encoded data removed]",
      "text/plain": [
       "<Figure size 864x648 with 2 Axes>"
      ]
     },
     "metadata": {},
     "output_type": "display_data"
    }
   ],
   "source": [
    "# Correlation matrix\n",
    "corrmat = transactions.corr()\n",
    "fig = plt.figure(figsize = (12, 9))\n",
    "\n",
    "sns.heatmap(corrmat, vmax = .8, square=True)\n",
    "plt.show()"
   ]
  },
  {
   "cell_type": "markdown",
   "metadata": {},
   "source": [
    "### 2. Split off a test data set"
   ]
  },
  {
   "cell_type": "code",
   "execution_count": 14,
   "metadata": {},
   "outputs": [],
   "source": [
    "X = transactions.drop(labels='Class', axis=1) # Features\n",
    "y = transactions.loc[:,'Class']               # Response\n",
    "del transactions                              # Delete the original data"
   ]
  },
  {
   "cell_type": "code",
   "execution_count": 15,
   "metadata": {},
   "outputs": [],
   "source": [
    "from sklearn.model_selection import train_test_split"
   ]
  },
  {
   "cell_type": "code",
   "execution_count": 16,
   "metadata": {},
   "outputs": [],
   "source": [
    "X_train, X_test, y_train, y_test = train_test_split(X, y, test_size=0.2, random_state=1, stratify=y)\n",
    "del X, y"
   ]
  },
  {
   "cell_type": "code",
   "execution_count": 17,
   "metadata": {},
   "outputs": [
    {
     "data": {
      "text/plain": [
       "(1642, 30)"
      ]
     },
     "execution_count": 17,
     "metadata": {},
     "output_type": "execute_result"
    }
   ],
   "source": [
    "X_train.shape"
   ]
  },
  {
   "cell_type": "code",
   "execution_count": 18,
   "metadata": {},
   "outputs": [
    {
     "data": {
      "text/plain": [
       "(280607, 30)"
      ]
     },
     "execution_count": 18,
     "metadata": {},
     "output_type": "execute_result"
    }
   ],
   "source": [
    "\n",
    "X_test.shape"
   ]
  },
  {
   "cell_type": "code",
   "execution_count": 19,
   "metadata": {},
   "outputs": [],
   "source": [
    "# Prevent view warnings\n",
    "X_train.is_copy = False\n",
    "X_test.is_copy = False"
   ]
  },
  {
   "cell_type": "markdown",
   "metadata": {},
   "source": [
    "### 2.1 Exploratory data analysis"
   ]
  },
  {
   "cell_type": "markdown",
   "metadata": {},
   "source": [
    "Conducting exploratory data analysis for the trainig set"
   ]
  },
  {
   "cell_type": "markdown",
   "metadata": {},
   "source": [
    "### Variable: Time"
   ]
  },
  {
   "cell_type": "code",
   "execution_count": 20,
   "metadata": {},
   "outputs": [
    {
     "data": {
      "text/plain": [
       "count      1642.000000\n",
       "mean      92433.306943\n",
       "std       48242.962200\n",
       "min         130.000000\n",
       "25%       52914.500000\n",
       "50%       84956.000000\n",
       "75%      137195.500000\n",
       "max      172751.000000\n",
       "Name: Time, dtype: float64"
      ]
     },
     "execution_count": 20,
     "metadata": {},
     "output_type": "execute_result"
    }
   ],
   "source": [
    "X_train['Time'].describe()"
   ]
  },
  {
   "cell_type": "code",
   "execution_count": 21,
   "metadata": {},
   "outputs": [],
   "source": [
    "X_train.loc[:,'Time'] = X_train.Time / 3600\n",
    "X_test.loc[:,'Time'] = X_test.Time / 3600"
   ]
  },
  {
   "cell_type": "markdown",
   "metadata": {},
   "source": [
    "The time of last transaction in days:"
   ]
  },
  {
   "cell_type": "code",
   "execution_count": 22,
   "metadata": {},
   "outputs": [
    {
     "data": {
      "text/plain": [
       "1.9994328703703703"
      ]
     },
     "execution_count": 22,
     "metadata": {},
     "output_type": "execute_result"
    }
   ],
   "source": [
    "X_train['Time'].max() / 24"
   ]
  },
  {
   "cell_type": "markdown",
   "metadata": {},
   "source": [
    "Conclusion: Transactions occur over an almost two day period.<br>\n",
    "Plotting Histograms of transactions, one bin per hour"
   ]
  },
  {
   "cell_type": "code",
   "execution_count": 23,
   "metadata": {},
   "outputs": [
    {
     "name": "stderr",
     "output_type": "stream",
     "text": [
      "C:\\Users\\anush\\anaconda3\\lib\\site-packages\\seaborn\\distributions.py:2551: FutureWarning: `distplot` is a deprecated function and will be removed in a future version. Please adapt your code to use either `displot` (a figure-level function with similar flexibility) or `histplot` (an axes-level function for histograms).\n",
      "  warnings.warn(msg, FutureWarning)\n"
     ]
    },
    {
     "data": {
      "text/plain": [
       "Text(0.5, 1.0, 'Transaction Times')"
      ]
     },
     "execution_count": 23,
     "metadata": {},
     "output_type": "execute_result"
    },
    {
     "data": {
      "image/png": "[encoded data removed]",
      "text/plain": [
       "<Figure size 960x320 with 1 Axes>"
      ]
     },
     "metadata": {},
     "output_type": "display_data"
    }
   ],
   "source": [
    "plt.figure(figsize=(12,4), dpi=80)\n",
    "sns.distplot(X_train['Time'], bins=48, kde=False)\n",
    "plt.xlim([0,48])\n",
    "plt.xticks(np.arange(0,54,6))\n",
    "plt.xlabel('Time After First Transaction (hr)')\n",
    "plt.ylabel('Count')\n",
    "plt.title('Transaction Times')"
   ]
  },
  {
   "cell_type": "markdown",
   "metadata": {},
   "source": [
    "Histogram shows two observable lulls, around the dawn hours of each day"
   ]
  },
  {
   "cell_type": "markdown",
   "metadata": {},
   "source": [
    "### Variable: Amount"
   ]
  },
  {
   "cell_type": "code",
   "execution_count": 24,
   "metadata": {},
   "outputs": [
    {
     "data": {
      "text/plain": [
       "count    1642.000000\n",
       "mean      101.257400\n",
       "std       241.643296\n",
       "min         0.000000\n",
       "25%         3.790000\n",
       "50%        22.010000\n",
       "75%        88.900000\n",
       "max      2793.600000\n",
       "Name: Amount, dtype: float64"
      ]
     },
     "execution_count": 24,
     "metadata": {},
     "output_type": "execute_result"
    }
   ],
   "source": [
    "X_train['Amount'].describe()"
   ]
  },
  {
   "cell_type": "markdown",
   "metadata": {},
   "source": [
    "Comparing the different quantiles, we see that the distribution is more as we move towards the right.<br>\n",
    "Histogram for the same:"
   ]
  },
  {
   "cell_type": "code",
   "execution_count": 25,
   "metadata": {},
   "outputs": [
    {
     "data": {
      "text/plain": [
       "Text(0.5, 1.0, 'Transaction Amounts')"
      ]
     },
     "execution_count": 25,
     "metadata": {},
     "output_type": "execute_result"
    },
    {
     "data": {
      "image/png": "[encoded data removed]",
      "text/plain": [
       "<Figure size 960x320 with 1 Axes>"
      ]
     },
     "metadata": {},
     "output_type": "display_data"
    }
   ],
   "source": [
    "plt.figure(figsize=(12,4), dpi=80)\n",
    "sns.distplot(X_train['Amount'], bins=300, kde=False)\n",
    "plt.ylabel('Count')\n",
    "plt.title('Transaction Amounts')"
   ]
  },
  {
   "cell_type": "markdown",
   "metadata": {},
   "source": [
    "In the histogram, some data values are seen which differ greatly from the values. To visalise these better, a boxplot is plotted."
   ]
  },
  {
   "cell_type": "code",
   "execution_count": 26,
   "metadata": {},
   "outputs": [
    {
     "name": "stderr",
     "output_type": "stream",
     "text": [
      "C:\\Users\\anush\\anaconda3\\lib\\site-packages\\seaborn\\_decorators.py:36: FutureWarning: Pass the following variable as a keyword arg: x. From version 0.12, the only valid positional argument will be `data`, and passing other arguments without an explicit keyword will result in an error or misinterpretation.\n",
      "  warnings.warn(\n"
     ]
    },
    {
     "data": {
      "text/plain": [
       "Text(0.5, 1.0, 'Transaction Amounts')"
      ]
     },
     "execution_count": 26,
     "metadata": {},
     "output_type": "execute_result"
    },
    {
     "data": {
      "image/png": "[encoded data removed]",
      "text/plain": [
       "<Figure size 960x320 with 1 Axes>"
      ]
     },
     "metadata": {},
     "output_type": "display_data"
    }
   ],
   "source": [
    "plt.figure(figsize=(12,4), dpi=80)\n",
    "sns.boxplot(X_train['Amount'])\n",
    "plt.title('Transaction Amounts')"
   ]
  },
  {
   "cell_type": "markdown",
   "metadata": {},
   "source": [
    "Box plot shows a large number of outliers towards the right of the data, indicating right skewness of the data. The skewness can be calculated as:"
   ]
  },
  {
   "cell_type": "code",
   "execution_count": 27,
   "metadata": {},
   "outputs": [
    {
     "data": {
      "text/plain": [
       "5.364167630279151"
      ]
     },
     "execution_count": 27,
     "metadata": {},
     "output_type": "execute_result"
    }
   ],
   "source": [
    "X_train['Amount'].skew()"
   ]
  },
  {
   "cell_type": "markdown",
   "metadata": {},
   "source": [
    "Transforming variables to reduce skewness:"
   ]
  },
  {
   "cell_type": "code",
   "execution_count": 28,
   "metadata": {},
   "outputs": [],
   "source": [
    "X_train.loc[:,'Amount'] = X_train['Amount'] + 1e-9 # Shift all amounts by 1e-9"
   ]
  },
  {
   "cell_type": "code",
   "execution_count": 29,
   "metadata": {},
   "outputs": [
    {
     "data": {
      "text/plain": [
       "0.14949765833649528"
      ]
     },
     "execution_count": 29,
     "metadata": {},
     "output_type": "execute_result"
    }
   ],
   "source": [
    "X_train.loc[:,'Amount'], maxlog, (min_ci, max_ci) = sp.stats.boxcox(X_train['Amount'], alpha=0.01)\n",
    "maxlog"
   ]
  },
  {
   "cell_type": "code",
   "execution_count": 30,
   "metadata": {},
   "outputs": [
    {
     "data": {
      "text/plain": [
       "(0.13516924575449346, 0.16475064326517136)"
      ]
     },
     "execution_count": 30,
     "metadata": {},
     "output_type": "execute_result"
    }
   ],
   "source": [
    "(min_ci, max_ci)"
   ]
  },
  {
   "cell_type": "markdown",
   "metadata": {},
   "source": [
    "Plotting the modified values:"
   ]
  },
  {
   "cell_type": "code",
   "execution_count": 31,
   "metadata": {},
   "outputs": [
    {
     "name": "stderr",
     "output_type": "stream",
     "text": [
      "C:\\Users\\anush\\anaconda3\\lib\\site-packages\\seaborn\\distributions.py:2551: FutureWarning: `distplot` is a deprecated function and will be removed in a future version. Please adapt your code to use either `displot` (a figure-level function with similar flexibility) or `histplot` (an axes-level function for histograms).\n",
      "  warnings.warn(msg, FutureWarning)\n"
     ]
    },
    {
     "data": {
      "text/plain": [
       "Text(0.5, 1.0, 'Transaction Amounts (Box-Cox Transformed)')"
      ]
     },
     "execution_count": 31,
     "metadata": {},
     "output_type": "execute_result"
    },
    {
     "data": {
      "image/png": "[encoded data removed]",
      "text/plain": [
       "<Figure size 960x320 with 1 Axes>"
      ]
     },
     "metadata": {},
     "output_type": "display_data"
    }
   ],
   "source": [
    "plt.figure(figsize=(12,4), dpi=80)\n",
    "sns.distplot(X_train['Amount'], kde=False)\n",
    "plt.xlabel('Transformed Amount')\n",
    "plt.ylabel('Count')\n",
    "plt.title('Transaction Amounts (Box-Cox Transformed)')"
   ]
  },
  {
   "cell_type": "code",
   "execution_count": 32,
   "metadata": {},
   "outputs": [
    {
     "data": {
      "text/plain": [
       "count    1642.000000\n",
       "mean        4.043222\n",
       "std         3.537242\n",
       "min        -6.387152\n",
       "25%         1.474327\n",
       "50%         3.929945\n",
       "75%         6.394366\n",
       "max        15.216731\n",
       "Name: Amount, dtype: float64"
      ]
     },
     "execution_count": 32,
     "metadata": {},
     "output_type": "execute_result"
    }
   ],
   "source": [
    "X_train['Amount'].describe()"
   ]
  },
  {
   "cell_type": "code",
   "execution_count": 33,
   "metadata": {},
   "outputs": [
    {
     "data": {
      "text/plain": [
       "0.03461653644260046"
      ]
     },
     "execution_count": 33,
     "metadata": {},
     "output_type": "execute_result"
    }
   ],
   "source": [
    "X_train['Amount'].skew()"
   ]
  },
  {
   "cell_type": "markdown",
   "metadata": {},
   "source": [
    "Here, the skewness observed is close to zero, which is an ideal case."
   ]
  },
  {
   "cell_type": "code",
   "execution_count": 34,
   "metadata": {},
   "outputs": [],
   "source": [
    "X_test.loc[:,'Amount'] = X_test['Amount'] + 1e-9 # Shift all amounts by 1e-9"
   ]
  },
  {
   "cell_type": "code",
   "execution_count": 35,
   "metadata": {},
   "outputs": [],
   "source": [
    "X_test.loc[:,'Amount'] = sp.stats.boxcox(X_test['Amount'], lmbda=maxlog)"
   ]
  }
 ],
 "metadata": {
  "kernelspec": {
   "display_name": "Python 3",
   "language": "python",
   "name": "python3"
  },
  "language_info": {
   "codemirror_mode": {
    "name": "ipython",
    "version": 3
   },
   "file_extension": ".py",
   "mimetype": "text/x-python",
   "name": "python",
   "nbconvert_exporter": "python",
   "pygments_lexer": "ipython3",
   "version": "3.8.5"
  }
 },
 "nbformat": 4,
 "nbformat_minor": 4
}
